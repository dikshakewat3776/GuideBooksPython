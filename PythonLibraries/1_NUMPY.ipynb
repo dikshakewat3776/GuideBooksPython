{
  "nbformat": 4,
  "nbformat_minor": 0,
  "metadata": {
    "colab": {
      "name": "NUMPY.ipynb",
      "provenance": []
    },
    "kernelspec": {
      "name": "python3",
      "display_name": "Python 3"
    }
  },
  "cells": [
    {
      "cell_type": "markdown",
      "metadata": {
        "id": "9mzjw2b_3jsf"
      },
      "source": [
        "# **NUMPY**"
      ]
    },
    {
      "cell_type": "markdown",
      "metadata": {
        "id": "hS06tvjH3oWN"
      },
      "source": [
        "**What is Numpy?**\n",
        "\n",
        "1.  NumPy is the library that gives Python its ability to work with data at speed. \n",
        "\n",
        "2. Numpy has several advantages over data cleaning and manipulation. \n",
        "\n",
        "3. It allows for efficient operations on the data structures often used in machine learning: vectors, matrices, and tensors.\n",
        "\n",
        "4. It is a foundation package for scientific computing in python."
      ]
    },
    {
      "cell_type": "markdown",
      "metadata": {
        "id": "dH0wnEbE5VkS"
      },
      "source": [
        "**Why Numpy?**\n",
        "\n",
        "  1. Numpy ‘ndarray’ is a much more efficient way\n",
        "of storing and manipulating “numerical data”\n",
        "than the built-in Python data structures.\n",
        "\n",
        "  2.  Libraries written in lower-level languages, such\n",
        "as C, can operate on data stored in Numpy\n",
        "‘ndarray’ without copying any data. \n",
        "\n",
        "  3.  It provides a high-performance multidimensional array\n",
        "object, and tools for working with these arrays"
      ]
    },
    {
      "cell_type": "markdown",
      "metadata": {
        "id": "9GS2SZ9F1KeA"
      },
      "source": [
        "# Numpy numerical types:"
      ]
    },
    {
      "cell_type": "markdown",
      "metadata": {
        "id": "yd8_uqDh0yLo"
      },
      "source": [
        "bool This stores boolean (True or False) as a bit\n",
        "\n",
        "inti This is a platform integer (normally either int32 or int64)\n",
        "\n",
        "int8 This is an integer ranging from-128 to 127\n",
        "\n",
        "int16 This is an integer ranging from -32768 to 32767\n",
        "\n",
        "int32 This is an integer ranging from -2 ** 31 to 2 ** 31 -1\n",
        "\n",
        "int64 This is an integer ranging from -2 ** 63 to 2 ** 63 -1\n",
        "\n",
        "uint8 This is an unsigned integer ranging from 0 to 255\n",
        "\n",
        "uint16 This is an unsigned integer ranging from 0 to 65535\n",
        "\n",
        "uint32 This is an unsigned integer ranging from 0 to 2 ** 32 - 1\n",
        "\n",
        "uint64 This is an unsigned integer ranging from 0 to 2 ** 64 - 1\n",
        "\n",
        "float16 This is a half precision float with sign bit, 5 bits exponent, and 10 bits mantissa\n",
        "\n",
        "float32 This is a single precision float with sign bit, 8 bits exponent, and 23 bits mantissa\n",
        "\n",
        "float64 or float This is a double precision float with sign bit, 11 bits exponent, and 52 bits mantissa\n",
        "\n",
        "complex64 This is a complex number represented by two 32-bit floats (real and imaginary components)\n",
        "\n",
        "complex128 or complex This is a complex number represented by two 64-bit floats (real and imaginary components)"
      ]
    },
    {
      "cell_type": "markdown",
      "metadata": {
        "id": "ogfglskN1gpZ"
      },
      "source": [
        "# Numpy datatypes (dtypes)"
      ]
    },
    {
      "cell_type": "markdown",
      "metadata": {
        "id": "hlTZfInp1o7f"
      },
      "source": [
        "integer\n",
        "i\n",
        "\n",
        "Unsigned integer\n",
        "u\n",
        "\n",
        "Single precision float\n",
        "f\n",
        "\n",
        "Double precision float\n",
        "d\n",
        "\n",
        "bool\n",
        "b\n",
        "\n",
        "complex\n",
        "D\n",
        "\n",
        "string\n",
        "S\n",
        "\n",
        "unicode\n",
        "U\n",
        "\n",
        "Void\n",
        "V\n"
      ]
    },
    {
      "cell_type": "markdown",
      "metadata": {
        "id": "513CyVgW1PI8"
      },
      "source": [
        "# Import Convention"
      ]
    },
    {
      "cell_type": "code",
      "metadata": {
        "id": "8JCsIi-e2Vyk"
      },
      "source": [
        "import numpy as np"
      ],
      "execution_count": 1,
      "outputs": []
    },
    {
      "cell_type": "markdown",
      "metadata": {
        "id": "eR2ZZ7nHSLQc"
      },
      "source": [
        "# Creating Arrays with Numpy"
      ]
    },
    {
      "cell_type": "code",
      "metadata": {
        "id": "LHKbxQTmSOPn",
        "outputId": "057be89b-261b-4859-bc8a-24534c16e860",
        "colab": {
          "base_uri": "https://localhost:8080/"
        }
      },
      "source": [
        "# One dimensional array\n",
        "np.array([1,2,3])"
      ],
      "execution_count": 2,
      "outputs": [
        {
          "output_type": "execute_result",
          "data": {
            "text/plain": [
              "array([1, 2, 3])"
            ]
          },
          "metadata": {
            "tags": []
          },
          "execution_count": 2
        }
      ]
    },
    {
      "cell_type": "code",
      "metadata": {
        "id": "Oo-OfgStSVZy",
        "outputId": "5d627f8e-17aa-4262-d811-5b5c4ea31ce0",
        "colab": {
          "base_uri": "https://localhost:8080/"
        }
      },
      "source": [
        "# Two dimensional array\n",
        "np.array([(1,2,3),(4,5,6)])"
      ],
      "execution_count": 3,
      "outputs": [
        {
          "output_type": "execute_result",
          "data": {
            "text/plain": [
              "array([[1, 2, 3],\n",
              "       [4, 5, 6]])"
            ]
          },
          "metadata": {
            "tags": []
          },
          "execution_count": 3
        }
      ]
    },
    {
      "cell_type": "code",
      "metadata": {
        "id": "HqKTNiOPSatW",
        "outputId": "7bac5fe9-b061-499a-d51c-002b5befc065",
        "colab": {
          "base_uri": "https://localhost:8080/"
        }
      },
      "source": [
        "# 1D array of length 5 all values 0\n",
        "np.zeros(5)"
      ],
      "execution_count": 4,
      "outputs": [
        {
          "output_type": "execute_result",
          "data": {
            "text/plain": [
              "array([0., 0., 0., 0., 0.])"
            ]
          },
          "metadata": {
            "tags": []
          },
          "execution_count": 4
        }
      ]
    },
    {
      "cell_type": "code",
      "metadata": {
        "id": "Xg8gKjBBSiwB",
        "outputId": "c7a026b8-40bb-480a-e78a-f719e5f28f55",
        "colab": {
          "base_uri": "https://localhost:8080/"
        }
      },
      "source": [
        "# 3x3 array with all values 1\n",
        "np.ones((4,4)) "
      ],
      "execution_count": 5,
      "outputs": [
        {
          "output_type": "execute_result",
          "data": {
            "text/plain": [
              "array([[1., 1., 1., 1.],\n",
              "       [1., 1., 1., 1.],\n",
              "       [1., 1., 1., 1.],\n",
              "       [1., 1., 1., 1.]])"
            ]
          },
          "metadata": {
            "tags": []
          },
          "execution_count": 5
        }
      ]
    },
    {
      "cell_type": "code",
      "metadata": {
        "id": "0yP60vxfSs-q",
        "outputId": "9091fe26-c4fd-4d37-c578-cc4f2da0d504",
        "colab": {
          "base_uri": "https://localhost:8080/"
        }
      },
      "source": [
        "# 3x3 array of 0 with 1 on diagonal (Identity matrix)\n",
        "np.eye(3)"
      ],
      "execution_count": 6,
      "outputs": [
        {
          "output_type": "execute_result",
          "data": {
            "text/plain": [
              "array([[1., 0., 0.],\n",
              "       [0., 1., 0.],\n",
              "       [0., 0., 1.]])"
            ]
          },
          "metadata": {
            "tags": []
          },
          "execution_count": 6
        }
      ]
    },
    {
      "cell_type": "code",
      "metadata": {
        "id": "-79Kn7EXS0fi",
        "outputId": "161ddd02-998d-4f5a-d08f-9e5911e250ae",
        "colab": {
          "base_uri": "https://localhost:8080/"
        }
      },
      "source": [
        "# Array of 5 evenly divided values from 0 to 100\n",
        "np.linspace(0,100,5)"
      ],
      "execution_count": 9,
      "outputs": [
        {
          "output_type": "execute_result",
          "data": {
            "text/plain": [
              "array([  0.,  25.,  50.,  75., 100.])"
            ]
          },
          "metadata": {
            "tags": []
          },
          "execution_count": 9
        }
      ]
    },
    {
      "cell_type": "code",
      "metadata": {
        "id": "Ls3Wi7drS8D2",
        "outputId": "54f36ffc-2446-470a-ece9-49b2cc59bae9",
        "colab": {
          "base_uri": "https://localhost:8080/"
        }
      },
      "source": [
        "# Array of values from 0 to less than 10 with step 2\n",
        "np.arange(0,10,2)"
      ],
      "execution_count": 10,
      "outputs": [
        {
          "output_type": "execute_result",
          "data": {
            "text/plain": [
              "array([0, 2, 4, 6, 8])"
            ]
          },
          "metadata": {
            "tags": []
          },
          "execution_count": 10
        }
      ]
    },
    {
      "cell_type": "code",
      "metadata": {
        "id": "KPrQ6JK_TEDz",
        "outputId": "b82efbf6-d3a1-4fc8-9e4b-c4d2df8aadda",
        "colab": {
          "base_uri": "https://localhost:8080/"
        }
      },
      "source": [
        "# 3x3 array with all values 7\n",
        "np.full((3,3),7) "
      ],
      "execution_count": 11,
      "outputs": [
        {
          "output_type": "execute_result",
          "data": {
            "text/plain": [
              "array([[7, 7, 7],\n",
              "       [7, 7, 7],\n",
              "       [7, 7, 7]])"
            ]
          },
          "metadata": {
            "tags": []
          },
          "execution_count": 11
        }
      ]
    },
    {
      "cell_type": "code",
      "metadata": {
        "id": "FX7EqlVSTOfi",
        "outputId": "9e1a3eb4-6d0d-4b51-faec-ab706d3f7107",
        "colab": {
          "base_uri": "https://localhost:8080/"
        }
      },
      "source": [
        "# 4x4 array of random floats between 0–1\n",
        "np.random.rand(4,4)"
      ],
      "execution_count": 12,
      "outputs": [
        {
          "output_type": "execute_result",
          "data": {
            "text/plain": [
              "array([[0.07031811, 0.24283057, 0.06082343, 0.28774561],\n",
              "       [0.45957183, 0.82631869, 0.68464435, 0.14801713],\n",
              "       [0.47363432, 0.69825751, 0.34577729, 0.61328715],\n",
              "       [0.40320951, 0.05118985, 0.09456923, 0.54965382]])"
            ]
          },
          "metadata": {
            "tags": []
          },
          "execution_count": 12
        }
      ]
    },
    {
      "cell_type": "code",
      "metadata": {
        "id": "p7n-GIb6TV12",
        "outputId": "3b1b1406-d77c-4d3c-ef05-522a71bf1ca0",
        "colab": {
          "base_uri": "https://localhost:8080/"
        }
      },
      "source": [
        "# 5x5 array of random floats between 0–50\n",
        "np.random.rand(5,5)*50"
      ],
      "execution_count": 13,
      "outputs": [
        {
          "output_type": "execute_result",
          "data": {
            "text/plain": [
              "array([[29.89800963, 30.17215764, 33.00371883,  5.95841849, 34.86850958],\n",
              "       [18.12120953, 21.24048851,  6.52259681, 34.65740302, 44.30477751],\n",
              "       [33.80439682, 11.93699376, 30.51366729, 37.00102272, 22.86154232],\n",
              "       [ 6.42998321, 13.66414869, 25.36291656, 25.92720918, 49.90859785],\n",
              "       [47.43902109, 17.31208148, 34.52771729, 21.67901847,  8.31993315]])"
            ]
          },
          "metadata": {
            "tags": []
          },
          "execution_count": 13
        }
      ]
    },
    {
      "cell_type": "code",
      "metadata": {
        "id": "QOgalTDlTjKA",
        "outputId": "1f08fd27-cb6e-4742-a56e-5704be23e592",
        "colab": {
          "base_uri": "https://localhost:8080/"
        }
      },
      "source": [
        "# 2x3 array with random integers between 0–4\n",
        "np.random.randint(5,size=(2,3))"
      ],
      "execution_count": 14,
      "outputs": [
        {
          "output_type": "execute_result",
          "data": {
            "text/plain": [
              "array([[3, 2, 2],\n",
              "       [2, 4, 2]])"
            ]
          },
          "metadata": {
            "tags": []
          },
          "execution_count": 14
        }
      ]
    },
    {
      "cell_type": "markdown",
      "metadata": {
        "id": "nGkgErOSTwXk"
      },
      "source": [
        "# Inspecting Properties with Numpy"
      ]
    },
    {
      "cell_type": "code",
      "metadata": {
        "id": "6uRLDCNGTvnv",
        "outputId": "7642f523-3ee0-4a89-ae41-ce6c9c68b1a7",
        "colab": {
          "base_uri": "https://localhost:8080/"
        }
      },
      "source": [
        "a = np.random.rand(4,4)\n",
        "print(a)"
      ],
      "execution_count": 15,
      "outputs": [
        {
          "output_type": "stream",
          "text": [
            "[[0.07438066 0.24705275 0.34217944 0.21139295]\n",
            " [0.69304319 0.30873375 0.8823934  0.51744141]\n",
            " [0.34061855 0.40251931 0.70368763 0.06763129]\n",
            " [0.82827395 0.25055308 0.82667082 0.31159826]]\n"
          ],
          "name": "stdout"
        }
      ]
    },
    {
      "cell_type": "code",
      "metadata": {
        "id": "uF3sVcgwT-Cb",
        "outputId": "5a4fcc89-f3ea-4534-ca38-769f665f2fc8",
        "colab": {
          "base_uri": "https://localhost:8080/"
        }
      },
      "source": [
        "# Returns number of elements in array\n",
        "a.size"
      ],
      "execution_count": 16,
      "outputs": [
        {
          "output_type": "execute_result",
          "data": {
            "text/plain": [
              "16"
            ]
          },
          "metadata": {
            "tags": []
          },
          "execution_count": 16
        }
      ]
    },
    {
      "cell_type": "code",
      "metadata": {
        "id": "sM-oWU9BUBKB",
        "outputId": "222fc7e8-72dc-46fd-9c01-10779d20bf0d",
        "colab": {
          "base_uri": "https://localhost:8080/"
        }
      },
      "source": [
        "# Returns dimensions of array (rows,columns)\n",
        "a.shape"
      ],
      "execution_count": 17,
      "outputs": [
        {
          "output_type": "execute_result",
          "data": {
            "text/plain": [
              "(4, 4)"
            ]
          },
          "metadata": {
            "tags": []
          },
          "execution_count": 17
        }
      ]
    },
    {
      "cell_type": "code",
      "metadata": {
        "id": "g6MgQiFBULDj",
        "outputId": "5102fd2a-35d9-4048-b180-3dd5086aaa68",
        "colab": {
          "base_uri": "https://localhost:8080/"
        }
      },
      "source": [
        "#  Returns type of elements in array\n",
        "a.dtype"
      ],
      "execution_count": 18,
      "outputs": [
        {
          "output_type": "execute_result",
          "data": {
            "text/plain": [
              "dtype('float64')"
            ]
          },
          "metadata": {
            "tags": []
          },
          "execution_count": 18
        }
      ]
    },
    {
      "cell_type": "code",
      "metadata": {
        "id": "GvvTKqmSUQMx",
        "outputId": "852e16d2-dd35-4779-a229-b83aef8ebd5c",
        "colab": {
          "base_uri": "https://localhost:8080/"
        }
      },
      "source": [
        "# Convert array elements to type dtype\n",
        "a.astype(\"float32\")"
      ],
      "execution_count": 21,
      "outputs": [
        {
          "output_type": "execute_result",
          "data": {
            "text/plain": [
              "array([[0.07438066, 0.24705274, 0.34217945, 0.21139295],\n",
              "       [0.6930432 , 0.30873376, 0.8823934 , 0.5174414 ],\n",
              "       [0.34061855, 0.40251932, 0.7036876 , 0.06763129],\n",
              "       [0.82827395, 0.25055307, 0.8266708 , 0.31159824]], dtype=float32)"
            ]
          },
          "metadata": {
            "tags": []
          },
          "execution_count": 21
        }
      ]
    },
    {
      "cell_type": "code",
      "metadata": {
        "id": "XnkIovhtUexq",
        "outputId": "8cb00e3f-72d9-4b59-d0d0-b15572875e81",
        "colab": {
          "base_uri": "https://localhost:8080/"
        }
      },
      "source": [
        "# Convert array to a Python list\n",
        "a.tolist()"
      ],
      "execution_count": 22,
      "outputs": [
        {
          "output_type": "execute_result",
          "data": {
            "text/plain": [
              "[[0.07438066179858649,\n",
              "  0.24705274846435643,\n",
              "  0.34217944078914764,\n",
              "  0.211392952066906],\n",
              " [0.6930431898868162,\n",
              "  0.3087337522982101,\n",
              "  0.88239339604661,\n",
              "  0.5174414124768032],\n",
              " [0.3406185490336694,\n",
              "  0.40251931085261616,\n",
              "  0.7036876329532252,\n",
              "  0.06763128608867508],\n",
              " [0.828273948814062,\n",
              "  0.25055307565964546,\n",
              "  0.8266708196364178,\n",
              "  0.31159825538709585]]"
            ]
          },
          "metadata": {
            "tags": []
          },
          "execution_count": 22
        }
      ]
    },
    {
      "cell_type": "markdown",
      "metadata": {
        "id": "GNfAYsJzUx6f"
      },
      "source": [
        "# Copying, sorting, reshaping with Numpy"
      ]
    },
    {
      "cell_type": "code",
      "metadata": {
        "id": "OipXIJPGUi2d",
        "outputId": "330f40d6-ddd6-4a05-83b4-fcf99f877f4a",
        "colab": {
          "base_uri": "https://localhost:8080/"
        }
      },
      "source": [
        "b = np.copy(a)\n",
        "print(b)"
      ],
      "execution_count": 30,
      "outputs": [
        {
          "output_type": "stream",
          "text": [
            "[[0.07438066 0.24705275 0.34217944 0.21139295]\n",
            " [0.69304319 0.30873375 0.8823934  0.51744141]\n",
            " [0.34061855 0.40251931 0.70368763 0.06763129]\n",
            " [0.82827395 0.25055308 0.82667082 0.31159826]]\n"
          ],
          "name": "stdout"
        }
      ]
    },
    {
      "cell_type": "code",
      "metadata": {
        "id": "UgfrkZ0sVIeN",
        "outputId": "ff7f36bb-e0c7-46a6-aebb-35f6190a2fa6",
        "colab": {
          "base_uri": "https://localhost:8080/"
        }
      },
      "source": [
        "# Creates view of array elements with type dtype\n",
        "b.view(\"float32\")"
      ],
      "execution_count": 33,
      "outputs": [
        {
          "output_type": "execute_result",
          "data": {
            "text/plain": [
              "array([[ 8.7127756e+27,  1.3987613e+00, -5.9192478e-14,  1.6220527e+00,\n",
              "        -5.8778752e-24,  1.6710896e+00, -3.6681966e-22,  1.5863929e+00],\n",
              "       [-1.7600494e+25,  1.7982607e+00,  3.1396648e-06,  1.6543669e+00,\n",
              "         2.5148899e-27,  1.8455983e+00,  8.7743080e+06,  1.7543603e+00],\n",
              "       [-1.5691140e-01,  1.6703092e+00,  3.8198529e+16,  1.7012596e+00,\n",
              "        -3.7966100e+27,  1.8009218e+00, -6.9832744e-09,  1.3852625e+00],\n",
              "       [ 3.6231563e+18,  1.8320684e+00, -9.9082007e+02,  1.6252764e+00,\n",
              "         4.9690404e+17,  1.8316677e+00, -2.5536077e+09,  1.6557990e+00]],\n",
              "      dtype=float32)"
            ]
          },
          "metadata": {
            "tags": []
          },
          "execution_count": 33
        }
      ]
    },
    {
      "cell_type": "code",
      "metadata": {
        "id": "rLFWDk9lVR4d",
        "outputId": "9832d7df-6ee8-4b82-83bb-12b581fb4cfc",
        "colab": {
          "base_uri": "https://localhost:8080/"
        }
      },
      "source": [
        "c = np.array([61,27,36,76,23])\n",
        "print(c)"
      ],
      "execution_count": 40,
      "outputs": [
        {
          "output_type": "stream",
          "text": [
            "[61 27 36 76 23]\n"
          ],
          "name": "stdout"
        }
      ]
    },
    {
      "cell_type": "code",
      "metadata": {
        "id": "XjFjtR65Vfvr",
        "outputId": "c7977943-e6d6-49e4-c2d1-d86c36bfb6fc",
        "colab": {
          "base_uri": "https://localhost:8080/"
        }
      },
      "source": [
        "# Sorts array\n",
        "sorted = np.sort(c)\n",
        "print(sorted)"
      ],
      "execution_count": 42,
      "outputs": [
        {
          "output_type": "stream",
          "text": [
            "[23 27 36 61 76]\n"
          ],
          "name": "stdout"
        }
      ]
    },
    {
      "cell_type": "code",
      "metadata": {
        "id": "oPqomH-iWj_y",
        "outputId": "48168cdb-169c-441f-d5ed-209f7a982f26",
        "colab": {
          "base_uri": "https://localhost:8080/"
        }
      },
      "source": [
        " # sort along the first axis\n",
        "np.sort(c, axis=0) "
      ],
      "execution_count": 44,
      "outputs": [
        {
          "output_type": "execute_result",
          "data": {
            "text/plain": [
              "array([23, 27, 36, 61, 76])"
            ]
          },
          "metadata": {
            "tags": []
          },
          "execution_count": 44
        }
      ]
    },
    {
      "cell_type": "code",
      "metadata": {
        "id": "Ph5p1fASXE2e",
        "outputId": "153b0ba1-5451-4ad5-8ef0-3247ef8a692e",
        "colab": {
          "base_uri": "https://localhost:8080/"
        }
      },
      "source": [
        "# sort the flattened array\n",
        "np.sort(a, axis=None)"
      ],
      "execution_count": 48,
      "outputs": [
        {
          "output_type": "execute_result",
          "data": {
            "text/plain": [
              "array([0.06763129, 0.07438066, 0.21139295, 0.24705275, 0.25055308,\n",
              "       0.30873375, 0.31159826, 0.34061855, 0.34217944, 0.40251931,\n",
              "       0.51744141, 0.69304319, 0.70368763, 0.82667082, 0.82827395,\n",
              "       0.8823934 ])"
            ]
          },
          "metadata": {
            "tags": []
          },
          "execution_count": 48
        }
      ]
    },
    {
      "cell_type": "code",
      "metadata": {
        "id": "n9wGvQIbYDVo",
        "outputId": "5204e3cb-ba3c-4f5e-ce87-ece580081203",
        "colab": {
          "base_uri": "https://localhost:8080/"
        }
      },
      "source": [
        "d = np.array([(1,2,3),(4,5,6)])\n",
        "print(d)"
      ],
      "execution_count": 55,
      "outputs": [
        {
          "output_type": "stream",
          "text": [
            "[[1 2 3]\n",
            " [4 5 6]]\n"
          ],
          "name": "stdout"
        }
      ]
    },
    {
      "cell_type": "code",
      "metadata": {
        "id": "m6G7jquUX9fe",
        "outputId": "74cb9651-05c1-457f-ad0d-0f79c8e4d8f2",
        "colab": {
          "base_uri": "https://localhost:8080/"
        }
      },
      "source": [
        "# Flattens 2D array to 1D\n",
        "d.flatten()"
      ],
      "execution_count": 50,
      "outputs": [
        {
          "output_type": "execute_result",
          "data": {
            "text/plain": [
              "array([1, 2, 3, 4, 5, 6])"
            ]
          },
          "metadata": {
            "tags": []
          },
          "execution_count": 50
        }
      ]
    },
    {
      "cell_type": "code",
      "metadata": {
        "id": "xjwC9DUsYW_p",
        "outputId": "3a329d93-0319-451c-c296-9a9d6ecb7229",
        "colab": {
          "base_uri": "https://localhost:8080/"
        }
      },
      "source": [
        "# Transposes array (rows become columns and vice versa)\n",
        "d.T"
      ],
      "execution_count": 53,
      "outputs": [
        {
          "output_type": "execute_result",
          "data": {
            "text/plain": [
              "array([[1, 4],\n",
              "       [2, 5],\n",
              "       [3, 6]])"
            ]
          },
          "metadata": {
            "tags": []
          },
          "execution_count": 53
        }
      ]
    },
    {
      "cell_type": "code",
      "metadata": {
        "id": "iv5sJsGoYgD8",
        "outputId": "f5a66198-8874-4547-b585-78eebf5b2ddf",
        "colab": {
          "base_uri": "https://localhost:8080/"
        }
      },
      "source": [
        "e = np.arange(6)\n",
        "print(e)"
      ],
      "execution_count": 59,
      "outputs": [
        {
          "output_type": "stream",
          "text": [
            "[0 1 2 3 4 5]\n"
          ],
          "name": "stdout"
        }
      ]
    },
    {
      "cell_type": "code",
      "metadata": {
        "id": "2EpdWp_nZIMD",
        "outputId": "a8688173-5a70-44a5-b405-6ba993a196d5",
        "colab": {
          "base_uri": "https://localhost:8080/"
        }
      },
      "source": [
        "# Reshapes array to 3 rows, 2 columns\n",
        "e.reshape((3, 2))"
      ],
      "execution_count": 61,
      "outputs": [
        {
          "output_type": "execute_result",
          "data": {
            "text/plain": [
              "array([[0, 1],\n",
              "       [2, 3],\n",
              "       [4, 5]])"
            ]
          },
          "metadata": {
            "tags": []
          },
          "execution_count": 61
        }
      ]
    },
    {
      "cell_type": "code",
      "metadata": {
        "id": "mH3TZzVyZUyf",
        "outputId": "958a0864-1562-469d-e87a-1253b0748265",
        "colab": {
          "base_uri": "https://localhost:8080/"
        }
      },
      "source": [
        "# C-like index ordering\n",
        "np.reshape(a, (2, 3)) "
      ],
      "execution_count": 63,
      "outputs": [
        {
          "output_type": "execute_result",
          "data": {
            "text/plain": [
              "array([[0, 1, 2],\n",
              "       [3, 4, 5]])"
            ]
          },
          "metadata": {
            "tags": []
          },
          "execution_count": 63
        }
      ]
    },
    {
      "cell_type": "code",
      "metadata": {
        "id": "YMwvRyWPZa4C",
        "outputId": "880a9290-ceaf-4f1a-a570-9d9ba7fb0c3d",
        "colab": {
          "base_uri": "https://localhost:8080/"
        }
      },
      "source": [
        "# equivalent to C ravel then C reshape\n",
        "# reshape and ravel are defined in numpy C code: PyArray_Ravel(PyArrayObject *arr, NPY_ORDER order)\n",
        "np.reshape(np.ravel(a), (2, 3))"
      ],
      "execution_count": 64,
      "outputs": [
        {
          "output_type": "execute_result",
          "data": {
            "text/plain": [
              "array([[0, 1, 2],\n",
              "       [3, 4, 5]])"
            ]
          },
          "metadata": {
            "tags": []
          },
          "execution_count": 64
        }
      ]
    },
    {
      "cell_type": "code",
      "metadata": {
        "id": "28EnUbOVZlGO",
        "outputId": "0d2f35a2-04d7-4686-bff3-465ded33d305",
        "colab": {
          "base_uri": "https://localhost:8080/"
        }
      },
      "source": [
        "# Fortran-like index ordering\n",
        "np.reshape(a, (2, 3), order='F')"
      ],
      "execution_count": 65,
      "outputs": [
        {
          "output_type": "execute_result",
          "data": {
            "text/plain": [
              "array([[0, 2, 4],\n",
              "       [1, 3, 5]])"
            ]
          },
          "metadata": {
            "tags": []
          },
          "execution_count": 65
        }
      ]
    },
    {
      "cell_type": "code",
      "metadata": {
        "id": "yp5PKGhwZomY",
        "outputId": "7dd15d25-1c15-407f-83bd-62c10aa69d01",
        "colab": {
          "base_uri": "https://localhost:8080/"
        }
      },
      "source": [
        "# Changes array shape to 6: 1D \n",
        "np.reshape(a, 6)"
      ],
      "execution_count": 66,
      "outputs": [
        {
          "output_type": "execute_result",
          "data": {
            "text/plain": [
              "array([0, 1, 2, 3, 4, 5])"
            ]
          },
          "metadata": {
            "tags": []
          },
          "execution_count": 66
        }
      ]
    },
    {
      "cell_type": "code",
      "metadata": {
        "id": "vx0E3LVCazCC",
        "outputId": "e56ade76-f328-443d-967a-df21e8840732",
        "colab": {
          "base_uri": "https://localhost:8080/"
        }
      },
      "source": [
        "# reshape array\n",
        "data = np.zeros(50) \n",
        "out = data.reshape((2,5,5))\n",
        "print(out)\n",
        "print(out.size)\n",
        "print(out.shape)    "
      ],
      "execution_count": 79,
      "outputs": [
        {
          "output_type": "stream",
          "text": [
            "[[[0. 0. 0. 0. 0.]\n",
            "  [0. 0. 0. 0. 0.]\n",
            "  [0. 0. 0. 0. 0.]\n",
            "  [0. 0. 0. 0. 0.]\n",
            "  [0. 0. 0. 0. 0.]]\n",
            "\n",
            " [[0. 0. 0. 0. 0.]\n",
            "  [0. 0. 0. 0. 0.]\n",
            "  [0. 0. 0. 0. 0.]\n",
            "  [0. 0. 0. 0. 0.]\n",
            "  [0. 0. 0. 0. 0.]]]\n",
            "50\n",
            "(2, 5, 5)\n"
          ],
          "name": "stdout"
        }
      ]
    },
    {
      "cell_type": "markdown",
      "metadata": {
        "id": "Puo6N5emdOJs"
      },
      "source": [
        "# Adding/removing Elements with Numpy"
      ]
    },
    {
      "cell_type": "code",
      "metadata": {
        "id": "UpmOzL4xb0PL",
        "outputId": "14c64259-1530-4439-ff43-e5701fa23080",
        "colab": {
          "base_uri": "https://localhost:8080/"
        }
      },
      "source": [
        "f = np.arange(0,10,2)\n",
        "print(f)"
      ],
      "execution_count": 81,
      "outputs": [
        {
          "output_type": "stream",
          "text": [
            "[0 2 4 6 8]\n"
          ],
          "name": "stdout"
        }
      ]
    },
    {
      "cell_type": "code",
      "metadata": {
        "id": "EKzD2Jd5dt3e",
        "outputId": "cad89511-f94b-4a5b-c84d-cb93c96dbfef",
        "colab": {
          "base_uri": "https://localhost:8080/"
        }
      },
      "source": [
        "# Appends values to end of array\n",
        "np.append(f,\"10\")"
      ],
      "execution_count": 82,
      "outputs": [
        {
          "output_type": "execute_result",
          "data": {
            "text/plain": [
              "array(['0', '2', '4', '6', '8', '10'], dtype='<U21')"
            ]
          },
          "metadata": {
            "tags": []
          },
          "execution_count": 82
        }
      ]
    },
    {
      "cell_type": "code",
      "metadata": {
        "id": "11JhA6TRd4TZ",
        "outputId": "e24a0345-ecba-4e72-e7b8-91fd0ed8e0e3",
        "colab": {
          "base_uri": "https://localhost:8080/"
        }
      },
      "source": [
        "# Inserts values into array before index 3\n",
        "np.insert(f,3,5) "
      ],
      "execution_count": 84,
      "outputs": [
        {
          "output_type": "execute_result",
          "data": {
            "text/plain": [
              "array([0, 2, 4, 5, 6, 8])"
            ]
          },
          "metadata": {
            "tags": []
          },
          "execution_count": 84
        }
      ]
    },
    {
      "cell_type": "code",
      "metadata": {
        "id": "3KXh-qG0eF1Z",
        "outputId": "65171d72-4c01-4e30-bbb7-412e1c85f7d2",
        "colab": {
          "base_uri": "https://localhost:8080/"
        }
      },
      "source": [
        "# Deletes /data on index 3 of array\n",
        "np.delete(f,3,axis=0) "
      ],
      "execution_count": 87,
      "outputs": [
        {
          "output_type": "execute_result",
          "data": {
            "text/plain": [
              "array([0, 2, 4, 8])"
            ]
          },
          "metadata": {
            "tags": []
          },
          "execution_count": 87
        }
      ]
    },
    {
      "cell_type": "code",
      "metadata": {
        "id": "3kYwGNzvegA2",
        "outputId": "583838b2-96d6-47af-abf6-e342dc6176f7",
        "colab": {
          "base_uri": "https://localhost:8080/"
        }
      },
      "source": [
        "# Deletes column on index 2 of array\n",
        "np.delete(b,2,axis=1) "
      ],
      "execution_count": 89,
      "outputs": [
        {
          "output_type": "execute_result",
          "data": {
            "text/plain": [
              "array([[0.07438066, 0.21139295, 0.34217944],\n",
              "       [0.30873375, 0.51744141, 0.8823934 ],\n",
              "       [0.06763129, 0.34061855, 0.70368763],\n",
              "       [0.25055308, 0.31159826, 0.82827395]])"
            ]
          },
          "metadata": {
            "tags": []
          },
          "execution_count": 89
        }
      ]
    },
    {
      "cell_type": "markdown",
      "metadata": {
        "id": "scgCeBGRevmN"
      },
      "source": [
        "# Combining, splitting with Numpy"
      ]
    },
    {
      "cell_type": "code",
      "metadata": {
        "id": "ZQnHqhpjes-X",
        "outputId": "f1ccf40a-90c9-428e-f2dc-7d4b10285b49",
        "colab": {
          "base_uri": "https://localhost:8080/"
        }
      },
      "source": [
        "arr1 = np.arange(0,100,3)\n",
        "arr2 = np.arange(0,100,10)\n",
        "print(arr1)\n",
        "print(arr2)"
      ],
      "execution_count": 92,
      "outputs": [
        {
          "output_type": "stream",
          "text": [
            "[ 0  3  6  9 12 15 18 21 24 27 30 33 36 39 42 45 48 51 54 57 60 63 66 69\n",
            " 72 75 78 81 84 87 90 93 96 99]\n",
            "[ 0 10 20 30 40 50 60 70 80 90]\n"
          ],
          "name": "stdout"
        }
      ]
    },
    {
      "cell_type": "code",
      "metadata": {
        "id": "7ckmU2aGfKIc",
        "outputId": "f755c197-2736-408c-e55b-3a76cf0f855b",
        "colab": {
          "base_uri": "https://localhost:8080/"
        }
      },
      "source": [
        "# Adds arr2 as rows to the end of arr1\n",
        "np.concatenate((arr1,arr2),axis=0)"
      ],
      "execution_count": 93,
      "outputs": [
        {
          "output_type": "execute_result",
          "data": {
            "text/plain": [
              "array([ 0,  3,  6,  9, 12, 15, 18, 21, 24, 27, 30, 33, 36, 39, 42, 45, 48,\n",
              "       51, 54, 57, 60, 63, 66, 69, 72, 75, 78, 81, 84, 87, 90, 93, 96, 99,\n",
              "        0, 10, 20, 30, 40, 50, 60, 70, 80, 90])"
            ]
          },
          "metadata": {
            "tags": []
          },
          "execution_count": 93
        }
      ]
    },
    {
      "cell_type": "code",
      "metadata": {
        "id": "3pEXOzfrfPmR",
        "outputId": "8e01b562-cf1c-4236-a88d-7a7f7e9f726f",
        "colab": {
          "base_uri": "https://localhost:8080/"
        }
      },
      "source": [
        "# Adds arr2 as columns to end of arr1\n",
        "arr_c1 = np.full((3,3),7) \n",
        "arr_c2 = np.full((3,3),14) \n",
        "np.concatenate((arr_c1,arr_c2),axis=1)"
      ],
      "execution_count": 96,
      "outputs": [
        {
          "output_type": "execute_result",
          "data": {
            "text/plain": [
              "array([[ 7,  7,  7, 14, 14, 14],\n",
              "       [ 7,  7,  7, 14, 14, 14],\n",
              "       [ 7,  7,  7, 14, 14, 14]])"
            ]
          },
          "metadata": {
            "tags": []
          },
          "execution_count": 96
        }
      ]
    },
    {
      "cell_type": "code",
      "metadata": {
        "id": "ohX_GdPKfvBk",
        "outputId": "4b15f428-0236-4d1e-9f55-1dab450c8aa1",
        "colab": {
          "base_uri": "https://localhost:8080/"
        }
      },
      "source": [
        "# Splits arr into 2 sub-arrays\n",
        "np.split(arr1,2)"
      ],
      "execution_count": 98,
      "outputs": [
        {
          "output_type": "execute_result",
          "data": {
            "text/plain": [
              "[array([ 0,  3,  6,  9, 12, 15, 18, 21, 24, 27, 30, 33, 36, 39, 42, 45, 48]),\n",
              " array([51, 54, 57, 60, 63, 66, 69, 72, 75, 78, 81, 84, 87, 90, 93, 96, 99])]"
            ]
          },
          "metadata": {
            "tags": []
          },
          "execution_count": 98
        }
      ]
    },
    {
      "cell_type": "code",
      "metadata": {
        "id": "zkKyaBAkf4GM",
        "outputId": "33eed86c-1d19-4174-b019-43c4357bf96c",
        "colab": {
          "base_uri": "https://localhost:8080/"
        }
      },
      "source": [
        "# Splits arr horizontally on the 5th index\n",
        "np.hsplit(arr2,2) "
      ],
      "execution_count": 106,
      "outputs": [
        {
          "output_type": "execute_result",
          "data": {
            "text/plain": [
              "[array([ 0, 10, 20, 30, 40]), array([50, 60, 70, 80, 90])]"
            ]
          },
          "metadata": {
            "tags": []
          },
          "execution_count": 106
        }
      ]
    },
    {
      "cell_type": "markdown",
      "metadata": {
        "id": "g_-D3NVigVI9"
      },
      "source": [
        "# Indexing,slicing,subsetting with Numpy"
      ]
    },
    {
      "cell_type": "code",
      "metadata": {
        "id": "W3r_pSmsgOwX",
        "outputId": "9136fae0-81b4-4930-adf4-65a81c7926e3",
        "colab": {
          "base_uri": "https://localhost:8080/"
        }
      },
      "source": [
        "# Returns the element at index 5\n",
        "arr1[5] "
      ],
      "execution_count": 107,
      "outputs": [
        {
          "output_type": "execute_result",
          "data": {
            "text/plain": [
              "15"
            ]
          },
          "metadata": {
            "tags": []
          },
          "execution_count": 107
        }
      ]
    },
    {
      "cell_type": "code",
      "metadata": {
        "id": "VmODQ6zRglF4",
        "outputId": "03cdcdcf-d0c3-4172-fec9-17aeb05ea236",
        "colab": {
          "base_uri": "https://localhost:8080/"
        }
      },
      "source": [
        "# Returns the 2D array element on index [2][3]\n",
        "b[2,3]"
      ],
      "execution_count": 114,
      "outputs": [
        {
          "output_type": "execute_result",
          "data": {
            "text/plain": [
              "0.7036876329532252"
            ]
          },
          "metadata": {
            "tags": []
          },
          "execution_count": 114
        }
      ]
    },
    {
      "cell_type": "code",
      "metadata": {
        "id": "9bXijhpmg0cW",
        "outputId": "d9942262-065b-4277-8784-2c55ec7364c0",
        "colab": {
          "base_uri": "https://localhost:8080/"
        }
      },
      "source": [
        "# Assigns array element on index 1 the value 4\n",
        "arr1[1]=4\n",
        "print(arr1)"
      ],
      "execution_count": 116,
      "outputs": [
        {
          "output_type": "stream",
          "text": [
            "[ 0  4  6  9 12 15 18 21 24 27 30 33 36 39 42 45 48 51 54 57 60 63 66 69\n",
            " 72 75 78 81 84 87 90 93 96 99]\n"
          ],
          "name": "stdout"
        }
      ]
    },
    {
      "cell_type": "code",
      "metadata": {
        "id": "Ez5rI2lfhA-a",
        "outputId": "992bbf17-931a-4ae5-9d2f-66830ead85da",
        "colab": {
          "base_uri": "https://localhost:8080/"
        }
      },
      "source": [
        "# Assigns array element on index [1][3] the value 10\n",
        "arr_c1[1,2]=10\n",
        "print(arr_c1)"
      ],
      "execution_count": 118,
      "outputs": [
        {
          "output_type": "stream",
          "text": [
            "[[ 7  7  7]\n",
            " [ 7  7 10]\n",
            " [ 7  7  7]]\n"
          ],
          "name": "stdout"
        }
      ]
    },
    {
      "cell_type": "code",
      "metadata": {
        "id": "D8ullRnihM-1",
        "outputId": "49a50591-5c75-4177-c1ef-242f13d18b36",
        "colab": {
          "base_uri": "https://localhost:8080/"
        }
      },
      "source": [
        "# Returns the elements at indices 0,1,2\n",
        "arr1[0:3]"
      ],
      "execution_count": 120,
      "outputs": [
        {
          "output_type": "execute_result",
          "data": {
            "text/plain": [
              "array([0, 4, 6])"
            ]
          },
          "metadata": {
            "tags": []
          },
          "execution_count": 120
        }
      ]
    },
    {
      "cell_type": "code",
      "metadata": {
        "id": "ie29xy5RhVCY",
        "outputId": "8556d686-a091-47d5-a956-43d5b13980f2",
        "colab": {
          "base_uri": "https://localhost:8080/"
        }
      },
      "source": [
        "# On a 2D array: returns rows 0,1,2\n",
        "arr_c2[0:3]"
      ],
      "execution_count": 123,
      "outputs": [
        {
          "output_type": "execute_result",
          "data": {
            "text/plain": [
              "array([[14, 14, 14],\n",
              "       [14, 14, 14],\n",
              "       [14, 14, 14]])"
            ]
          },
          "metadata": {
            "tags": []
          },
          "execution_count": 123
        }
      ]
    },
    {
      "cell_type": "code",
      "metadata": {
        "id": "gFWKz0qJhguf",
        "outputId": "bf9c2246-b24d-4a15-b1bc-752de24d72c7",
        "colab": {
          "base_uri": "https://localhost:8080/"
        }
      },
      "source": [
        "#  Returns the elements on rows 0,1,2 at column 1\n",
        "arr_c2[0:3,1]"
      ],
      "execution_count": 124,
      "outputs": [
        {
          "output_type": "execute_result",
          "data": {
            "text/plain": [
              "array([14, 14, 14])"
            ]
          },
          "metadata": {
            "tags": []
          },
          "execution_count": 124
        }
      ]
    },
    {
      "cell_type": "code",
      "metadata": {
        "id": "NrUJBldqhqD8",
        "outputId": "ba7d5bcd-6e66-4394-9971-4c5e974fb4ad",
        "colab": {
          "base_uri": "https://localhost:8080/"
        }
      },
      "source": [
        "# Returns the elements at indices 0,1\n",
        "arr2[:2]"
      ],
      "execution_count": 125,
      "outputs": [
        {
          "output_type": "execute_result",
          "data": {
            "text/plain": [
              "array([ 0, 10])"
            ]
          },
          "metadata": {
            "tags": []
          },
          "execution_count": 125
        }
      ]
    },
    {
      "cell_type": "code",
      "metadata": {
        "id": "Fr8ivOYahwGB",
        "outputId": "e166a62c-537d-4f85-92dd-5ce49f3bf282",
        "colab": {
          "base_uri": "https://localhost:8080/"
        }
      },
      "source": [
        "# On a 2D array: returns rows 0,1\n",
        "arr_c1[:2]"
      ],
      "execution_count": 126,
      "outputs": [
        {
          "output_type": "execute_result",
          "data": {
            "text/plain": [
              "array([[ 7,  7,  7],\n",
              "       [ 7,  7, 10]])"
            ]
          },
          "metadata": {
            "tags": []
          },
          "execution_count": 126
        }
      ]
    },
    {
      "cell_type": "code",
      "metadata": {
        "id": "5m26k6Ygh32f",
        "outputId": "1cf6ecad-02a4-4075-bb55-235ced869599",
        "colab": {
          "base_uri": "https://localhost:8080/"
        }
      },
      "source": [
        "# Returns the elements at index 1 on all rows\n",
        "arr_c1[:,1]"
      ],
      "execution_count": 127,
      "outputs": [
        {
          "output_type": "execute_result",
          "data": {
            "text/plain": [
              "array([7, 7, 7])"
            ]
          },
          "metadata": {
            "tags": []
          },
          "execution_count": 127
        }
      ]
    },
    {
      "cell_type": "code",
      "metadata": {
        "id": "hKuMOOl3h9iC",
        "outputId": "a7502281-da30-4814-ab5a-fc8f2c1da30d",
        "colab": {
          "base_uri": "https://localhost:8080/"
        }
      },
      "source": [
        "# Returns an array with boolean values\n",
        "arr_c1<10"
      ],
      "execution_count": 129,
      "outputs": [
        {
          "output_type": "execute_result",
          "data": {
            "text/plain": [
              "array([[ True,  True,  True],\n",
              "       [ True,  True, False],\n",
              "       [ True,  True,  True]])"
            ]
          },
          "metadata": {
            "tags": []
          },
          "execution_count": 129
        }
      ]
    },
    {
      "cell_type": "code",
      "metadata": {
        "id": "BjVNucyxiGG0",
        "outputId": "5fb7879f-0743-4e19-e1a8-fbeee3f49b0f",
        "colab": {
          "base_uri": "https://localhost:8080/"
        }
      },
      "source": [
        "# Returns an array with boolean values\n",
        "bo = arr_c1>7\n",
        "print(bo)"
      ],
      "execution_count": 142,
      "outputs": [
        {
          "output_type": "stream",
          "text": [
            "[[False False False]\n",
            " [False False  True]\n",
            " [False False False]]\n"
          ],
          "name": "stdout"
        }
      ]
    },
    {
      "cell_type": "code",
      "metadata": {
        "id": "YwtJIiB2ifqy",
        "outputId": "a74a3368-5206-42f9-a6b6-7134f96e3ba6",
        "colab": {
          "base_uri": "https://localhost:8080/"
        }
      },
      "source": [
        "# Inverts a boolean array\n",
        "~bo"
      ],
      "execution_count": 143,
      "outputs": [
        {
          "output_type": "execute_result",
          "data": {
            "text/plain": [
              "array([[ True,  True,  True],\n",
              "       [ True,  True, False],\n",
              "       [ True,  True,  True]])"
            ]
          },
          "metadata": {
            "tags": []
          },
          "execution_count": 143
        }
      ]
    },
    {
      "cell_type": "code",
      "metadata": {
        "id": "l8nfiXvbi7BT",
        "outputId": "2813261b-0a87-4b9c-d67b-7ed82481b3f1",
        "colab": {
          "base_uri": "https://localhost:8080/"
        }
      },
      "source": [
        "# Returns array elements greater than 7\n",
        "arr_c1[arr_c1>7]"
      ],
      "execution_count": 147,
      "outputs": [
        {
          "output_type": "execute_result",
          "data": {
            "text/plain": [
              "array([10])"
            ]
          },
          "metadata": {
            "tags": []
          },
          "execution_count": 147
        }
      ]
    },
    {
      "cell_type": "markdown",
      "metadata": {
        "id": "cowoRBFJjP6-"
      },
      "source": [
        "# Scalar Math with Numpy"
      ]
    },
    {
      "cell_type": "code",
      "metadata": {
        "id": "gbEI14cBjcJI",
        "outputId": "38c1f16a-0479-4ddb-b55c-64cc65839c52",
        "colab": {
          "base_uri": "https://localhost:8080/"
        }
      },
      "source": [
        "#  Add 1 to each array elementv\n",
        "np.add(arr1,1)"
      ],
      "execution_count": 149,
      "outputs": [
        {
          "output_type": "execute_result",
          "data": {
            "text/plain": [
              "array([  1,   5,   7,  10,  13,  16,  19,  22,  25,  28,  31,  34,  37,\n",
              "        40,  43,  46,  49,  52,  55,  58,  61,  64,  67,  70,  73,  76,\n",
              "        79,  82,  85,  88,  91,  94,  97, 100])"
            ]
          },
          "metadata": {
            "tags": []
          },
          "execution_count": 149
        }
      ]
    },
    {
      "cell_type": "code",
      "metadata": {
        "id": "5sOLD16sopHp",
        "outputId": "c826adbf-ca8e-409a-83d9-0bc52422b597",
        "colab": {
          "base_uri": "https://localhost:8080/"
        }
      },
      "source": [
        "# Subtract 2 from each array element\n",
        "np.subtract(arr2,2)"
      ],
      "execution_count": 150,
      "outputs": [
        {
          "output_type": "execute_result",
          "data": {
            "text/plain": [
              "array([-2,  8, 18, 28, 38, 48, 58, 68, 78, 88])"
            ]
          },
          "metadata": {
            "tags": []
          },
          "execution_count": 150
        }
      ]
    },
    {
      "cell_type": "code",
      "metadata": {
        "id": "zjSSGLeTo3du",
        "outputId": "cd3453f3-7dc0-4d3d-bc32-3eee36da68e0",
        "colab": {
          "base_uri": "https://localhost:8080/"
        }
      },
      "source": [
        "# Multiply each array element by 3\n",
        "np.multiply(arr2,3)"
      ],
      "execution_count": 151,
      "outputs": [
        {
          "output_type": "execute_result",
          "data": {
            "text/plain": [
              "array([  0,  30,  60,  90, 120, 150, 180, 210, 240, 270])"
            ]
          },
          "metadata": {
            "tags": []
          },
          "execution_count": 151
        }
      ]
    },
    {
      "cell_type": "code",
      "metadata": {
        "id": "ftoeKTqOo-Rr",
        "outputId": "6825fd67-85db-4722-87c2-633a753579e2",
        "colab": {
          "base_uri": "https://localhost:8080/"
        }
      },
      "source": [
        "#   Divide each array element by 4\n",
        "np.divide(arr2,5)"
      ],
      "execution_count": 152,
      "outputs": [
        {
          "output_type": "execute_result",
          "data": {
            "text/plain": [
              "array([ 0.,  2.,  4.,  6.,  8., 10., 12., 14., 16., 18.])"
            ]
          },
          "metadata": {
            "tags": []
          },
          "execution_count": 152
        }
      ]
    },
    {
      "cell_type": "code",
      "metadata": {
        "id": "vWck3XYspIS_",
        "outputId": "4fca98a0-a210-4f0c-f996-ea3f1328576c",
        "colab": {
          "base_uri": "https://localhost:8080/"
        }
      },
      "source": [
        "# Raise each array element to the 5th power\n",
        "np.power(arr2,5) "
      ],
      "execution_count": 153,
      "outputs": [
        {
          "output_type": "execute_result",
          "data": {
            "text/plain": [
              "array([         0,     100000,    3200000,   24300000,  102400000,\n",
              "        312500000,  777600000, 1680700000, 3276800000, 5904900000])"
            ]
          },
          "metadata": {
            "tags": []
          },
          "execution_count": 153
        }
      ]
    },
    {
      "cell_type": "markdown",
      "metadata": {
        "id": "CD7-3g4JpQW8"
      },
      "source": [
        "# Vector Math with numpy"
      ]
    },
    {
      "cell_type": "code",
      "metadata": {
        "id": "6saMKKV1pUwO",
        "outputId": "b49807eb-9be0-4659-9470-ee5b8477acdf",
        "colab": {
          "base_uri": "https://localhost:8080/"
        }
      },
      "source": [
        "# Elementwise add array2 to array1\n",
        "np.add(arr_c1,arr_c2)"
      ],
      "execution_count": 154,
      "outputs": [
        {
          "output_type": "execute_result",
          "data": {
            "text/plain": [
              "array([[21, 21, 21],\n",
              "       [21, 21, 24],\n",
              "       [21, 21, 21]])"
            ]
          },
          "metadata": {
            "tags": []
          },
          "execution_count": 154
        }
      ]
    },
    {
      "cell_type": "code",
      "metadata": {
        "id": "0IG58XyhpcHn",
        "outputId": "9c79ab73-901b-4d0c-9384-78a28088d4cd",
        "colab": {
          "base_uri": "https://localhost:8080/"
        }
      },
      "source": [
        "# Elementwise subtract array2 from array1\n",
        "np.subtract(arr_c1,arr_c2)"
      ],
      "execution_count": 155,
      "outputs": [
        {
          "output_type": "execute_result",
          "data": {
            "text/plain": [
              "array([[-7, -7, -7],\n",
              "       [-7, -7, -4],\n",
              "       [-7, -7, -7]])"
            ]
          },
          "metadata": {
            "tags": []
          },
          "execution_count": 155
        }
      ]
    },
    {
      "cell_type": "code",
      "metadata": {
        "id": "PjUHSz-ypoYe",
        "outputId": "814c1673-1f6d-4592-b51f-9e5d0774ee78",
        "colab": {
          "base_uri": "https://localhost:8080/"
        }
      },
      "source": [
        "# Elementwise multiply array1 by array2\n",
        "np.multiply(arr_c1,arr_c1)"
      ],
      "execution_count": 156,
      "outputs": [
        {
          "output_type": "execute_result",
          "data": {
            "text/plain": [
              "array([[ 49,  49,  49],\n",
              "       [ 49,  49, 100],\n",
              "       [ 49,  49,  49]])"
            ]
          },
          "metadata": {
            "tags": []
          },
          "execution_count": 156
        }
      ]
    },
    {
      "cell_type": "code",
      "metadata": {
        "id": "z_an7N-Cpul7",
        "outputId": "f9606ce8-e620-4d2c-f394-4c1ac52501f7",
        "colab": {
          "base_uri": "https://localhost:8080/"
        }
      },
      "source": [
        "# Elementwise divide array1 by array2\n",
        "np.divide(arr_c1,arr_c2) "
      ],
      "execution_count": 157,
      "outputs": [
        {
          "output_type": "execute_result",
          "data": {
            "text/plain": [
              "array([[0.5       , 0.5       , 0.5       ],\n",
              "       [0.5       , 0.5       , 0.71428571],\n",
              "       [0.5       , 0.5       , 0.5       ]])"
            ]
          },
          "metadata": {
            "tags": []
          },
          "execution_count": 157
        }
      ]
    },
    {
      "cell_type": "code",
      "metadata": {
        "id": "7I8fvg7up84N",
        "outputId": "10edba4b-274a-427f-b5a8-47a04411c861",
        "colab": {
          "base_uri": "https://localhost:8080/"
        }
      },
      "source": [
        "# Elementwise raise array1 raised to the power of array2\n",
        "np.power(arr_c1,arr_c2)"
      ],
      "execution_count": 159,
      "outputs": [
        {
          "output_type": "execute_result",
          "data": {
            "text/plain": [
              "array([[   678223072849,    678223072849,    678223072849],\n",
              "       [   678223072849,    678223072849, 100000000000000],\n",
              "       [   678223072849,    678223072849,    678223072849]])"
            ]
          },
          "metadata": {
            "tags": []
          },
          "execution_count": 159
        }
      ]
    },
    {
      "cell_type": "code",
      "metadata": {
        "id": "8U5rSy2mqKPN",
        "outputId": "4838bd61-a25d-434d-b7ac-60c4649828ee",
        "colab": {
          "base_uri": "https://localhost:8080/"
        }
      },
      "source": [
        "# Returns True if the arrays have the same elements and shape\n",
        "np.array_equal(arr_c1,arr_c2)"
      ],
      "execution_count": 160,
      "outputs": [
        {
          "output_type": "execute_result",
          "data": {
            "text/plain": [
              "False"
            ]
          },
          "metadata": {
            "tags": []
          },
          "execution_count": 160
        }
      ]
    },
    {
      "cell_type": "code",
      "metadata": {
        "id": "onObVuDFqRWB",
        "outputId": "556537e5-471a-4f14-fe7d-8a4314294114",
        "colab": {
          "base_uri": "https://localhost:8080/"
        }
      },
      "source": [
        "# Square root of each element in the array\n",
        "np.sqrt(arr_c1)"
      ],
      "execution_count": 162,
      "outputs": [
        {
          "output_type": "execute_result",
          "data": {
            "text/plain": [
              "array([[2.64575131, 2.64575131, 2.64575131],\n",
              "       [2.64575131, 2.64575131, 3.16227766],\n",
              "       [2.64575131, 2.64575131, 2.64575131]])"
            ]
          },
          "metadata": {
            "tags": []
          },
          "execution_count": 162
        }
      ]
    },
    {
      "cell_type": "code",
      "metadata": {
        "id": "HqMrZvcoqV9y",
        "outputId": "a0f61530-c66b-4294-9ade-13f37e6a29a5",
        "colab": {
          "base_uri": "https://localhost:8080/"
        }
      },
      "source": [
        "# Sine of each element in the array\n",
        "np.sin(arr_c1)"
      ],
      "execution_count": 163,
      "outputs": [
        {
          "output_type": "execute_result",
          "data": {
            "text/plain": [
              "array([[ 0.6569866 ,  0.6569866 ,  0.6569866 ],\n",
              "       [ 0.6569866 ,  0.6569866 , -0.54402111],\n",
              "       [ 0.6569866 ,  0.6569866 ,  0.6569866 ]])"
            ]
          },
          "metadata": {
            "tags": []
          },
          "execution_count": 163
        }
      ]
    },
    {
      "cell_type": "code",
      "metadata": {
        "id": "48DhnZOfqg6S",
        "outputId": "357292a5-f633-440e-a467-10a14668cbbe",
        "colab": {
          "base_uri": "https://localhost:8080/"
        }
      },
      "source": [
        "# Natural log of each element in the array\n",
        "np.log(arr_c1)"
      ],
      "execution_count": 164,
      "outputs": [
        {
          "output_type": "execute_result",
          "data": {
            "text/plain": [
              "array([[1.94591015, 1.94591015, 1.94591015],\n",
              "       [1.94591015, 1.94591015, 2.30258509],\n",
              "       [1.94591015, 1.94591015, 1.94591015]])"
            ]
          },
          "metadata": {
            "tags": []
          },
          "execution_count": 164
        }
      ]
    },
    {
      "cell_type": "code",
      "metadata": {
        "id": "2eJE_V34qmHH",
        "outputId": "b4374177-4fef-46ca-dc26-52a431120afa",
        "colab": {
          "base_uri": "https://localhost:8080/"
        }
      },
      "source": [
        "# Absolute value of each element in the array\n",
        "np.abs(arr_c1)"
      ],
      "execution_count": 165,
      "outputs": [
        {
          "output_type": "execute_result",
          "data": {
            "text/plain": [
              "array([[ 7,  7,  7],\n",
              "       [ 7,  7, 10],\n",
              "       [ 7,  7,  7]])"
            ]
          },
          "metadata": {
            "tags": []
          },
          "execution_count": 165
        }
      ]
    },
    {
      "cell_type": "code",
      "metadata": {
        "id": "J4s4mCtrqrQ8",
        "outputId": "b4c386fc-88f7-4633-f787-1431ca399237",
        "colab": {
          "base_uri": "https://localhost:8080/"
        }
      },
      "source": [
        "# Rounds up to the nearest int\n",
        "np.ceil(arr1)"
      ],
      "execution_count": 166,
      "outputs": [
        {
          "output_type": "execute_result",
          "data": {
            "text/plain": [
              "array([ 0.,  4.,  6.,  9., 12., 15., 18., 21., 24., 27., 30., 33., 36.,\n",
              "       39., 42., 45., 48., 51., 54., 57., 60., 63., 66., 69., 72., 75.,\n",
              "       78., 81., 84., 87., 90., 93., 96., 99.])"
            ]
          },
          "metadata": {
            "tags": []
          },
          "execution_count": 166
        }
      ]
    },
    {
      "cell_type": "code",
      "metadata": {
        "id": "BWN1gOc2qwCu",
        "outputId": "bbc9e1ec-f85d-4e18-f830-5b30d805f78a",
        "colab": {
          "base_uri": "https://localhost:8080/"
        }
      },
      "source": [
        "# Rounds down to the nearest int\n",
        "np.floor(arr1)"
      ],
      "execution_count": 167,
      "outputs": [
        {
          "output_type": "execute_result",
          "data": {
            "text/plain": [
              "array([ 0.,  4.,  6.,  9., 12., 15., 18., 21., 24., 27., 30., 33., 36.,\n",
              "       39., 42., 45., 48., 51., 54., 57., 60., 63., 66., 69., 72., 75.,\n",
              "       78., 81., 84., 87., 90., 93., 96., 99.])"
            ]
          },
          "metadata": {
            "tags": []
          },
          "execution_count": 167
        }
      ]
    },
    {
      "cell_type": "code",
      "metadata": {
        "id": "Ikaw-wh-q1E6",
        "outputId": "625afd6b-2dc3-4937-dade-e352fa55e05e",
        "colab": {
          "base_uri": "https://localhost:8080/"
        }
      },
      "source": [
        "# Rounds to the nearest int\n",
        "np.round(arr1)"
      ],
      "execution_count": 170,
      "outputs": [
        {
          "output_type": "execute_result",
          "data": {
            "text/plain": [
              "array([ 0,  4,  6,  9, 12, 15, 18, 21, 24, 27, 30, 33, 36, 39, 42, 45, 48,\n",
              "       51, 54, 57, 60, 63, 66, 69, 72, 75, 78, 81, 84, 87, 90, 93, 96, 99])"
            ]
          },
          "metadata": {
            "tags": []
          },
          "execution_count": 170
        }
      ]
    },
    {
      "cell_type": "markdown",
      "metadata": {
        "id": "Mp80fGtsrDOb"
      },
      "source": [
        "# Statistics with Numpy"
      ]
    },
    {
      "cell_type": "code",
      "metadata": {
        "id": "gCmsJ7Quq8q9",
        "outputId": "785e6f06-b0cf-49ad-941a-54ac621a9396",
        "colab": {
          "base_uri": "https://localhost:8080/"
        }
      },
      "source": [
        "# Returns mean along specific axis\n",
        "np.mean(arr_c1,axis=0)"
      ],
      "execution_count": 171,
      "outputs": [
        {
          "output_type": "execute_result",
          "data": {
            "text/plain": [
              "array([7., 7., 8.])"
            ]
          },
          "metadata": {
            "tags": []
          },
          "execution_count": 171
        }
      ]
    },
    {
      "cell_type": "code",
      "metadata": {
        "id": "KVfJgzOJrVY3",
        "outputId": "9ef8bcde-71fa-40fc-9f7f-5b60f47b6774",
        "colab": {
          "base_uri": "https://localhost:8080/"
        }
      },
      "source": [
        "np.mean(arr_c1,axis=1)"
      ],
      "execution_count": 172,
      "outputs": [
        {
          "output_type": "execute_result",
          "data": {
            "text/plain": [
              "array([7., 8., 7.])"
            ]
          },
          "metadata": {
            "tags": []
          },
          "execution_count": 172
        }
      ]
    },
    {
      "cell_type": "code",
      "metadata": {
        "id": "g63li7pMrXDt",
        "outputId": "37c8b945-1918-4c1d-e21b-522aea54e33c",
        "colab": {
          "base_uri": "https://localhost:8080/"
        }
      },
      "source": [
        "# Returns sum of array\n",
        "arr1.sum()"
      ],
      "execution_count": 173,
      "outputs": [
        {
          "output_type": "execute_result",
          "data": {
            "text/plain": [
              "1684"
            ]
          },
          "metadata": {
            "tags": []
          },
          "execution_count": 173
        }
      ]
    },
    {
      "cell_type": "code",
      "metadata": {
        "id": "gogIbRmYrd0K",
        "outputId": "aa69739f-4cef-402b-cf41-56fdbca63e18",
        "colab": {
          "base_uri": "https://localhost:8080/"
        }
      },
      "source": [
        "# Returns minimum value of arr\n",
        "arr1.min()"
      ],
      "execution_count": 174,
      "outputs": [
        {
          "output_type": "execute_result",
          "data": {
            "text/plain": [
              "0"
            ]
          },
          "metadata": {
            "tags": []
          },
          "execution_count": 174
        }
      ]
    },
    {
      "cell_type": "code",
      "metadata": {
        "id": "lrAXd6hrrkVw",
        "outputId": "1a7be0aa-4f40-43af-846d-d3a891c30ce3",
        "colab": {
          "base_uri": "https://localhost:8080/"
        }
      },
      "source": [
        "#  Returns maximum value\n",
        "arr1.max()"
      ],
      "execution_count": 178,
      "outputs": [
        {
          "output_type": "execute_result",
          "data": {
            "text/plain": [
              "99"
            ]
          },
          "metadata": {
            "tags": []
          },
          "execution_count": 178
        }
      ]
    },
    {
      "cell_type": "code",
      "metadata": {
        "id": "4B7Hd1bBr35d",
        "outputId": "f6164ad4-bf8d-4c41-966b-4e41af133a4d",
        "colab": {
          "base_uri": "https://localhost:8080/"
        }
      },
      "source": [
        "#  Returns the variance of array\n",
        "np.var(arr2)"
      ],
      "execution_count": 179,
      "outputs": [
        {
          "output_type": "execute_result",
          "data": {
            "text/plain": [
              "825.0"
            ]
          },
          "metadata": {
            "tags": []
          },
          "execution_count": 179
        }
      ]
    },
    {
      "cell_type": "code",
      "metadata": {
        "id": "wCspNvzWr9D5",
        "outputId": "7d5cb799-45b8-4784-b8f1-d6a0021c410a",
        "colab": {
          "base_uri": "https://localhost:8080/"
        }
      },
      "source": [
        "# Returns the standard deviation of specific axis\n",
        "np.std(arr_c2,axis=1)"
      ],
      "execution_count": 181,
      "outputs": [
        {
          "output_type": "execute_result",
          "data": {
            "text/plain": [
              "array([0., 0., 0.])"
            ]
          },
          "metadata": {
            "tags": []
          },
          "execution_count": 181
        }
      ]
    },
    {
      "cell_type": "code",
      "metadata": {
        "id": "ho2z32JHsFD9",
        "outputId": "1ffc9f67-151b-4a76-ea33-784da52a49c7",
        "colab": {
          "base_uri": "https://localhost:8080/"
        }
      },
      "source": [
        "#  Returns correlation coefficient of array\n",
        "np.corrcoef(arr_c1)"
      ],
      "execution_count": 186,
      "outputs": [
        {
          "output_type": "stream",
          "text": [
            "/usr/local/lib/python3.6/dist-packages/numpy/lib/function_base.py:2534: RuntimeWarning: invalid value encountered in true_divide\n",
            "  c /= stddev[:, None]\n",
            "/usr/local/lib/python3.6/dist-packages/numpy/lib/function_base.py:2535: RuntimeWarning: invalid value encountered in true_divide\n",
            "  c /= stddev[None, :]\n"
          ],
          "name": "stderr"
        },
        {
          "output_type": "execute_result",
          "data": {
            "text/plain": [
              "array([[nan, nan, nan],\n",
              "       [nan,  1., nan],\n",
              "       [nan, nan, nan]])"
            ]
          },
          "metadata": {
            "tags": []
          },
          "execution_count": 186
        }
      ]
    },
    {
      "cell_type": "code",
      "metadata": {
        "id": "Glm563Nr0jEQ",
        "outputId": "cd670525-9608-4c52-8566-ac4ace1a647e",
        "colab": {
          "base_uri": "https://localhost:8080/"
        }
      },
      "source": [
        "# Cumulative sum of the elements\n",
        "arr_c1.cumsum(axis=1)"
      ],
      "execution_count": 224,
      "outputs": [
        {
          "output_type": "execute_result",
          "data": {
            "text/plain": [
              "array([[ 7, 14, 21],\n",
              "       [ 7, 14, 24],\n",
              "       [ 7, 14, 21]])"
            ]
          },
          "metadata": {
            "tags": []
          },
          "execution_count": 224
        }
      ]
    },
    {
      "cell_type": "markdown",
      "metadata": {
        "id": "kGLccNWftNY9"
      },
      "source": [
        "# Importing, exporting with Numpy"
      ]
    },
    {
      "cell_type": "code",
      "metadata": {
        "id": "JIv3EpJItVdy",
        "outputId": "52876bb9-47dc-4ff5-f559-3ab38499c345",
        "colab": {
          "base_uri": "https://localhost:8080/"
        }
      },
      "source": [
        "#  From a text file\n",
        "np.loadtxt(\"file.txt\", delimiter=\",\")"
      ],
      "execution_count": 192,
      "outputs": [
        {
          "output_type": "execute_result",
          "data": {
            "text/plain": [
              "array([[ 1., 10.,  1., 11.,  1., 13.,  1., 12.,  1.,  1.,  9.],\n",
              "       [ 2., 11.,  2., 13.,  2., 10.,  2., 12.,  2.,  1.,  9.],\n",
              "       [ 3., 12.,  3., 11.,  3., 13.,  3., 10.,  3.,  1.,  9.]])"
            ]
          },
          "metadata": {
            "tags": []
          },
          "execution_count": 192
        }
      ]
    },
    {
      "cell_type": "code",
      "metadata": {
        "id": "FjpvXbUCu1hO",
        "outputId": "078bfc62-3c25-4a01-cd79-39508c4e828a",
        "colab": {
          "base_uri": "https://localhost:8080/"
        }
      },
      "source": [
        "# From a CSV file\n",
        "np.genfromtxt('file.csv')"
      ],
      "execution_count": 194,
      "outputs": [
        {
          "output_type": "execute_result",
          "data": {
            "text/plain": [
              "array([[1., 1., 1., 1., 5., 3., 3., 3., 7.],\n",
              "       [6., 7., 8., 2., 2., 8., 5., 3., 3.],\n",
              "       [8., 8., 8., 8., 8., 8., 8., 3., 7.]])"
            ]
          },
          "metadata": {
            "tags": []
          },
          "execution_count": 194
        }
      ]
    },
    {
      "cell_type": "code",
      "metadata": {
        "id": "y_0X31zfvt-g"
      },
      "source": [
        "# Writes to a text file\n",
        "np.savetxt('file.txt',arr1,delimiter=' ')"
      ],
      "execution_count": 195,
      "outputs": []
    },
    {
      "cell_type": "code",
      "metadata": {
        "id": "E5UKtfR8v6T9"
      },
      "source": [
        "# Writes to a CSV file\n",
        "np.savetxt('file.csv',arr_c1,delimiter=',')"
      ],
      "execution_count": 196,
      "outputs": []
    },
    {
      "cell_type": "markdown",
      "metadata": {
        "id": "KHYLDutRwKlx"
      },
      "source": [
        "# Common Operations, Set Methods, Matrices with Numpy"
      ]
    },
    {
      "cell_type": "code",
      "metadata": {
        "id": "nMhFkpSGwepX",
        "outputId": "f66eacb8-ac18-4b58-c14e-62d8b8861f9e",
        "colab": {
          "base_uri": "https://localhost:8080/"
        }
      },
      "source": [
        "arr_c1.transpose()"
      ],
      "execution_count": 197,
      "outputs": [
        {
          "output_type": "execute_result",
          "data": {
            "text/plain": [
              "array([[ 7,  7,  7],\n",
              "       [ 7,  7,  7],\n",
              "       [ 7, 10,  7]])"
            ]
          },
          "metadata": {
            "tags": []
          },
          "execution_count": 197
        }
      ]
    },
    {
      "cell_type": "code",
      "metadata": {
        "id": "eodrZBl6wmQ5",
        "outputId": "330d464e-217d-4533-fd5f-3b33aed9db14",
        "colab": {
          "base_uri": "https://localhost:8080/"
        }
      },
      "source": [
        "arr_c1.swapaxes(0, 1)"
      ],
      "execution_count": 198,
      "outputs": [
        {
          "output_type": "execute_result",
          "data": {
            "text/plain": [
              "array([[ 7,  7,  7],\n",
              "       [ 7,  7,  7],\n",
              "       [ 7, 10,  7]])"
            ]
          },
          "metadata": {
            "tags": []
          },
          "execution_count": 198
        }
      ]
    },
    {
      "cell_type": "code",
      "metadata": {
        "id": "rSjnTvB3wp03",
        "outputId": "31a4b995-1e9e-4531-fa93-936625f79d08",
        "colab": {
          "base_uri": "https://localhost:8080/"
        }
      },
      "source": [
        "# Vectorized expressions np.where(cond, x, y)\n",
        "np.where([True, False], [1, 2],[2, 3])"
      ],
      "execution_count": 199,
      "outputs": [
        {
          "output_type": "execute_result",
          "data": {
            "text/plain": [
              "array([1, 3])"
            ]
          },
          "metadata": {
            "tags": []
          },
          "execution_count": 199
        }
      ]
    },
    {
      "cell_type": "code",
      "metadata": {
        "id": "OtVqEdrMw7h_",
        "outputId": "3cc73226-15ad-4b57-ca54-95dc2e9fc6b6",
        "colab": {
          "base_uri": "https://localhost:8080/"
        }
      },
      "source": [
        "np.unique(arr_c1)"
      ],
      "execution_count": 202,
      "outputs": [
        {
          "output_type": "execute_result",
          "data": {
            "text/plain": [
              "array([ 7, 10])"
            ]
          },
          "metadata": {
            "tags": []
          },
          "execution_count": 202
        }
      ]
    },
    {
      "cell_type": "code",
      "metadata": {
        "id": "niwIWbl-xOVU",
        "outputId": "7b6be77e-6e47-4f0c-d2dc-e80a4a62eb65",
        "colab": {
          "base_uri": "https://localhost:8080/"
        }
      },
      "source": [
        "# Set methods:  Test membership of ndarray1 values in [2, 3, 6]\n",
        "np.in1d(arr_c1, [2,7,6]) "
      ],
      "execution_count": 206,
      "outputs": [
        {
          "output_type": "execute_result",
          "data": {
            "text/plain": [
              "array([ True,  True,  True,  True,  True, False,  True,  True,  True])"
            ]
          },
          "metadata": {
            "tags": []
          },
          "execution_count": 206
        }
      ]
    },
    {
      "cell_type": "code",
      "metadata": {
        "id": "w0i30j-txszT",
        "outputId": "ef1747a4-3cd0-48a3-cbc7-178906466475",
        "colab": {
          "base_uri": "https://localhost:8080/"
        }
      },
      "source": [
        "np.intersect1d(arr_c1, [2,7,6])"
      ],
      "execution_count": 205,
      "outputs": [
        {
          "output_type": "execute_result",
          "data": {
            "text/plain": [
              "array([7])"
            ]
          },
          "metadata": {
            "tags": []
          },
          "execution_count": 205
        }
      ]
    },
    {
      "cell_type": "code",
      "metadata": {
        "id": "_j--clWlx4sL",
        "outputId": "bde02ebc-16cf-416c-cf6f-18a11fc1d9a9",
        "colab": {
          "base_uri": "https://localhost:8080/"
        }
      },
      "source": [
        "np.union1d(arr_c1, arr_c2)"
      ],
      "execution_count": 208,
      "outputs": [
        {
          "output_type": "execute_result",
          "data": {
            "text/plain": [
              "array([ 7, 10, 14])"
            ]
          },
          "metadata": {
            "tags": []
          },
          "execution_count": 208
        }
      ]
    },
    {
      "cell_type": "code",
      "metadata": {
        "id": "TQ9IBQeOyDgm",
        "outputId": "d2c69a2e-bef9-4a9c-c9f2-f127197072b9",
        "colab": {
          "base_uri": "https://localhost:8080/"
        }
      },
      "source": [
        "np.setdiff1d(arr_c1, arr_c2)"
      ],
      "execution_count": 209,
      "outputs": [
        {
          "output_type": "execute_result",
          "data": {
            "text/plain": [
              "array([ 7, 10])"
            ]
          },
          "metadata": {
            "tags": []
          },
          "execution_count": 209
        }
      ]
    },
    {
      "cell_type": "code",
      "metadata": {
        "id": "mZXZrB5ryIp6",
        "outputId": "4bf20906-dc82-4cb2-df60-f12dee3f73cf",
        "colab": {
          "base_uri": "https://localhost:8080/"
        }
      },
      "source": [
        "np.setxor1d(arr_c1, arr_c2)"
      ],
      "execution_count": 210,
      "outputs": [
        {
          "output_type": "execute_result",
          "data": {
            "text/plain": [
              "array([ 7, 10, 14])"
            ]
          },
          "metadata": {
            "tags": []
          },
          "execution_count": 210
        }
      ]
    },
    {
      "cell_type": "code",
      "metadata": {
        "id": "HetGmc3avAik"
      },
      "source": [
        "np1 = np.array([1,2,3,4,5])"
      ],
      "execution_count": null,
      "outputs": []
    },
    {
      "cell_type": "code",
      "metadata": {
        "id": "2IMWVp7-vKSe",
        "outputId": "9578bf5f-3d7a-46a4-ae0a-62cf88bcd251",
        "colab": {
          "base_uri": "https://localhost:8080/",
          "height": 35
        }
      },
      "source": [
        "np1"
      ],
      "execution_count": null,
      "outputs": [
        {
          "output_type": "execute_result",
          "data": {
            "text/plain": [
              "array([1, 2, 3, 4, 5])"
            ]
          },
          "metadata": {
            "tags": []
          },
          "execution_count": 61
        }
      ]
    },
    {
      "cell_type": "code",
      "metadata": {
        "id": "zIr3pn35vL5Y",
        "outputId": "3d1653bb-a4b4-4295-98be-d621be624dc9",
        "colab": {
          "base_uri": "https://localhost:8080/",
          "height": 35
        }
      },
      "source": [
        "type(np1)"
      ],
      "execution_count": null,
      "outputs": [
        {
          "output_type": "execute_result",
          "data": {
            "text/plain": [
              "numpy.ndarray"
            ]
          },
          "metadata": {
            "tags": []
          },
          "execution_count": 62
        }
      ]
    },
    {
      "cell_type": "code",
      "metadata": {
        "id": "kLCLrrgYvNbD"
      },
      "source": [
        "Mat1 = np.array([[1,2],[3,4]])"
      ],
      "execution_count": null,
      "outputs": []
    },
    {
      "cell_type": "code",
      "metadata": {
        "id": "4WIc7xNDvYvl",
        "outputId": "99b58d9d-7eba-4254-bc38-e777dfb2c1f2",
        "colab": {
          "base_uri": "https://localhost:8080/",
          "height": 52
        }
      },
      "source": [
        "Mat1"
      ],
      "execution_count": null,
      "outputs": [
        {
          "output_type": "execute_result",
          "data": {
            "text/plain": [
              "array([[1, 2],\n",
              "       [3, 4]])"
            ]
          },
          "metadata": {
            "tags": []
          },
          "execution_count": 65
        }
      ]
    },
    {
      "cell_type": "code",
      "metadata": {
        "id": "fTKonj3bvaCN",
        "outputId": "1c76fa20-f9ad-40c7-a47e-861c79ae396a",
        "colab": {
          "base_uri": "https://localhost:8080/",
          "height": 35
        }
      },
      "source": [
        "np1.shape"
      ],
      "execution_count": null,
      "outputs": [
        {
          "output_type": "execute_result",
          "data": {
            "text/plain": [
              "(5,)"
            ]
          },
          "metadata": {
            "tags": []
          },
          "execution_count": 66
        }
      ]
    },
    {
      "cell_type": "code",
      "metadata": {
        "id": "stFso3omvczC",
        "outputId": "87f821c4-a96b-4814-aefc-9457b701f1f0",
        "colab": {
          "base_uri": "https://localhost:8080/",
          "height": 35
        }
      },
      "source": [
        "Mat1.shape"
      ],
      "execution_count": null,
      "outputs": [
        {
          "output_type": "execute_result",
          "data": {
            "text/plain": [
              "(2, 2)"
            ]
          },
          "metadata": {
            "tags": []
          },
          "execution_count": 67
        }
      ]
    },
    {
      "cell_type": "code",
      "metadata": {
        "id": "GP9dfdoUvfa4",
        "outputId": "df6cc5fe-a49e-47a4-c291-cda3fa4914a5",
        "colab": {
          "base_uri": "https://localhost:8080/",
          "height": 35
        }
      },
      "source": [
        "Mat1.dtype"
      ],
      "execution_count": null,
      "outputs": [
        {
          "output_type": "execute_result",
          "data": {
            "text/plain": [
              "dtype('int64')"
            ]
          },
          "metadata": {
            "tags": []
          },
          "execution_count": 68
        }
      ]
    },
    {
      "cell_type": "code",
      "metadata": {
        "id": "ONLOF62jvnVG"
      },
      "source": [
        "Mat1[0,0]  =  5"
      ],
      "execution_count": null,
      "outputs": []
    },
    {
      "cell_type": "code",
      "metadata": {
        "id": "WJGdcIAxvqXJ",
        "outputId": "bb13b2a8-82c2-4395-f8b6-a199c170b53b",
        "colab": {
          "base_uri": "https://localhost:8080/",
          "height": 52
        }
      },
      "source": [
        "Mat1"
      ],
      "execution_count": null,
      "outputs": [
        {
          "output_type": "execute_result",
          "data": {
            "text/plain": [
              "array([[5, 2],\n",
              "       [3, 4]])"
            ]
          },
          "metadata": {
            "tags": []
          },
          "execution_count": 70
        }
      ]
    },
    {
      "cell_type": "code",
      "metadata": {
        "id": "i718P-1WvtZb"
      },
      "source": [
        "Mat2 = np.arange(0,10,1)"
      ],
      "execution_count": null,
      "outputs": []
    },
    {
      "cell_type": "code",
      "metadata": {
        "id": "GB8NUB17v0Dj",
        "outputId": "57c1e8c9-ed4e-4bef-e9b8-e1441981b5f8",
        "colab": {
          "base_uri": "https://localhost:8080/",
          "height": 35
        }
      },
      "source": [
        "Mat2"
      ],
      "execution_count": null,
      "outputs": [
        {
          "output_type": "execute_result",
          "data": {
            "text/plain": [
              "array([0, 1, 2, 3, 4, 5, 6, 7, 8, 9])"
            ]
          },
          "metadata": {
            "tags": []
          },
          "execution_count": 72
        }
      ]
    },
    {
      "cell_type": "code",
      "metadata": {
        "id": "Ssc1EW_Fv2MX"
      },
      "source": [
        "Mat3 = np.linspace(0,10,20)"
      ],
      "execution_count": null,
      "outputs": []
    },
    {
      "cell_type": "code",
      "metadata": {
        "id": "3tbg5jAev67W",
        "outputId": "24660cca-5534-450b-9a92-cc1fbc8a564e",
        "colab": {
          "base_uri": "https://localhost:8080/",
          "height": 87
        }
      },
      "source": [
        "Mat3"
      ],
      "execution_count": null,
      "outputs": [
        {
          "output_type": "execute_result",
          "data": {
            "text/plain": [
              "array([ 0.        ,  0.52631579,  1.05263158,  1.57894737,  2.10526316,\n",
              "        2.63157895,  3.15789474,  3.68421053,  4.21052632,  4.73684211,\n",
              "        5.26315789,  5.78947368,  6.31578947,  6.84210526,  7.36842105,\n",
              "        7.89473684,  8.42105263,  8.94736842,  9.47368421, 10.        ])"
            ]
          },
          "metadata": {
            "tags": []
          },
          "execution_count": 74
        }
      ]
    },
    {
      "cell_type": "code",
      "metadata": {
        "id": "TQzRAb8ov8eA",
        "outputId": "0f586a81-e1cc-4fb5-f05b-21ad14247983",
        "colab": {
          "base_uri": "https://localhost:8080/",
          "height": 35
        }
      },
      "source": [
        "Mat3.shape"
      ],
      "execution_count": null,
      "outputs": [
        {
          "output_type": "execute_result",
          "data": {
            "text/plain": [
              "(20,)"
            ]
          },
          "metadata": {
            "tags": []
          },
          "execution_count": 75
        }
      ]
    },
    {
      "cell_type": "code",
      "metadata": {
        "id": "T-sIYigEv-YU"
      },
      "source": [
        "Mat4 = np.random.randn(5,5)"
      ],
      "execution_count": null,
      "outputs": []
    },
    {
      "cell_type": "code",
      "metadata": {
        "id": "BNULfWwwwGRf",
        "outputId": "a176e637-1d2b-4503-8c66-f58754fbd970",
        "colab": {
          "base_uri": "https://localhost:8080/",
          "height": 104
        }
      },
      "source": [
        "Mat4"
      ],
      "execution_count": null,
      "outputs": [
        {
          "output_type": "execute_result",
          "data": {
            "text/plain": [
              "array([[ 1.50613655, -0.33245083,  0.53828072, -0.06749832, -0.32583383],\n",
              "       [-0.55236893,  1.58451526, -0.26685426, -0.36966032, -0.83171971],\n",
              "       [ 1.45780458, -0.33479644,  1.26040738,  0.98278778, -0.1120757 ],\n",
              "       [ 1.27918792,  2.04879061,  0.16990297, -2.53093434, -0.16669399],\n",
              "       [-0.21930765,  0.35495216, -0.18800691,  0.69455597, -0.30413106]])"
            ]
          },
          "metadata": {
            "tags": []
          },
          "execution_count": 78
        }
      ]
    },
    {
      "cell_type": "code",
      "metadata": {
        "id": "v5n_ekp4wH5k"
      },
      "source": [
        "Mat5 = np.random.rand(5,5)"
      ],
      "execution_count": null,
      "outputs": []
    },
    {
      "cell_type": "code",
      "metadata": {
        "id": "QYOenYO3wM6a",
        "outputId": "18b0a320-8e98-4e33-f215-25db076358e8",
        "colab": {
          "base_uri": "https://localhost:8080/",
          "height": 191
        }
      },
      "source": [
        "Mat5"
      ],
      "execution_count": null,
      "outputs": [
        {
          "output_type": "execute_result",
          "data": {
            "text/plain": [
              "array([[7.01649331e-01, 2.44689941e-01, 8.42695767e-01, 1.35464204e-02,\n",
              "        9.40781358e-01],\n",
              "       [7.75650701e-01, 7.47374614e-02, 6.57916148e-01, 7.54681524e-01,\n",
              "        2.25107170e-01],\n",
              "       [7.35868538e-01, 7.98789621e-01, 8.89404995e-01, 4.50035604e-02,\n",
              "        4.27830094e-01],\n",
              "       [2.86701853e-01, 4.03571886e-01, 5.46858578e-04, 5.20255838e-01,\n",
              "        3.81647609e-01],\n",
              "       [5.11606285e-01, 2.54725187e-01, 6.50969882e-01, 3.81034371e-01,\n",
              "        4.61154272e-01]])"
            ]
          },
          "metadata": {
            "tags": []
          },
          "execution_count": 80
        }
      ]
    },
    {
      "cell_type": "code",
      "metadata": {
        "id": "dcXM6_SywU6E",
        "outputId": "cf5e5016-8414-4bf7-e637-4215ccc15912",
        "colab": {
          "base_uri": "https://localhost:8080/",
          "height": 35
        }
      },
      "source": [
        "Mat5[0,1]"
      ],
      "execution_count": null,
      "outputs": [
        {
          "output_type": "execute_result",
          "data": {
            "text/plain": [
              "0.24468994132379196"
            ]
          },
          "metadata": {
            "tags": []
          },
          "execution_count": 81
        }
      ]
    },
    {
      "cell_type": "code",
      "metadata": {
        "id": "v8h4i1UWwYYK",
        "outputId": "f4c8f5b0-259b-44f7-b721-6b4c5f215c0a",
        "colab": {
          "base_uri": "https://localhost:8080/",
          "height": 69
        }
      },
      "source": [
        "Mat5[0:3]"
      ],
      "execution_count": null,
      "outputs": [
        {
          "output_type": "execute_result",
          "data": {
            "text/plain": [
              "array([[0.70164933, 0.24468994, 0.84269577, 0.01354642, 0.94078136],\n",
              "       [0.7756507 , 0.07473746, 0.65791615, 0.75468152, 0.22510717],\n",
              "       [0.73586854, 0.79878962, 0.889405  , 0.04500356, 0.42783009]])"
            ]
          },
          "metadata": {
            "tags": []
          },
          "execution_count": 82
        }
      ]
    },
    {
      "cell_type": "code",
      "metadata": {
        "id": "EYrarlD7wd8M",
        "outputId": "7e1c9049-e48e-41f5-b761-841b10205771",
        "colab": {
          "base_uri": "https://localhost:8080/",
          "height": 69
        }
      },
      "source": [
        "Mat5[0:3, :]"
      ],
      "execution_count": null,
      "outputs": [
        {
          "output_type": "execute_result",
          "data": {
            "text/plain": [
              "array([[0.70164933, 0.24468994, 0.84269577, 0.01354642, 0.94078136],\n",
              "       [0.7756507 , 0.07473746, 0.65791615, 0.75468152, 0.22510717],\n",
              "       [0.73586854, 0.79878962, 0.889405  , 0.04500356, 0.42783009]])"
            ]
          },
          "metadata": {
            "tags": []
          },
          "execution_count": 83
        }
      ]
    },
    {
      "cell_type": "code",
      "metadata": {
        "id": "x_1SVGUwynP6",
        "outputId": "a5d28614-996e-450f-a14a-6b011b9aae03",
        "colab": {
          "base_uri": "https://localhost:8080/"
        }
      },
      "source": [
        "#  sum of all the diagonal elements of a square matrix.\n",
        "arr = np.array([[2, 0, 0], [0, 2, 0], [0, 0, 2]])\n",
        "np.trace(arr)"
      ],
      "execution_count": 212,
      "outputs": [
        {
          "output_type": "execute_result",
          "data": {
            "text/plain": [
              "6"
            ]
          },
          "metadata": {
            "tags": []
          },
          "execution_count": 212
        }
      ]
    },
    {
      "cell_type": "code",
      "metadata": {
        "id": "OI_0enuTzVmn",
        "outputId": "97955254-bb8a-46cd-d79c-88d16ce5d167",
        "colab": {
          "base_uri": "https://localhost:8080/"
        }
      },
      "source": [
        "# determinant of matrix\n",
        "matrix = np.array([[1, 2, 3],\n",
        "                   [2, 4, 6],\n",
        "                   [3, 8, 9]])\n",
        "np.linalg.det(matrix)"
      ],
      "execution_count": 213,
      "outputs": [
        {
          "output_type": "execute_result",
          "data": {
            "text/plain": [
              "0.0"
            ]
          },
          "metadata": {
            "tags": []
          },
          "execution_count": 213
        }
      ]
    },
    {
      "cell_type": "code",
      "metadata": {
        "id": "HkJmSm22zlK6",
        "outputId": "070c0172-82c6-40e9-d3c8-3384feff05dd",
        "colab": {
          "base_uri": "https://localhost:8080/"
        }
      },
      "source": [
        "# matrix rank\n",
        "matrix = np.array([[1, 1, 3],\n",
        "                   [1, 2, 4],\n",
        "                   [1, 3, 0]])\n",
        "np.linalg.matrix_rank(matrix)"
      ],
      "execution_count": 216,
      "outputs": [
        {
          "output_type": "execute_result",
          "data": {
            "text/plain": [
              "3"
            ]
          },
          "metadata": {
            "tags": []
          },
          "execution_count": 216
        }
      ]
    },
    {
      "cell_type": "code",
      "metadata": {
        "id": "kADptbEdzvnm",
        "outputId": "999290b1-a23d-46a6-b183-f5aad30bbcf7",
        "colab": {
          "base_uri": "https://localhost:8080/"
        }
      },
      "source": [
        "# Calculate eigenvalues and eigenvectors\n",
        "matrix = np.array([[0, 1, 2],\n",
        "                   [3, 4, 5],\n",
        "                   [6, 7, 8]])\n",
        "\n",
        "eigenvalues, eigenvectors = np.linalg.eig(matrix)\n",
        "\n",
        "print(eigenvalues)\n",
        "print(eigenvectors)"
      ],
      "execution_count": 218,
      "outputs": [
        {
          "output_type": "stream",
          "text": [
            "[ 1.33484692e+01 -1.34846923e+00 -2.48477279e-16]\n",
            "[[ 0.16476382  0.79969966  0.40824829]\n",
            " [ 0.50577448  0.10420579 -0.81649658]\n",
            " [ 0.84678513 -0.59128809  0.40824829]]\n"
          ],
          "name": "stdout"
        }
      ]
    },
    {
      "cell_type": "code",
      "metadata": {
        "id": "iLQw35ooz5KH",
        "outputId": "d3d88c54-0ac3-46dd-9ed5-9499d5d57920",
        "colab": {
          "base_uri": "https://localhost:8080/"
        }
      },
      "source": [
        "eigenvalues1, eigenvectors1 = np.linalg.eig(arr_c1)\n",
        "print(eigenvalues1)\n",
        "print(eigenvectors1)"
      ],
      "execution_count": 219,
      "outputs": [
        {
          "output_type": "stream",
          "text": [
            "[ 2.19564392e+01  1.10590230e-15 -9.56439237e-01]\n",
            "[[-5.51155602e-01 -7.07106781e-01  3.90279585e-01]\n",
            " [-6.26462294e-01  7.07106781e-01 -8.33884699e-01]\n",
            " [-5.51155602e-01 -6.58259668e-17  3.90279585e-01]]\n"
          ],
          "name": "stdout"
        }
      ]
    },
    {
      "cell_type": "code",
      "metadata": {
        "id": "VrNFEBmN0Ao7",
        "outputId": "1565d8c5-9cb4-4c15-c294-a621c7ec7be9",
        "colab": {
          "base_uri": "https://localhost:8080/"
        }
      },
      "source": [
        "# append values to the end of a given array.\n",
        "np.append ([0, 1, 2], [[3, 4, 5], [6, 7, 8]])"
      ],
      "execution_count": 220,
      "outputs": [
        {
          "output_type": "execute_result",
          "data": {
            "text/plain": [
              "array([0, 1, 2, 3, 4, 5, 6, 7, 8])"
            ]
          },
          "metadata": {
            "tags": []
          },
          "execution_count": 220
        }
      ]
    },
    {
      "cell_type": "code",
      "metadata": {
        "id": "6gMHpgxr0IvL",
        "outputId": "0d79e59d-9846-48b3-aee6-741007cb355a",
        "colab": {
          "base_uri": "https://localhost:8080/"
        }
      },
      "source": [
        "np.append([[0, 1, 2], [3, 4, 5]],[[6, 7, 8]], axis=0)"
      ],
      "execution_count": 221,
      "outputs": [
        {
          "output_type": "execute_result",
          "data": {
            "text/plain": [
              "array([[0, 1, 2],\n",
              "       [3, 4, 5],\n",
              "       [6, 7, 8]])"
            ]
          },
          "metadata": {
            "tags": []
          },
          "execution_count": 221
        }
      ]
    }
  ]
}