{
  "nbformat": 4,
  "nbformat_minor": 0,
  "metadata": {
    "colab": {
      "name": "PANDAS.ipynb",
      "provenance": [],
      "collapsed_sections": [],
      "toc_visible": true
    },
    "kernelspec": {
      "name": "python3",
      "display_name": "Python 3"
    }
  },
  "cells": [
    {
      "cell_type": "markdown",
      "metadata": {
        "id": "1T0uPWj6UuJo"
      },
      "source": [
        "# **PANDAS**"
      ]
    },
    {
      "cell_type": "markdown",
      "metadata": {
        "id": "uW-0wClQUzE2"
      },
      "source": [
        "What is pandas?\n",
        "\n",
        "\n",
        "  1. Pandas is a high-level data manipulation tool. \n",
        "  2. It is built on the Numpy package and its key data structure is called the DataFrame. DataFrames allows you to store and manipulate tabular data in rows of observations and columns of variables.\n",
        "  3. It provides high-performance, easy-to-use data structures and data analysis tools for the Python programming language. "
      ]
    },
    {
      "cell_type": "markdown",
      "metadata": {
        "id": "c1lvvXdWVkGQ"
      },
      "source": [
        "Key Features of Pandas:\n",
        "\n",
        "\n",
        "  1. Fast and efficient DataFrame object with default and customized indexing.\n",
        "  2. Tools for loading data into in-memory data objects from different file formats.\n",
        "  3. Data alignment and integrated handling of missing data.\n",
        "  4. Reshaping and pivoting of date sets.\n",
        "  5. Label-based slicing, indexing and subsetting of large data sets.\n",
        "  6. Columns from a data structure can be deleted or inserted.\n",
        "  7. Group by data for aggregation and transformations.\n",
        "  8. High performance merging and joining of data.\n",
        "  9. Time Series functionality."
      ]
    },
    {
      "cell_type": "markdown",
      "metadata": {
        "id": "kSntf7p2XNbF"
      },
      "source": [
        "# Import Convention"
      ]
    },
    {
      "cell_type": "code",
      "metadata": {
        "id": "ZPIPL29WXQnY"
      },
      "source": [
        "import pandas as pd"
      ],
      "execution_count": 1,
      "outputs": []
    },
    {
      "cell_type": "markdown",
      "metadata": {
        "id": "oN5KOfNTWWhe"
      },
      "source": [
        "# Pandas Data Structures"
      ]
    },
    {
      "cell_type": "markdown",
      "metadata": {
        "id": "h8S-V3wYWcyx"
      },
      "source": [
        "  1. **Series** (1D labeled homogeneous array, size immutable.)\n",
        "  2. **DataFrame** (2D labeled, size-mutable tabular structure with potentially heterogeneously typed columns.)\n",
        "\n",
        "These data structures are built on top of Numpy array, which means they are fast.\n"
      ]
    },
    {
      "cell_type": "markdown",
      "metadata": {
        "id": "hVAp5aLyXc6V"
      },
      "source": [
        "# Pandas - Series"
      ]
    },
    {
      "cell_type": "code",
      "metadata": {
        "id": "o0dwwc6gXf9A",
        "outputId": "98ebe0e0-91a0-4eff-ce4a-89309c2b9e3f",
        "colab": {
          "base_uri": "https://localhost:8080/"
        }
      },
      "source": [
        "# Series\n",
        "s1 = pd.Series([1,2,3,4,5,6,7,8,9])\n",
        "print(s1)"
      ],
      "execution_count": 2,
      "outputs": [
        {
          "output_type": "stream",
          "text": [
            "0    1\n",
            "1    2\n",
            "2    3\n",
            "3    4\n",
            "4    5\n",
            "5    6\n",
            "6    7\n",
            "7    8\n",
            "8    9\n",
            "dtype: int64\n"
          ],
          "name": "stdout"
        }
      ]
    },
    {
      "cell_type": "code",
      "metadata": {
        "id": "rPcq-0VqSZ13",
        "outputId": "ec34b576-6c9d-4c0a-ad67-ae93803e3dcd",
        "colab": {
          "base_uri": "https://localhost:8080/"
        }
      },
      "source": [
        "# one-dimensional labeled array\n",
        "s2 = pd.Series([3, -5, 7, 4],  index=['a',  'b',  'c',  'd'])\n",
        "print(s2)"
      ],
      "execution_count": 3,
      "outputs": [
        {
          "output_type": "stream",
          "text": [
            "a    3\n",
            "b   -5\n",
            "c    7\n",
            "d    4\n",
            "dtype: int64\n"
          ],
          "name": "stdout"
        }
      ]
    },
    {
      "cell_type": "code",
      "metadata": {
        "id": "LhWyHSZZYbK2",
        "outputId": "8cd8e385-1ad4-4189-8ec0-e9f0fb23b3f2",
        "colab": {
          "base_uri": "https://localhost:8080/"
        }
      },
      "source": [
        "# Create a Series from ndarray\n",
        "import numpy as np\n",
        "data = np.array(['a','b','c','d'])\n",
        "s3 = pd.Series(data)\n",
        "print(s3)"
      ],
      "execution_count": 4,
      "outputs": [
        {
          "output_type": "stream",
          "text": [
            "0    a\n",
            "1    b\n",
            "2    c\n",
            "3    d\n",
            "dtype: object\n"
          ],
          "name": "stdout"
        }
      ]
    },
    {
      "cell_type": "code",
      "metadata": {
        "id": "rTg20i2qY0zu",
        "outputId": "4bcdcc20-188a-4223-e981-d39cc5c46d5b",
        "colab": {
          "base_uri": "https://localhost:8080/"
        }
      },
      "source": [
        "# Create a Series from dict\n",
        "data = {'a' : 0., 'b' : 1., 'c' : 2.}\n",
        "s4 = pd.Series(data)\n",
        "print(s4)"
      ],
      "execution_count": 5,
      "outputs": [
        {
          "output_type": "stream",
          "text": [
            "a    0.0\n",
            "b    1.0\n",
            "c    2.0\n",
            "dtype: float64\n"
          ],
          "name": "stdout"
        }
      ]
    },
    {
      "cell_type": "code",
      "metadata": {
        "id": "wGfX1glbY-au",
        "outputId": "12233b24-1d05-49c8-e756-965b5dbe5ed6",
        "colab": {
          "base_uri": "https://localhost:8080/"
        }
      },
      "source": [
        "# Create a Series from Scalar\n",
        "import numpy as np\n",
        "s5 = pd.Series(5, index=[0, 1, 2, 3])\n",
        "print(s5)"
      ],
      "execution_count": 6,
      "outputs": [
        {
          "output_type": "stream",
          "text": [
            "0    5\n",
            "1    5\n",
            "2    5\n",
            "3    5\n",
            "dtype: int64\n"
          ],
          "name": "stdout"
        }
      ]
    },
    {
      "cell_type": "code",
      "metadata": {
        "id": "6Auz0dZJZJal",
        "outputId": "1158cd32-0af5-462e-92b7-eac69795d418",
        "colab": {
          "base_uri": "https://localhost:8080/"
        }
      },
      "source": [
        "# Accessing Data from Series with Position\n",
        "print(s1[:5])\n",
        "print(s2[2:])\n",
        "print(s3[-3:])\n",
        "print(s5[0])"
      ],
      "execution_count": 7,
      "outputs": [
        {
          "output_type": "stream",
          "text": [
            "0    1\n",
            "1    2\n",
            "2    3\n",
            "3    4\n",
            "4    5\n",
            "dtype: int64\n",
            "c    7\n",
            "d    4\n",
            "dtype: int64\n",
            "1    b\n",
            "2    c\n",
            "3    d\n",
            "dtype: object\n",
            "5\n"
          ],
          "name": "stdout"
        }
      ]
    },
    {
      "cell_type": "code",
      "metadata": {
        "id": "EM-gtM1aZ94n",
        "outputId": "5a5e9b79-0e35-49ce-dbb1-96dd008dc96f",
        "colab": {
          "base_uri": "https://localhost:8080/"
        }
      },
      "source": [
        "# Accessing Data from Series with Labels\n",
        "print(s2['d'])\n",
        "print(s2[['a','c','d']])\n",
        "print(s4['c'])"
      ],
      "execution_count": 8,
      "outputs": [
        {
          "output_type": "stream",
          "text": [
            "4\n",
            "a    3\n",
            "c    7\n",
            "d    4\n",
            "dtype: int64\n",
            "2.0\n"
          ],
          "name": "stdout"
        }
      ]
    },
    {
      "cell_type": "code",
      "metadata": {
        "id": "-0GRtGXg-Ljj",
        "outputId": "e8f9ce94-3c00-413a-ed97-f3bd7f19b860",
        "colab": {
          "base_uri": "https://localhost:8080/"
        }
      },
      "source": [
        "# Returns the list of the labels of the series.\n",
        "s1.axes"
      ],
      "execution_count": 26,
      "outputs": [
        {
          "output_type": "execute_result",
          "data": {
            "text/plain": [
              "[RangeIndex(start=0, stop=9, step=1)]"
            ]
          },
          "metadata": {
            "tags": []
          },
          "execution_count": 26
        }
      ]
    },
    {
      "cell_type": "code",
      "metadata": {
        "id": "3JvgOT8t-Yac",
        "outputId": "bd54c966-2841-4952-bb83-c78b0376aea6",
        "colab": {
          "base_uri": "https://localhost:8080/"
        }
      },
      "source": [
        "# Returns the Boolean value saying whether the Object is empty or not\n",
        "s2.empty"
      ],
      "execution_count": 28,
      "outputs": [
        {
          "output_type": "execute_result",
          "data": {
            "text/plain": [
              "False"
            ]
          },
          "metadata": {
            "tags": []
          },
          "execution_count": 28
        }
      ]
    },
    {
      "cell_type": "code",
      "metadata": {
        "id": "lDS6oHIP-hlD",
        "outputId": "010b23c9-b9e3-49e6-8d4f-e08acacd4aa9",
        "colab": {
          "base_uri": "https://localhost:8080/"
        }
      },
      "source": [
        "# Returns the number of dimensions of the object\n",
        "s4.ndim"
      ],
      "execution_count": 30,
      "outputs": [
        {
          "output_type": "execute_result",
          "data": {
            "text/plain": [
              "1"
            ]
          },
          "metadata": {
            "tags": []
          },
          "execution_count": 30
        }
      ]
    },
    {
      "cell_type": "code",
      "metadata": {
        "id": "KmoEJFW3-lcF",
        "outputId": "3e833bc3-e6e9-4f14-f54f-60f8bb56107f",
        "colab": {
          "base_uri": "https://localhost:8080/"
        }
      },
      "source": [
        "# Returns the size(length) of the series.\n",
        "s2.size"
      ],
      "execution_count": 31,
      "outputs": [
        {
          "output_type": "execute_result",
          "data": {
            "text/plain": [
              "4"
            ]
          },
          "metadata": {
            "tags": []
          },
          "execution_count": 31
        }
      ]
    },
    {
      "cell_type": "code",
      "metadata": {
        "id": "WA7GoGHU-vP7",
        "outputId": "39e27955-7802-4e50-862e-f8471d37a12a",
        "colab": {
          "base_uri": "https://localhost:8080/"
        }
      },
      "source": [
        "# Returns the actual data in the series as an array.\n",
        "s3.values"
      ],
      "execution_count": 32,
      "outputs": [
        {
          "output_type": "execute_result",
          "data": {
            "text/plain": [
              "array(['a', 'b', 'c', 'd'], dtype=object)"
            ]
          },
          "metadata": {
            "tags": []
          },
          "execution_count": 32
        }
      ]
    },
    {
      "cell_type": "code",
      "metadata": {
        "id": "bock_21J-3CA",
        "outputId": "262ba4e1-bfa2-41d0-c603-bb3dab326e0a",
        "colab": {
          "base_uri": "https://localhost:8080/"
        }
      },
      "source": [
        "# head() returns the first n rows(observe the index values)\n",
        "s1.head(2)"
      ],
      "execution_count": 33,
      "outputs": [
        {
          "output_type": "execute_result",
          "data": {
            "text/plain": [
              "0    1\n",
              "1    2\n",
              "dtype: int64"
            ]
          },
          "metadata": {
            "tags": []
          },
          "execution_count": 33
        }
      ]
    },
    {
      "cell_type": "code",
      "metadata": {
        "id": "e05oatmm_AGJ",
        "outputId": "6882c94c-8b5e-495f-cb47-cb98850e0291",
        "colab": {
          "base_uri": "https://localhost:8080/"
        }
      },
      "source": [
        "# tail() returns the last n rows(observe the index values).\n",
        "s1.tail(2)"
      ],
      "execution_count": 34,
      "outputs": [
        {
          "output_type": "execute_result",
          "data": {
            "text/plain": [
              "7    8\n",
              "8    9\n",
              "dtype: int64"
            ]
          },
          "metadata": {
            "tags": []
          },
          "execution_count": 34
        }
      ]
    },
    {
      "cell_type": "markdown",
      "metadata": {
        "id": "gDzdncwSalUZ"
      },
      "source": [
        "# Pandas - Dataframe"
      ]
    },
    {
      "cell_type": "code",
      "metadata": {
        "id": "_Bf1IXBQaT30",
        "outputId": "08f6a88d-bae3-4ff4-c6fa-7c31564533f7",
        "colab": {
          "base_uri": "https://localhost:8080/"
        }
      },
      "source": [
        "# Dataframe\n",
        "df1 = pd.DataFrame()\n",
        "print(df1)"
      ],
      "execution_count": 9,
      "outputs": [
        {
          "output_type": "stream",
          "text": [
            "Empty DataFrame\n",
            "Columns: []\n",
            "Index: []\n"
          ],
          "name": "stdout"
        }
      ]
    },
    {
      "cell_type": "code",
      "metadata": {
        "id": "myoNG33NfdNL",
        "outputId": "19ac98e9-1119-4d10-8a00-576cce453230",
        "colab": {
          "base_uri": "https://localhost:8080/"
        }
      },
      "source": [
        "# Create a DataFrame from Lists\n",
        "data = [1,2,3,4,5]\n",
        "df2 = pd.DataFrame(data)\n",
        "print(df2)"
      ],
      "execution_count": 10,
      "outputs": [
        {
          "output_type": "stream",
          "text": [
            "   0\n",
            "0  1\n",
            "1  2\n",
            "2  3\n",
            "3  4\n",
            "4  5\n"
          ],
          "name": "stdout"
        }
      ]
    },
    {
      "cell_type": "code",
      "metadata": {
        "id": "7d_GCmjyfkfc",
        "outputId": "80aaad6a-8a8d-4833-d708-e61d0918943f",
        "colab": {
          "base_uri": "https://localhost:8080/"
        }
      },
      "source": [
        "data = [['Alex',10],['Bob',12],['Clarke',13]]\n",
        "df3 = pd.DataFrame(data,columns=['Name','Age'])\n",
        "print(df3)"
      ],
      "execution_count": 11,
      "outputs": [
        {
          "output_type": "stream",
          "text": [
            "     Name  Age\n",
            "0    Alex   10\n",
            "1     Bob   12\n",
            "2  Clarke   13\n"
          ],
          "name": "stdout"
        }
      ]
    },
    {
      "cell_type": "code",
      "metadata": {
        "id": "4g9YZ6Sdfps7",
        "outputId": "a29bc3d0-ae7e-4e29-c408-3c31fcab2ee3",
        "colab": {
          "base_uri": "https://localhost:8080/"
        }
      },
      "source": [
        "# Create a DataFrame from Dict of ndarrays / Lists\n",
        "data = {'Name':['Tom', 'Jack', 'Steve', 'Ricky'],'Age':[28,34,29,42]}\n",
        "df4 = pd.DataFrame(data)\n",
        "print(df4)"
      ],
      "execution_count": 12,
      "outputs": [
        {
          "output_type": "stream",
          "text": [
            "    Name  Age\n",
            "0    Tom   28\n",
            "1   Jack   34\n",
            "2  Steve   29\n",
            "3  Ricky   42\n"
          ],
          "name": "stdout"
        }
      ]
    },
    {
      "cell_type": "code",
      "metadata": {
        "id": "hv6tJts9fyJr",
        "outputId": "aa53b8b1-4fea-43be-c79f-62e44e0c2570",
        "colab": {
          "base_uri": "https://localhost:8080/"
        }
      },
      "source": [
        "data = {'Name':['Tom', 'Jack', 'Steve', 'Ricky'],'Age':[28,34,29,42]}\n",
        "df5 = pd.DataFrame(data, index=['rank1','rank2','rank3','rank4'])\n",
        "print(df5)"
      ],
      "execution_count": 13,
      "outputs": [
        {
          "output_type": "stream",
          "text": [
            "        Name  Age\n",
            "rank1    Tom   28\n",
            "rank2   Jack   34\n",
            "rank3  Steve   29\n",
            "rank4  Ricky   42\n"
          ],
          "name": "stdout"
        }
      ]
    },
    {
      "cell_type": "code",
      "metadata": {
        "id": "MryvxqoKf3Z1",
        "outputId": "74974b58-bb65-47a5-91b4-38c858bba1d2",
        "colab": {
          "base_uri": "https://localhost:8080/"
        }
      },
      "source": [
        "# Create a DataFrame from List of Dicts\n",
        "data = [{'a': 1, 'b': 2},{'a': 5, 'b': 10, 'c': 20}]\n",
        "df6 = pd.DataFrame(data)\n",
        "print(df6)"
      ],
      "execution_count": 14,
      "outputs": [
        {
          "output_type": "stream",
          "text": [
            "   a   b     c\n",
            "0  1   2   NaN\n",
            "1  5  10  20.0\n"
          ],
          "name": "stdout"
        }
      ]
    },
    {
      "cell_type": "code",
      "metadata": {
        "id": "4sbUyVl6f9Xd",
        "outputId": "33722c90-bf88-48d2-e87e-c9a546d01bcf",
        "colab": {
          "base_uri": "https://localhost:8080/"
        }
      },
      "source": [
        "# With two column indices/values \n",
        "data = [{'a': 1, 'b': 2},{'a': 5, 'b': 10, 'c': 20}]\n",
        "df7 = pd.DataFrame(data, index=['first', 'second'], columns=['a', 'b'])\n",
        "print(df7)"
      ],
      "execution_count": 15,
      "outputs": [
        {
          "output_type": "stream",
          "text": [
            "        a   b\n",
            "first   1   2\n",
            "second  5  10\n"
          ],
          "name": "stdout"
        }
      ]
    },
    {
      "cell_type": "code",
      "metadata": {
        "id": "pjhqDUSDgaC2",
        "outputId": "cd8f0f6a-8f7a-4b57-cd15-383101026600",
        "colab": {
          "base_uri": "https://localhost:8080/"
        }
      },
      "source": [
        "# With two column indices/values with one undefined index\n",
        "data = [{'a': 1, 'b': 2},{'a': 5, 'b': 10, 'c': 20}]\n",
        "df8 = pd.DataFrame(data, index=['first', 'second'], columns=['a', 'b1'])\n",
        "print(df8)"
      ],
      "execution_count": 16,
      "outputs": [
        {
          "output_type": "stream",
          "text": [
            "        a  b1\n",
            "first   1 NaN\n",
            "second  5 NaN\n"
          ],
          "name": "stdout"
        }
      ]
    },
    {
      "cell_type": "code",
      "metadata": {
        "id": "jvvsZdJwgstl",
        "outputId": "961c751c-0f73-4bea-dfc2-79ea613d43fd",
        "colab": {
          "base_uri": "https://localhost:8080/"
        }
      },
      "source": [
        "# Create a DataFrame from Dict of Series\n",
        "data = {'one' : pd.Series([1, 2, 3], index=['a', 'b', 'c']),\n",
        "   'two' : pd.Series([1, 2, 3, 4], index=['a', 'b', 'c', 'd'])}\n",
        "df9 = pd.DataFrame(data)\n",
        "print(df9)"
      ],
      "execution_count": 17,
      "outputs": [
        {
          "output_type": "stream",
          "text": [
            "   one  two\n",
            "a  1.0    1\n",
            "b  2.0    2\n",
            "c  3.0    3\n",
            "d  NaN    4\n"
          ],
          "name": "stdout"
        }
      ]
    },
    {
      "cell_type": "code",
      "metadata": {
        "id": "LD_SC-10g2l2",
        "outputId": "2d1ce9dc-fce5-4318-cb5f-ef7e465c95e2",
        "colab": {
          "base_uri": "https://localhost:8080/"
        }
      },
      "source": [
        "# Dataframe Column Selection\n",
        "print(df9['one'])"
      ],
      "execution_count": 18,
      "outputs": [
        {
          "output_type": "stream",
          "text": [
            "a    1.0\n",
            "b    2.0\n",
            "c    3.0\n",
            "d    NaN\n",
            "Name: one, dtype: float64\n"
          ],
          "name": "stdout"
        }
      ]
    },
    {
      "cell_type": "code",
      "metadata": {
        "id": "jzChy4TVhCbl",
        "outputId": "d949a2ab-e1d9-4ec6-eb9f-1dba1c45eecf",
        "colab": {
          "base_uri": "https://localhost:8080/"
        }
      },
      "source": [
        "# Dataframe Column Addition\n",
        "df9['three']=df9['one']+df9['two']\n",
        "print(df9)"
      ],
      "execution_count": 19,
      "outputs": [
        {
          "output_type": "stream",
          "text": [
            "   one  two  three\n",
            "a  1.0    1    2.0\n",
            "b  2.0    2    4.0\n",
            "c  3.0    3    6.0\n",
            "d  NaN    4    NaN\n"
          ],
          "name": "stdout"
        }
      ]
    },
    {
      "cell_type": "code",
      "metadata": {
        "id": "IR7TjV4-hTWR",
        "outputId": "ba9cdcf5-5acd-440d-eec1-3ec8b186ac52",
        "colab": {
          "base_uri": "https://localhost:8080/"
        }
      },
      "source": [
        "# Dataframe Column Deletion\n",
        "del df9['three']\n",
        "print(df9)"
      ],
      "execution_count": 20,
      "outputs": [
        {
          "output_type": "stream",
          "text": [
            "   one  two\n",
            "a  1.0    1\n",
            "b  2.0    2\n",
            "c  3.0    3\n",
            "d  NaN    4\n"
          ],
          "name": "stdout"
        }
      ]
    },
    {
      "cell_type": "code",
      "metadata": {
        "id": "ujeoFSJWhcFE",
        "outputId": "64e9e1f1-ad28-48c7-b945-93f4e493faf0",
        "colab": {
          "base_uri": "https://localhost:8080/"
        }
      },
      "source": [
        "df9.pop('two')\n",
        "print(df9)"
      ],
      "execution_count": 21,
      "outputs": [
        {
          "output_type": "stream",
          "text": [
            "   one\n",
            "a  1.0\n",
            "b  2.0\n",
            "c  3.0\n",
            "d  NaN\n"
          ],
          "name": "stdout"
        }
      ]
    },
    {
      "cell_type": "code",
      "metadata": {
        "id": "4UrwlhqhhpEl",
        "outputId": "1edff218-0e84-4e37-c180-29193155f779",
        "colab": {
          "base_uri": "https://localhost:8080/"
        }
      },
      "source": [
        "# Row Selection by Label\n",
        "d = {'one' : pd.Series([1, 2, 3], index=['a', 'b', 'c']), \n",
        "   'two' : pd.Series([1, 2, 3, 4], index=['a', 'b', 'c', 'd'])}\n",
        "df = pd.DataFrame(d)\n",
        "print(df.loc['b'])"
      ],
      "execution_count": 22,
      "outputs": [
        {
          "output_type": "stream",
          "text": [
            "one    2.0\n",
            "two    2.0\n",
            "Name: b, dtype: float64\n"
          ],
          "name": "stdout"
        }
      ]
    },
    {
      "cell_type": "code",
      "metadata": {
        "id": "cEtWZHNuhxym",
        "outputId": "ca4f412f-19ef-4a89-f69d-087be9e670dc",
        "colab": {
          "base_uri": "https://localhost:8080/"
        }
      },
      "source": [
        "# Selection by integer location\n",
        "print(df.iloc[2])"
      ],
      "execution_count": 23,
      "outputs": [
        {
          "output_type": "stream",
          "text": [
            "one    3.0\n",
            "two    3.0\n",
            "Name: c, dtype: float64\n"
          ],
          "name": "stdout"
        }
      ]
    },
    {
      "cell_type": "code",
      "metadata": {
        "id": "HQeWeMmphxuq",
        "outputId": "115b0818-7f9f-4074-ce08-ab7417e4fb82",
        "colab": {
          "base_uri": "https://localhost:8080/"
        }
      },
      "source": [
        "# Slice rows\n",
        "print(df[2:4])"
      ],
      "execution_count": 24,
      "outputs": [
        {
          "output_type": "stream",
          "text": [
            "   one  two\n",
            "c  3.0    3\n",
            "d  NaN    4\n"
          ],
          "name": "stdout"
        }
      ]
    },
    {
      "cell_type": "code",
      "metadata": {
        "id": "F9jFZxWkh-IY",
        "outputId": "741bbdf1-9dae-42f4-ca75-c71512f3b752",
        "colab": {
          "base_uri": "https://localhost:8080/",
          "height": 171
        }
      },
      "source": [
        "# row deletion\n",
        "df.drop('one', axis=1)"
      ],
      "execution_count": 25,
      "outputs": [
        {
          "output_type": "execute_result",
          "data": {
            "text/html": [
              "<div>\n",
              "<style scoped>\n",
              "    .dataframe tbody tr th:only-of-type {\n",
              "        vertical-align: middle;\n",
              "    }\n",
              "\n",
              "    .dataframe tbody tr th {\n",
              "        vertical-align: top;\n",
              "    }\n",
              "\n",
              "    .dataframe thead th {\n",
              "        text-align: right;\n",
              "    }\n",
              "</style>\n",
              "<table border=\"1\" class=\"dataframe\">\n",
              "  <thead>\n",
              "    <tr style=\"text-align: right;\">\n",
              "      <th></th>\n",
              "      <th>two</th>\n",
              "    </tr>\n",
              "  </thead>\n",
              "  <tbody>\n",
              "    <tr>\n",
              "      <th>a</th>\n",
              "      <td>1</td>\n",
              "    </tr>\n",
              "    <tr>\n",
              "      <th>b</th>\n",
              "      <td>2</td>\n",
              "    </tr>\n",
              "    <tr>\n",
              "      <th>c</th>\n",
              "      <td>3</td>\n",
              "    </tr>\n",
              "    <tr>\n",
              "      <th>d</th>\n",
              "      <td>4</td>\n",
              "    </tr>\n",
              "  </tbody>\n",
              "</table>\n",
              "</div>"
            ],
            "text/plain": [
              "   two\n",
              "a    1\n",
              "b    2\n",
              "c    3\n",
              "d    4"
            ]
          },
          "metadata": {
            "tags": []
          },
          "execution_count": 25
        }
      ]
    },
    {
      "cell_type": "code",
      "metadata": {
        "id": "5qRrCbZ7k2sk",
        "outputId": "464f5dec-1db9-4132-e67a-2b49b9f8fd03",
        "colab": {
          "base_uri": "https://localhost:8080/",
          "height": 110
        }
      },
      "source": [
        "# Returns the transpose of the DataFrame.\n",
        "df.T"
      ],
      "execution_count": 35,
      "outputs": [
        {
          "output_type": "execute_result",
          "data": {
            "text/html": [
              "<div>\n",
              "<style scoped>\n",
              "    .dataframe tbody tr th:only-of-type {\n",
              "        vertical-align: middle;\n",
              "    }\n",
              "\n",
              "    .dataframe tbody tr th {\n",
              "        vertical-align: top;\n",
              "    }\n",
              "\n",
              "    .dataframe thead th {\n",
              "        text-align: right;\n",
              "    }\n",
              "</style>\n",
              "<table border=\"1\" class=\"dataframe\">\n",
              "  <thead>\n",
              "    <tr style=\"text-align: right;\">\n",
              "      <th></th>\n",
              "      <th>a</th>\n",
              "      <th>b</th>\n",
              "      <th>c</th>\n",
              "      <th>d</th>\n",
              "    </tr>\n",
              "  </thead>\n",
              "  <tbody>\n",
              "    <tr>\n",
              "      <th>one</th>\n",
              "      <td>1.0</td>\n",
              "      <td>2.0</td>\n",
              "      <td>3.0</td>\n",
              "      <td>NaN</td>\n",
              "    </tr>\n",
              "    <tr>\n",
              "      <th>two</th>\n",
              "      <td>1.0</td>\n",
              "      <td>2.0</td>\n",
              "      <td>3.0</td>\n",
              "      <td>4.0</td>\n",
              "    </tr>\n",
              "  </tbody>\n",
              "</table>\n",
              "</div>"
            ],
            "text/plain": [
              "       a    b    c    d\n",
              "one  1.0  2.0  3.0  NaN\n",
              "two  1.0  2.0  3.0  4.0"
            ]
          },
          "metadata": {
            "tags": []
          },
          "execution_count": 35
        }
      ]
    },
    {
      "cell_type": "code",
      "metadata": {
        "id": "tcF2zi1x_PHU",
        "outputId": "e865d369-19d4-4465-d1c6-4a45f754b87c",
        "colab": {
          "base_uri": "https://localhost:8080/"
        }
      },
      "source": [
        "df.axes"
      ],
      "execution_count": 36,
      "outputs": [
        {
          "output_type": "execute_result",
          "data": {
            "text/plain": [
              "[Index(['a', 'b', 'c', 'd'], dtype='object'),\n",
              " Index(['one', 'two'], dtype='object')]"
            ]
          },
          "metadata": {
            "tags": []
          },
          "execution_count": 36
        }
      ]
    },
    {
      "cell_type": "code",
      "metadata": {
        "id": "dYaWnW9o_Sqk",
        "outputId": "a9f086b5-6b67-4330-d61f-2b717d2ec639",
        "colab": {
          "base_uri": "https://localhost:8080/"
        }
      },
      "source": [
        "df.dtypes"
      ],
      "execution_count": 37,
      "outputs": [
        {
          "output_type": "execute_result",
          "data": {
            "text/plain": [
              "one    float64\n",
              "two      int64\n",
              "dtype: object"
            ]
          },
          "metadata": {
            "tags": []
          },
          "execution_count": 37
        }
      ]
    },
    {
      "cell_type": "code",
      "metadata": {
        "id": "LDLBM2VB_VQw",
        "outputId": "2828fa53-a2fd-4026-88ad-98092f429ce7",
        "colab": {
          "base_uri": "https://localhost:8080/"
        }
      },
      "source": [
        "df.empty"
      ],
      "execution_count": 38,
      "outputs": [
        {
          "output_type": "execute_result",
          "data": {
            "text/plain": [
              "False"
            ]
          },
          "metadata": {
            "tags": []
          },
          "execution_count": 38
        }
      ]
    },
    {
      "cell_type": "code",
      "metadata": {
        "id": "NRr40Twz_ZKS",
        "outputId": "d3d0a289-e2d9-4aca-9bf3-8014afb39163",
        "colab": {
          "base_uri": "https://localhost:8080/"
        }
      },
      "source": [
        "df.ndim"
      ],
      "execution_count": 39,
      "outputs": [
        {
          "output_type": "execute_result",
          "data": {
            "text/plain": [
              "2"
            ]
          },
          "metadata": {
            "tags": []
          },
          "execution_count": 39
        }
      ]
    },
    {
      "cell_type": "markdown",
      "metadata": {
        "id": "mVomyuqi_qj7"
      },
      "source": [
        "# Pandas - Statistics"
      ]
    },
    {
      "cell_type": "code",
      "metadata": {
        "id": "v8JQY-HE_t3l"
      },
      "source": [
        "import pandas as pd\n",
        "d = {'Name':pd.Series(['Tom','James','Ricky','Vin','Steve','Smith','Jack',\n",
        "   'Lee','David','Gasper','Betina','Andres']),\n",
        "   'Age':pd.Series([25,26,25,23,30,29,23,34,40,30,51,46]),\n",
        "   'Rating':pd.Series([4.23,3.24,3.98,2.56,3.20,4.6,3.8,3.78,2.98,4.80,4.10,3.65])\n",
        "}\n",
        "dF = pd.DataFrame(d)"
      ],
      "execution_count": 41,
      "outputs": []
    },
    {
      "cell_type": "code",
      "metadata": {
        "id": "n9QeEIes_ziC",
        "outputId": "e7780c65-424c-4a47-baaa-27014e0abde4",
        "colab": {
          "base_uri": "https://localhost:8080/"
        }
      },
      "source": [
        "dF.sum()"
      ],
      "execution_count": 42,
      "outputs": [
        {
          "output_type": "execute_result",
          "data": {
            "text/plain": [
              "Name      TomJamesRickyVinSteveSmithJackLeeDavidGasperBe...\n",
              "Age                                                     382\n",
              "Rating                                                44.92\n",
              "dtype: object"
            ]
          },
          "metadata": {
            "tags": []
          },
          "execution_count": 42
        }
      ]
    },
    {
      "cell_type": "code",
      "metadata": {
        "id": "5gCaxNyf_8P3",
        "outputId": "7b92dfa4-06fb-426f-ad47-a462ac4f009d",
        "colab": {
          "base_uri": "https://localhost:8080/"
        }
      },
      "source": [
        "dF.sum(1)"
      ],
      "execution_count": 43,
      "outputs": [
        {
          "output_type": "execute_result",
          "data": {
            "text/plain": [
              "0     29.23\n",
              "1     29.24\n",
              "2     28.98\n",
              "3     25.56\n",
              "4     33.20\n",
              "5     33.60\n",
              "6     26.80\n",
              "7     37.78\n",
              "8     42.98\n",
              "9     34.80\n",
              "10    55.10\n",
              "11    49.65\n",
              "dtype: float64"
            ]
          },
          "metadata": {
            "tags": []
          },
          "execution_count": 43
        }
      ]
    },
    {
      "cell_type": "code",
      "metadata": {
        "id": "C4o9Jsj2AAfs",
        "outputId": "39c793c7-ff70-46ea-9cdf-2f68fe7c2e09",
        "colab": {
          "base_uri": "https://localhost:8080/"
        }
      },
      "source": [
        "# Returns the average value\n",
        "dF.mean()"
      ],
      "execution_count": 44,
      "outputs": [
        {
          "output_type": "execute_result",
          "data": {
            "text/plain": [
              "Age       31.833333\n",
              "Rating     3.743333\n",
              "dtype: float64"
            ]
          },
          "metadata": {
            "tags": []
          },
          "execution_count": 44
        }
      ]
    },
    {
      "cell_type": "code",
      "metadata": {
        "id": "bEE70ePdAGux",
        "outputId": "8be6ef63-1073-4f40-b0b4-c1d7b38c8fce",
        "colab": {
          "base_uri": "https://localhost:8080/"
        }
      },
      "source": [
        "# Returns the Bressel standard deviation \n",
        "dF.std()"
      ],
      "execution_count": 45,
      "outputs": [
        {
          "output_type": "execute_result",
          "data": {
            "text/plain": [
              "Age       9.232682\n",
              "Rating    0.661628\n",
              "dtype: float64"
            ]
          },
          "metadata": {
            "tags": []
          },
          "execution_count": 45
        }
      ]
    },
    {
      "cell_type": "code",
      "metadata": {
        "id": "r2kzWaP8AKN4",
        "outputId": "f9aa5df9-e654-4ec8-adbf-60e3808565e9",
        "colab": {
          "base_uri": "https://localhost:8080/",
          "height": 294
        }
      },
      "source": [
        "# summary of data\n",
        "dF.describe()"
      ],
      "execution_count": 46,
      "outputs": [
        {
          "output_type": "execute_result",
          "data": {
            "text/html": [
              "<div>\n",
              "<style scoped>\n",
              "    .dataframe tbody tr th:only-of-type {\n",
              "        vertical-align: middle;\n",
              "    }\n",
              "\n",
              "    .dataframe tbody tr th {\n",
              "        vertical-align: top;\n",
              "    }\n",
              "\n",
              "    .dataframe thead th {\n",
              "        text-align: right;\n",
              "    }\n",
              "</style>\n",
              "<table border=\"1\" class=\"dataframe\">\n",
              "  <thead>\n",
              "    <tr style=\"text-align: right;\">\n",
              "      <th></th>\n",
              "      <th>Age</th>\n",
              "      <th>Rating</th>\n",
              "    </tr>\n",
              "  </thead>\n",
              "  <tbody>\n",
              "    <tr>\n",
              "      <th>count</th>\n",
              "      <td>12.000000</td>\n",
              "      <td>12.000000</td>\n",
              "    </tr>\n",
              "    <tr>\n",
              "      <th>mean</th>\n",
              "      <td>31.833333</td>\n",
              "      <td>3.743333</td>\n",
              "    </tr>\n",
              "    <tr>\n",
              "      <th>std</th>\n",
              "      <td>9.232682</td>\n",
              "      <td>0.661628</td>\n",
              "    </tr>\n",
              "    <tr>\n",
              "      <th>min</th>\n",
              "      <td>23.000000</td>\n",
              "      <td>2.560000</td>\n",
              "    </tr>\n",
              "    <tr>\n",
              "      <th>25%</th>\n",
              "      <td>25.000000</td>\n",
              "      <td>3.230000</td>\n",
              "    </tr>\n",
              "    <tr>\n",
              "      <th>50%</th>\n",
              "      <td>29.500000</td>\n",
              "      <td>3.790000</td>\n",
              "    </tr>\n",
              "    <tr>\n",
              "      <th>75%</th>\n",
              "      <td>35.500000</td>\n",
              "      <td>4.132500</td>\n",
              "    </tr>\n",
              "    <tr>\n",
              "      <th>max</th>\n",
              "      <td>51.000000</td>\n",
              "      <td>4.800000</td>\n",
              "    </tr>\n",
              "  </tbody>\n",
              "</table>\n",
              "</div>"
            ],
            "text/plain": [
              "             Age     Rating\n",
              "count  12.000000  12.000000\n",
              "mean   31.833333   3.743333\n",
              "std     9.232682   0.661628\n",
              "min    23.000000   2.560000\n",
              "25%    25.000000   3.230000\n",
              "50%    29.500000   3.790000\n",
              "75%    35.500000   4.132500\n",
              "max    51.000000   4.800000"
            ]
          },
          "metadata": {
            "tags": []
          },
          "execution_count": 46
        }
      ]
    },
    {
      "cell_type": "code",
      "metadata": {
        "id": "GGx3qNKmAazy",
        "outputId": "afb82b6e-bbaa-4aec-c9d0-635be805cae2",
        "colab": {
          "base_uri": "https://localhost:8080/",
          "height": 171
        }
      },
      "source": [
        "dF.describe(include=['object']) # object − Summarizes String columns"
      ],
      "execution_count": 47,
      "outputs": [
        {
          "output_type": "execute_result",
          "data": {
            "text/html": [
              "<div>\n",
              "<style scoped>\n",
              "    .dataframe tbody tr th:only-of-type {\n",
              "        vertical-align: middle;\n",
              "    }\n",
              "\n",
              "    .dataframe tbody tr th {\n",
              "        vertical-align: top;\n",
              "    }\n",
              "\n",
              "    .dataframe thead th {\n",
              "        text-align: right;\n",
              "    }\n",
              "</style>\n",
              "<table border=\"1\" class=\"dataframe\">\n",
              "  <thead>\n",
              "    <tr style=\"text-align: right;\">\n",
              "      <th></th>\n",
              "      <th>Name</th>\n",
              "    </tr>\n",
              "  </thead>\n",
              "  <tbody>\n",
              "    <tr>\n",
              "      <th>count</th>\n",
              "      <td>12</td>\n",
              "    </tr>\n",
              "    <tr>\n",
              "      <th>unique</th>\n",
              "      <td>12</td>\n",
              "    </tr>\n",
              "    <tr>\n",
              "      <th>top</th>\n",
              "      <td>Ricky</td>\n",
              "    </tr>\n",
              "    <tr>\n",
              "      <th>freq</th>\n",
              "      <td>1</td>\n",
              "    </tr>\n",
              "  </tbody>\n",
              "</table>\n",
              "</div>"
            ],
            "text/plain": [
              "         Name\n",
              "count      12\n",
              "unique     12\n",
              "top     Ricky\n",
              "freq        1"
            ]
          },
          "metadata": {
            "tags": []
          },
          "execution_count": 47
        }
      ]
    },
    {
      "cell_type": "code",
      "metadata": {
        "id": "TuOxowB-Ak18",
        "outputId": "04c5acf0-115e-46e0-af67-d454489d7f75",
        "colab": {
          "base_uri": "https://localhost:8080/",
          "height": 386
        }
      },
      "source": [
        "dF.describe(include='all')"
      ],
      "execution_count": 48,
      "outputs": [
        {
          "output_type": "execute_result",
          "data": {
            "text/html": [
              "<div>\n",
              "<style scoped>\n",
              "    .dataframe tbody tr th:only-of-type {\n",
              "        vertical-align: middle;\n",
              "    }\n",
              "\n",
              "    .dataframe tbody tr th {\n",
              "        vertical-align: top;\n",
              "    }\n",
              "\n",
              "    .dataframe thead th {\n",
              "        text-align: right;\n",
              "    }\n",
              "</style>\n",
              "<table border=\"1\" class=\"dataframe\">\n",
              "  <thead>\n",
              "    <tr style=\"text-align: right;\">\n",
              "      <th></th>\n",
              "      <th>Name</th>\n",
              "      <th>Age</th>\n",
              "      <th>Rating</th>\n",
              "    </tr>\n",
              "  </thead>\n",
              "  <tbody>\n",
              "    <tr>\n",
              "      <th>count</th>\n",
              "      <td>12</td>\n",
              "      <td>12.000000</td>\n",
              "      <td>12.000000</td>\n",
              "    </tr>\n",
              "    <tr>\n",
              "      <th>unique</th>\n",
              "      <td>12</td>\n",
              "      <td>NaN</td>\n",
              "      <td>NaN</td>\n",
              "    </tr>\n",
              "    <tr>\n",
              "      <th>top</th>\n",
              "      <td>Ricky</td>\n",
              "      <td>NaN</td>\n",
              "      <td>NaN</td>\n",
              "    </tr>\n",
              "    <tr>\n",
              "      <th>freq</th>\n",
              "      <td>1</td>\n",
              "      <td>NaN</td>\n",
              "      <td>NaN</td>\n",
              "    </tr>\n",
              "    <tr>\n",
              "      <th>mean</th>\n",
              "      <td>NaN</td>\n",
              "      <td>31.833333</td>\n",
              "      <td>3.743333</td>\n",
              "    </tr>\n",
              "    <tr>\n",
              "      <th>std</th>\n",
              "      <td>NaN</td>\n",
              "      <td>9.232682</td>\n",
              "      <td>0.661628</td>\n",
              "    </tr>\n",
              "    <tr>\n",
              "      <th>min</th>\n",
              "      <td>NaN</td>\n",
              "      <td>23.000000</td>\n",
              "      <td>2.560000</td>\n",
              "    </tr>\n",
              "    <tr>\n",
              "      <th>25%</th>\n",
              "      <td>NaN</td>\n",
              "      <td>25.000000</td>\n",
              "      <td>3.230000</td>\n",
              "    </tr>\n",
              "    <tr>\n",
              "      <th>50%</th>\n",
              "      <td>NaN</td>\n",
              "      <td>29.500000</td>\n",
              "      <td>3.790000</td>\n",
              "    </tr>\n",
              "    <tr>\n",
              "      <th>75%</th>\n",
              "      <td>NaN</td>\n",
              "      <td>35.500000</td>\n",
              "      <td>4.132500</td>\n",
              "    </tr>\n",
              "    <tr>\n",
              "      <th>max</th>\n",
              "      <td>NaN</td>\n",
              "      <td>51.000000</td>\n",
              "      <td>4.800000</td>\n",
              "    </tr>\n",
              "  </tbody>\n",
              "</table>\n",
              "</div>"
            ],
            "text/plain": [
              "         Name        Age     Rating\n",
              "count      12  12.000000  12.000000\n",
              "unique     12        NaN        NaN\n",
              "top     Ricky        NaN        NaN\n",
              "freq        1        NaN        NaN\n",
              "mean      NaN  31.833333   3.743333\n",
              "std       NaN   9.232682   0.661628\n",
              "min       NaN  23.000000   2.560000\n",
              "25%       NaN  25.000000   3.230000\n",
              "50%       NaN  29.500000   3.790000\n",
              "75%       NaN  35.500000   4.132500\n",
              "max       NaN  51.000000   4.800000"
            ]
          },
          "metadata": {
            "tags": []
          },
          "execution_count": 48
        }
      ]
    },
    {
      "cell_type": "code",
      "metadata": {
        "id": "BXdkWE3PK11i",
        "outputId": "d8cc4830-ce26-4904-ed99-40cd7f461576",
        "colab": {
          "base_uri": "https://localhost:8080/"
        }
      },
      "source": [
        "# Covariance\n",
        "s1 = pd.Series(np.random.randn(10))\n",
        "s2 = pd.Series(np.random.randn(10))\n",
        "print(s1.cov(s2))"
      ],
      "execution_count": 126,
      "outputs": [
        {
          "output_type": "stream",
          "text": [
            "-0.022697646799474103\n"
          ],
          "name": "stdout"
        }
      ]
    },
    {
      "cell_type": "code",
      "metadata": {
        "id": "fKAVyqcDK9s8",
        "outputId": "de95d15a-9a15-4e7d-bd2a-ee5458414252",
        "colab": {
          "base_uri": "https://localhost:8080/"
        }
      },
      "source": [
        "# Correlation\n",
        "frame = pd.DataFrame(np.random.randn(10, 5), columns=['a', 'b', 'c', 'd', 'e'])\n",
        "print(frame['a'].corr(frame['b']))\n",
        "print(frame.corr())"
      ],
      "execution_count": 127,
      "outputs": [
        {
          "output_type": "stream",
          "text": [
            "-0.05529620476029093\n",
            "          a         b         c         d         e\n",
            "a  1.000000 -0.055296  0.064005  0.553387 -0.489548\n",
            "b -0.055296  1.000000 -0.233413 -0.208494  0.010119\n",
            "c  0.064005 -0.233413  1.000000 -0.226778  0.079406\n",
            "d  0.553387 -0.208494 -0.226778  1.000000 -0.621669\n",
            "e -0.489548  0.010119  0.079406 -0.621669  1.000000\n"
          ],
          "name": "stdout"
        }
      ]
    },
    {
      "cell_type": "code",
      "metadata": {
        "id": "OE5QtxUjLMo1",
        "outputId": "82a7240f-1ac3-4e4b-b2e7-759c9f9ac092",
        "colab": {
          "base_uri": "https://localhost:8080/"
        }
      },
      "source": [
        "# Ranking\n",
        "s = pd.Series(np.random.randn(10), index=list('abcdefghij'))\n",
        "s['d'] = s['b'] \n",
        "print(s.rank())"
      ],
      "execution_count": 133,
      "outputs": [
        {
          "output_type": "stream",
          "text": [
            "a     3.0\n",
            "b     4.5\n",
            "c     6.0\n",
            "d     4.5\n",
            "e     7.0\n",
            "f     2.0\n",
            "g     9.0\n",
            "h     8.0\n",
            "i     1.0\n",
            "j    10.0\n",
            "dtype: float64\n"
          ],
          "name": "stdout"
        }
      ]
    },
    {
      "cell_type": "markdown",
      "metadata": {
        "id": "9e6VhHzVA-JR"
      },
      "source": [
        "# Pandas - Function Application"
      ]
    },
    {
      "cell_type": "code",
      "metadata": {
        "id": "L9nPXCfdAx9e",
        "outputId": "b1ddd420-7c22-44bc-dcca-b1a2e2919df6",
        "colab": {
          "base_uri": "https://localhost:8080/"
        }
      },
      "source": [
        "df = pd.DataFrame(np.random.randn(5,3),columns=['col1','col2','col3'])\n",
        "df.apply(np.mean)\n",
        "print(df.apply(np.mean))"
      ],
      "execution_count": 51,
      "outputs": [
        {
          "output_type": "stream",
          "text": [
            "col1   -0.178226\n",
            "col2   -0.181000\n",
            "col3    0.336711\n",
            "dtype: float64\n"
          ],
          "name": "stdout"
        }
      ]
    },
    {
      "cell_type": "code",
      "metadata": {
        "id": "rlxbodgABnRh",
        "outputId": "f79c8cb1-2a8f-4e46-cdd8-0228af3744e0",
        "colab": {
          "base_uri": "https://localhost:8080/"
        }
      },
      "source": [
        "df = pd.DataFrame(np.random.randn(5,3),columns=['col1','col2','col3'])\n",
        "df.apply(np.mean,axis=1)\n",
        "print(df.apply(np.mean))"
      ],
      "execution_count": 52,
      "outputs": [
        {
          "output_type": "stream",
          "text": [
            "col1    0.069126\n",
            "col2    0.500573\n",
            "col3    1.071180\n",
            "dtype: float64\n"
          ],
          "name": "stdout"
        }
      ]
    },
    {
      "cell_type": "code",
      "metadata": {
        "id": "JGgJI-5iBrUj",
        "outputId": "61bed519-bc49-40e8-d803-be48516256cd",
        "colab": {
          "base_uri": "https://localhost:8080/"
        }
      },
      "source": [
        "df = pd.DataFrame(np.random.randn(5,3),columns=['col1','col2','col3'])\n",
        "df.apply(lambda x: x.max() - x.min())\n",
        "print(df.apply(np.mean))"
      ],
      "execution_count": 53,
      "outputs": [
        {
          "output_type": "stream",
          "text": [
            "col1   -0.047305\n",
            "col2    0.510442\n",
            "col3    0.415432\n",
            "dtype: float64\n"
          ],
          "name": "stdout"
        }
      ]
    },
    {
      "cell_type": "code",
      "metadata": {
        "id": "L61XAVM3Bwhb",
        "outputId": "009ccafe-36b7-474a-d409-3ed515c7fe86",
        "colab": {
          "base_uri": "https://localhost:8080/"
        }
      },
      "source": [
        "df = pd.DataFrame(np.random.randn(5,3),columns=['col1','col2','col3'])\n",
        "df['col1'].map(lambda x:x*100)\n",
        "print(df.apply(np.mean))"
      ],
      "execution_count": 54,
      "outputs": [
        {
          "output_type": "stream",
          "text": [
            "col1   -0.456251\n",
            "col2    0.517414\n",
            "col3    0.687926\n",
            "dtype: float64\n"
          ],
          "name": "stdout"
        }
      ]
    },
    {
      "cell_type": "code",
      "metadata": {
        "id": "878CEvIBB26j",
        "outputId": "e70339f5-3e87-4688-9dbc-bab75f0e7fff",
        "colab": {
          "base_uri": "https://localhost:8080/"
        }
      },
      "source": [
        "df = pd.DataFrame(np.random.randn(5,3),columns=['col1','col2','col3'])\n",
        "df.applymap(lambda x:x*100)\n",
        "print(df.apply(np.mean))"
      ],
      "execution_count": 55,
      "outputs": [
        {
          "output_type": "stream",
          "text": [
            "col1   -0.018198\n",
            "col2   -0.205966\n",
            "col3   -0.210301\n",
            "dtype: float64\n"
          ],
          "name": "stdout"
        }
      ]
    },
    {
      "cell_type": "markdown",
      "metadata": {
        "id": "CY6KCgWeB_mp"
      },
      "source": [
        "# Pandas - Reindexing"
      ]
    },
    {
      "cell_type": "code",
      "metadata": {
        "id": "RfGTLLC_B7jS",
        "outputId": "caaff7ab-8c1f-4617-a4bb-6cab7cb6409d",
        "colab": {
          "base_uri": "https://localhost:8080/"
        }
      },
      "source": [
        "# Reindexing changes the row labels and column labels of a DataFrame\n",
        "N=20\n",
        "df = pd.DataFrame({\n",
        "   'A': pd.date_range(start='2016-01-01',periods=N,freq='D'),\n",
        "   'y': np.random.rand(N),\n",
        "   'C': np.random.choice(['Low','Medium','High'],N).tolist(),\n",
        "   'D': np.random.normal(100, 10, size=(N)).tolist()\n",
        "})\n",
        "df_reindexed = df.reindex(index=[0,2,5], columns=['A', 'C', 'B'])\n",
        "print(df_reindexed)"
      ],
      "execution_count": 56,
      "outputs": [
        {
          "output_type": "stream",
          "text": [
            "           A       C   B\n",
            "0 2016-01-01  Medium NaN\n",
            "2 2016-01-03  Medium NaN\n",
            "5 2016-01-06     Low NaN\n"
          ],
          "name": "stdout"
        }
      ]
    },
    {
      "cell_type": "code",
      "metadata": {
        "id": "4IivGTxJCTA5",
        "outputId": "4900a35c-51d8-48d0-f08b-72a06ad0d419",
        "colab": {
          "base_uri": "https://localhost:8080/"
        }
      },
      "source": [
        "# Reindex to Align with Other Objects\n",
        "df1 = pd.DataFrame(np.random.randn(6,3),columns=['col1','col2','col3'])\n",
        "df2 = pd.DataFrame(np.random.randn(2,3),columns=['col1','col2','col3'])\n",
        "df2 = df2.reindex_like(df1)\n",
        "print(df2)"
      ],
      "execution_count": 63,
      "outputs": [
        {
          "output_type": "stream",
          "text": [
            "       col1      col2      col3\n",
            "0 -0.751332 -1.237215 -0.431722\n",
            "1 -0.081697  0.765423  1.287506\n",
            "2       NaN       NaN       NaN\n",
            "3       NaN       NaN       NaN\n",
            "4       NaN       NaN       NaN\n",
            "5       NaN       NaN       NaN\n"
          ],
          "name": "stdout"
        }
      ]
    },
    {
      "cell_type": "code",
      "metadata": {
        "id": "XID-o9iaCcqg",
        "outputId": "3a9d704a-a49b-49b7-d330-73a122bcaf92",
        "colab": {
          "base_uri": "https://localhost:8080/",
          "height": 233
        }
      },
      "source": [
        "# Fill values forward\n",
        "df1.reindex_like(df1,method='ffill')"
      ],
      "execution_count": 67,
      "outputs": [
        {
          "output_type": "execute_result",
          "data": {
            "text/html": [
              "<div>\n",
              "<style scoped>\n",
              "    .dataframe tbody tr th:only-of-type {\n",
              "        vertical-align: middle;\n",
              "    }\n",
              "\n",
              "    .dataframe tbody tr th {\n",
              "        vertical-align: top;\n",
              "    }\n",
              "\n",
              "    .dataframe thead th {\n",
              "        text-align: right;\n",
              "    }\n",
              "</style>\n",
              "<table border=\"1\" class=\"dataframe\">\n",
              "  <thead>\n",
              "    <tr style=\"text-align: right;\">\n",
              "      <th></th>\n",
              "      <th>col1</th>\n",
              "      <th>col2</th>\n",
              "      <th>col3</th>\n",
              "    </tr>\n",
              "  </thead>\n",
              "  <tbody>\n",
              "    <tr>\n",
              "      <th>0</th>\n",
              "      <td>0.048002</td>\n",
              "      <td>-2.279639</td>\n",
              "      <td>1.232002</td>\n",
              "    </tr>\n",
              "    <tr>\n",
              "      <th>1</th>\n",
              "      <td>0.991957</td>\n",
              "      <td>3.038786</td>\n",
              "      <td>1.346390</td>\n",
              "    </tr>\n",
              "    <tr>\n",
              "      <th>2</th>\n",
              "      <td>-0.992143</td>\n",
              "      <td>1.683894</td>\n",
              "      <td>1.177881</td>\n",
              "    </tr>\n",
              "    <tr>\n",
              "      <th>3</th>\n",
              "      <td>-1.041202</td>\n",
              "      <td>0.967037</td>\n",
              "      <td>-0.992864</td>\n",
              "    </tr>\n",
              "    <tr>\n",
              "      <th>4</th>\n",
              "      <td>-0.730518</td>\n",
              "      <td>2.541777</td>\n",
              "      <td>-0.280534</td>\n",
              "    </tr>\n",
              "    <tr>\n",
              "      <th>5</th>\n",
              "      <td>-1.285661</td>\n",
              "      <td>-1.330093</td>\n",
              "      <td>-0.217406</td>\n",
              "    </tr>\n",
              "  </tbody>\n",
              "</table>\n",
              "</div>"
            ],
            "text/plain": [
              "       col1      col2      col3\n",
              "0  0.048002 -2.279639  1.232002\n",
              "1  0.991957  3.038786  1.346390\n",
              "2 -0.992143  1.683894  1.177881\n",
              "3 -1.041202  0.967037 -0.992864\n",
              "4 -0.730518  2.541777 -0.280534\n",
              "5 -1.285661 -1.330093 -0.217406"
            ]
          },
          "metadata": {
            "tags": []
          },
          "execution_count": 67
        }
      ]
    },
    {
      "cell_type": "code",
      "metadata": {
        "id": "FvoL0Br3CtgT",
        "outputId": "9ab60690-b212-43e6-90d2-ca066dbb4ea6",
        "colab": {
          "base_uri": "https://localhost:8080/",
          "height": 233
        }
      },
      "source": [
        "# Fill values backward\n",
        "df2.reindex_like(df1,method='bfill')"
      ],
      "execution_count": 66,
      "outputs": [
        {
          "output_type": "execute_result",
          "data": {
            "text/html": [
              "<div>\n",
              "<style scoped>\n",
              "    .dataframe tbody tr th:only-of-type {\n",
              "        vertical-align: middle;\n",
              "    }\n",
              "\n",
              "    .dataframe tbody tr th {\n",
              "        vertical-align: top;\n",
              "    }\n",
              "\n",
              "    .dataframe thead th {\n",
              "        text-align: right;\n",
              "    }\n",
              "</style>\n",
              "<table border=\"1\" class=\"dataframe\">\n",
              "  <thead>\n",
              "    <tr style=\"text-align: right;\">\n",
              "      <th></th>\n",
              "      <th>col1</th>\n",
              "      <th>col2</th>\n",
              "      <th>col3</th>\n",
              "    </tr>\n",
              "  </thead>\n",
              "  <tbody>\n",
              "    <tr>\n",
              "      <th>0</th>\n",
              "      <td>-0.751332</td>\n",
              "      <td>-1.237215</td>\n",
              "      <td>-0.431722</td>\n",
              "    </tr>\n",
              "    <tr>\n",
              "      <th>1</th>\n",
              "      <td>-0.081697</td>\n",
              "      <td>0.765423</td>\n",
              "      <td>1.287506</td>\n",
              "    </tr>\n",
              "    <tr>\n",
              "      <th>2</th>\n",
              "      <td>NaN</td>\n",
              "      <td>NaN</td>\n",
              "      <td>NaN</td>\n",
              "    </tr>\n",
              "    <tr>\n",
              "      <th>3</th>\n",
              "      <td>NaN</td>\n",
              "      <td>NaN</td>\n",
              "      <td>NaN</td>\n",
              "    </tr>\n",
              "    <tr>\n",
              "      <th>4</th>\n",
              "      <td>NaN</td>\n",
              "      <td>NaN</td>\n",
              "      <td>NaN</td>\n",
              "    </tr>\n",
              "    <tr>\n",
              "      <th>5</th>\n",
              "      <td>NaN</td>\n",
              "      <td>NaN</td>\n",
              "      <td>NaN</td>\n",
              "    </tr>\n",
              "  </tbody>\n",
              "</table>\n",
              "</div>"
            ],
            "text/plain": [
              "       col1      col2      col3\n",
              "0 -0.751332 -1.237215 -0.431722\n",
              "1 -0.081697  0.765423  1.287506\n",
              "2       NaN       NaN       NaN\n",
              "3       NaN       NaN       NaN\n",
              "4       NaN       NaN       NaN\n",
              "5       NaN       NaN       NaN"
            ]
          },
          "metadata": {
            "tags": []
          },
          "execution_count": 66
        }
      ]
    },
    {
      "cell_type": "code",
      "metadata": {
        "id": "dqCL479YC6I0",
        "outputId": "a961b5c5-00e2-413a-8df2-dba4ef976e70",
        "colab": {
          "base_uri": "https://localhost:8080/",
          "height": 233
        }
      },
      "source": [
        "# Forward Fill limiting to 1\n",
        "df1.reindex_like(df2,method='ffill',limit=1)"
      ],
      "execution_count": 69,
      "outputs": [
        {
          "output_type": "execute_result",
          "data": {
            "text/html": [
              "<div>\n",
              "<style scoped>\n",
              "    .dataframe tbody tr th:only-of-type {\n",
              "        vertical-align: middle;\n",
              "    }\n",
              "\n",
              "    .dataframe tbody tr th {\n",
              "        vertical-align: top;\n",
              "    }\n",
              "\n",
              "    .dataframe thead th {\n",
              "        text-align: right;\n",
              "    }\n",
              "</style>\n",
              "<table border=\"1\" class=\"dataframe\">\n",
              "  <thead>\n",
              "    <tr style=\"text-align: right;\">\n",
              "      <th></th>\n",
              "      <th>col1</th>\n",
              "      <th>col2</th>\n",
              "      <th>col3</th>\n",
              "    </tr>\n",
              "  </thead>\n",
              "  <tbody>\n",
              "    <tr>\n",
              "      <th>0</th>\n",
              "      <td>0.048002</td>\n",
              "      <td>-2.279639</td>\n",
              "      <td>1.232002</td>\n",
              "    </tr>\n",
              "    <tr>\n",
              "      <th>1</th>\n",
              "      <td>0.991957</td>\n",
              "      <td>3.038786</td>\n",
              "      <td>1.346390</td>\n",
              "    </tr>\n",
              "    <tr>\n",
              "      <th>2</th>\n",
              "      <td>-0.992143</td>\n",
              "      <td>1.683894</td>\n",
              "      <td>1.177881</td>\n",
              "    </tr>\n",
              "    <tr>\n",
              "      <th>3</th>\n",
              "      <td>-1.041202</td>\n",
              "      <td>0.967037</td>\n",
              "      <td>-0.992864</td>\n",
              "    </tr>\n",
              "    <tr>\n",
              "      <th>4</th>\n",
              "      <td>-0.730518</td>\n",
              "      <td>2.541777</td>\n",
              "      <td>-0.280534</td>\n",
              "    </tr>\n",
              "    <tr>\n",
              "      <th>5</th>\n",
              "      <td>-1.285661</td>\n",
              "      <td>-1.330093</td>\n",
              "      <td>-0.217406</td>\n",
              "    </tr>\n",
              "  </tbody>\n",
              "</table>\n",
              "</div>"
            ],
            "text/plain": [
              "       col1      col2      col3\n",
              "0  0.048002 -2.279639  1.232002\n",
              "1  0.991957  3.038786  1.346390\n",
              "2 -0.992143  1.683894  1.177881\n",
              "3 -1.041202  0.967037 -0.992864\n",
              "4 -0.730518  2.541777 -0.280534\n",
              "5 -1.285661 -1.330093 -0.217406"
            ]
          },
          "metadata": {
            "tags": []
          },
          "execution_count": 69
        }
      ]
    },
    {
      "cell_type": "code",
      "metadata": {
        "id": "DjnxoRRaDqIq",
        "outputId": "9e65b182-eedf-411e-ff6d-f8bcd1ba07aa",
        "colab": {
          "base_uri": "https://localhost:8080/",
          "height": 233
        }
      },
      "source": [
        "# renaming\n",
        "df1.rename(columns={'col1' : 'c1', 'col2' : 'c2'})"
      ],
      "execution_count": 71,
      "outputs": [
        {
          "output_type": "execute_result",
          "data": {
            "text/html": [
              "<div>\n",
              "<style scoped>\n",
              "    .dataframe tbody tr th:only-of-type {\n",
              "        vertical-align: middle;\n",
              "    }\n",
              "\n",
              "    .dataframe tbody tr th {\n",
              "        vertical-align: top;\n",
              "    }\n",
              "\n",
              "    .dataframe thead th {\n",
              "        text-align: right;\n",
              "    }\n",
              "</style>\n",
              "<table border=\"1\" class=\"dataframe\">\n",
              "  <thead>\n",
              "    <tr style=\"text-align: right;\">\n",
              "      <th></th>\n",
              "      <th>c1</th>\n",
              "      <th>c2</th>\n",
              "      <th>col3</th>\n",
              "    </tr>\n",
              "  </thead>\n",
              "  <tbody>\n",
              "    <tr>\n",
              "      <th>0</th>\n",
              "      <td>0.048002</td>\n",
              "      <td>-2.279639</td>\n",
              "      <td>1.232002</td>\n",
              "    </tr>\n",
              "    <tr>\n",
              "      <th>1</th>\n",
              "      <td>0.991957</td>\n",
              "      <td>3.038786</td>\n",
              "      <td>1.346390</td>\n",
              "    </tr>\n",
              "    <tr>\n",
              "      <th>2</th>\n",
              "      <td>-0.992143</td>\n",
              "      <td>1.683894</td>\n",
              "      <td>1.177881</td>\n",
              "    </tr>\n",
              "    <tr>\n",
              "      <th>3</th>\n",
              "      <td>-1.041202</td>\n",
              "      <td>0.967037</td>\n",
              "      <td>-0.992864</td>\n",
              "    </tr>\n",
              "    <tr>\n",
              "      <th>4</th>\n",
              "      <td>-0.730518</td>\n",
              "      <td>2.541777</td>\n",
              "      <td>-0.280534</td>\n",
              "    </tr>\n",
              "    <tr>\n",
              "      <th>5</th>\n",
              "      <td>-1.285661</td>\n",
              "      <td>-1.330093</td>\n",
              "      <td>-0.217406</td>\n",
              "    </tr>\n",
              "  </tbody>\n",
              "</table>\n",
              "</div>"
            ],
            "text/plain": [
              "         c1        c2      col3\n",
              "0  0.048002 -2.279639  1.232002\n",
              "1  0.991957  3.038786  1.346390\n",
              "2 -0.992143  1.683894  1.177881\n",
              "3 -1.041202  0.967037 -0.992864\n",
              "4 -0.730518  2.541777 -0.280534\n",
              "5 -1.285661 -1.330093 -0.217406"
            ]
          },
          "metadata": {
            "tags": []
          },
          "execution_count": 71
        }
      ]
    },
    {
      "cell_type": "markdown",
      "metadata": {
        "id": "5EPu2M60D_WD"
      },
      "source": [
        "# Pandas - Iteration"
      ]
    },
    {
      "cell_type": "code",
      "metadata": {
        "id": "kOaCdJLiDwX1",
        "outputId": "fcc17a5a-bcf3-435c-882d-e2a4ff0cf7d4",
        "colab": {
          "base_uri": "https://localhost:8080/"
        }
      },
      "source": [
        "df = pd.DataFrame(np.random.randn(4,3),columns=['col1','col2','col3'])\n",
        "for k,v in df.iteritems():\n",
        "   print(k,v)"
      ],
      "execution_count": 72,
      "outputs": [
        {
          "output_type": "stream",
          "text": [
            "col1 0    0.111670\n",
            "1   -0.761965\n",
            "2   -0.497148\n",
            "3   -0.056755\n",
            "Name: col1, dtype: float64\n",
            "col2 0    0.068655\n",
            "1    2.748030\n",
            "2   -0.875052\n",
            "3    1.290085\n",
            "Name: col2, dtype: float64\n",
            "col3 0   -0.627983\n",
            "1    0.917118\n",
            "2   -1.797433\n",
            "3    0.158519\n",
            "Name: col3, dtype: float64\n"
          ],
          "name": "stdout"
        }
      ]
    },
    {
      "cell_type": "code",
      "metadata": {
        "id": "D5wcA90MEJ5d",
        "outputId": "729c806b-76dc-4902-f421-fbbea032742b",
        "colab": {
          "base_uri": "https://localhost:8080/"
        }
      },
      "source": [
        "for row_index,row in df.iterrows():\n",
        "   print(row_index,row)"
      ],
      "execution_count": 73,
      "outputs": [
        {
          "output_type": "stream",
          "text": [
            "0 col1    0.111670\n",
            "col2    0.068655\n",
            "col3   -0.627983\n",
            "Name: 0, dtype: float64\n",
            "1 col1   -0.761965\n",
            "col2    2.748030\n",
            "col3    0.917118\n",
            "Name: 1, dtype: float64\n",
            "2 col1   -0.497148\n",
            "col2   -0.875052\n",
            "col3   -1.797433\n",
            "Name: 2, dtype: float64\n",
            "3 col1   -0.056755\n",
            "col2    1.290085\n",
            "col3    0.158519\n",
            "Name: 3, dtype: float64\n"
          ],
          "name": "stdout"
        }
      ]
    },
    {
      "cell_type": "code",
      "metadata": {
        "id": "Foh8-tXyEQSJ",
        "outputId": "eb27da2f-bfa1-4d48-8b22-35a02b9d770d",
        "colab": {
          "base_uri": "https://localhost:8080/"
        }
      },
      "source": [
        "for row in df.itertuples():\n",
        "    print(row)"
      ],
      "execution_count": 74,
      "outputs": [
        {
          "output_type": "stream",
          "text": [
            "Pandas(Index=0, col1=0.11166976990009027, col2=0.0686548773793347, col3=-0.6279826422872447)\n",
            "Pandas(Index=1, col1=-0.7619654297841721, col2=2.7480304877273043, col3=0.917118027242575)\n",
            "Pandas(Index=2, col1=-0.497147540296966, col2=-0.8750524224503098, col3=-1.797432934938955)\n",
            "Pandas(Index=3, col1=-0.056754770614600075, col2=1.2900846521131442, col3=0.15851864665371718)\n"
          ],
          "name": "stdout"
        }
      ]
    },
    {
      "cell_type": "markdown",
      "metadata": {
        "id": "1M-LuV-UEiU9"
      },
      "source": [
        "# Pandas - Sorting"
      ]
    },
    {
      "cell_type": "code",
      "metadata": {
        "id": "6nsllXaKEWph",
        "outputId": "b9bda0f5-75e8-4adb-8ddf-555e5d1accec",
        "colab": {
          "base_uri": "https://localhost:8080/"
        }
      },
      "source": [
        "unsorted_df = pd.DataFrame(np.random.randn(10,2),index=[1,4,6,2,3,5,9,8,0,7],columns = ['c2','c1'])\n",
        "sorted_df=unsorted_df.sort_index()\n",
        "print(sorted_df)"
      ],
      "execution_count": 79,
      "outputs": [
        {
          "output_type": "stream",
          "text": [
            "         c2        c1\n",
            "0 -0.013779  0.735782\n",
            "1 -0.558713 -1.121304\n",
            "2  0.213688  0.132163\n",
            "3  0.736496  0.673933\n",
            "4  0.238406 -0.520651\n",
            "5  0.293342  0.501912\n",
            "6 -0.996670 -2.586688\n",
            "7  0.895404 -0.001884\n",
            "8 -0.905736  1.134991\n",
            "9 -2.548850  0.046673\n"
          ],
          "name": "stdout"
        }
      ]
    },
    {
      "cell_type": "code",
      "metadata": {
        "id": "LhJEXk3EEyLy",
        "outputId": "6b1ee57a-1d2d-4625-ccc1-7b12e3323d5e",
        "colab": {
          "base_uri": "https://localhost:8080/"
        }
      },
      "source": [
        "# change Order of Sorting\n",
        "o_sorted_df = unsorted_df.sort_index(ascending=False)\n",
        "print(o_sorted_df)"
      ],
      "execution_count": 80,
      "outputs": [
        {
          "output_type": "stream",
          "text": [
            "         c2        c1\n",
            "9 -2.548850  0.046673\n",
            "8 -0.905736  1.134991\n",
            "7  0.895404 -0.001884\n",
            "6 -0.996670 -2.586688\n",
            "5  0.293342  0.501912\n",
            "4  0.238406 -0.520651\n",
            "3  0.736496  0.673933\n",
            "2  0.213688  0.132163\n",
            "1 -0.558713 -1.121304\n",
            "0 -0.013779  0.735782\n"
          ],
          "name": "stdout"
        }
      ]
    },
    {
      "cell_type": "code",
      "metadata": {
        "id": "VtpzP2fLFH8p",
        "outputId": "d8a2d0be-ad85-4f70-c510-8c94cf9d61fe",
        "colab": {
          "base_uri": "https://localhost:8080/"
        }
      },
      "source": [
        "# Columns sort\n",
        "c_sorted_df=unsorted_df.sort_index(axis=1)\n",
        "print(c_sorted_df)"
      ],
      "execution_count": 81,
      "outputs": [
        {
          "output_type": "stream",
          "text": [
            "         c1        c2\n",
            "1 -1.121304 -0.558713\n",
            "4 -0.520651  0.238406\n",
            "6 -2.586688 -0.996670\n",
            "2  0.132163  0.213688\n",
            "3  0.673933  0.736496\n",
            "5  0.501912  0.293342\n",
            "9  0.046673 -2.548850\n",
            "8  1.134991 -0.905736\n",
            "0  0.735782 -0.013779\n",
            "7 -0.001884  0.895404\n"
          ],
          "name": "stdout"
        }
      ]
    },
    {
      "cell_type": "code",
      "metadata": {
        "id": "VqklsQzIFbnh",
        "outputId": "8987ba9b-d133-4121-b8d9-c89eea66515a",
        "colab": {
          "base_uri": "https://localhost:8080/"
        }
      },
      "source": [
        "# sorting by values.\n",
        "v_unsorted_df = pd.DataFrame({'col1':[2,1,1,1],'col2':[1,3,2,4]})\n",
        "v_sorted_df = v_unsorted_df.sort_values(by='col1')\n",
        "print(v_sorted_df)"
      ],
      "execution_count": 85,
      "outputs": [
        {
          "output_type": "stream",
          "text": [
            "   col1  col2\n",
            "1     1     3\n",
            "2     1     2\n",
            "3     1     4\n",
            "0     2     1\n"
          ],
          "name": "stdout"
        }
      ]
    },
    {
      "cell_type": "code",
      "metadata": {
        "id": "mbtfVZZRF6qj",
        "outputId": "5c5a9cc7-788a-4480-bae4-fddaa6fdc16f",
        "colab": {
          "base_uri": "https://localhost:8080/"
        }
      },
      "source": [
        "v1_unsorted_df = pd.DataFrame({'col1':[2,1,1,1],'col2':[1,3,2,4]})\n",
        "v1_sorted_df = v1_unsorted_df.sort_values(by=['col1','col2'])\n",
        "print(v1_sorted_df)"
      ],
      "execution_count": 86,
      "outputs": [
        {
          "output_type": "stream",
          "text": [
            "   col1  col2\n",
            "2     1     2\n",
            "1     1     3\n",
            "3     1     4\n",
            "0     2     1\n"
          ],
          "name": "stdout"
        }
      ]
    },
    {
      "cell_type": "code",
      "metadata": {
        "id": "7dIAbirlGLSk",
        "outputId": "5f539cf0-af34-4baa-c995-dcc9e57a10fe",
        "colab": {
          "base_uri": "https://localhost:8080/"
        }
      },
      "source": [
        "# Sorting Algorithm\n",
        "a_sorted_df = unsorted_df.sort_values(by='c1' ,kind='mergesort')\n",
        "print(a_sorted_df)"
      ],
      "execution_count": 87,
      "outputs": [
        {
          "output_type": "stream",
          "text": [
            "         c2        c1\n",
            "6 -0.996670 -2.586688\n",
            "1 -0.558713 -1.121304\n",
            "4  0.238406 -0.520651\n",
            "7  0.895404 -0.001884\n",
            "9 -2.548850  0.046673\n",
            "2  0.213688  0.132163\n",
            "5  0.293342  0.501912\n",
            "3  0.736496  0.673933\n",
            "0 -0.013779  0.735782\n",
            "8 -0.905736  1.134991\n"
          ],
          "name": "stdout"
        }
      ]
    },
    {
      "cell_type": "markdown",
      "metadata": {
        "id": "OcYWdrn1GchI"
      },
      "source": [
        "# Pandas - Text Data"
      ]
    },
    {
      "cell_type": "code",
      "metadata": {
        "id": "CbAfThjEGS_O"
      },
      "source": [
        "S = pd.Series(['Tom', 'William Rick', 'John', 'Alber@t', np.nan, '1234','SteveSmith'])"
      ],
      "execution_count": 88,
      "outputs": []
    },
    {
      "cell_type": "code",
      "metadata": {
        "id": "yBItcpvuHA3o",
        "outputId": "f17c6ef8-100c-451b-d8e5-aab19163cd09",
        "colab": {
          "base_uri": "https://localhost:8080/"
        }
      },
      "source": [
        "S.str.lower()"
      ],
      "execution_count": 89,
      "outputs": [
        {
          "output_type": "execute_result",
          "data": {
            "text/plain": [
              "0             tom\n",
              "1    william rick\n",
              "2            john\n",
              "3         alber@t\n",
              "4             NaN\n",
              "5            1234\n",
              "6      stevesmith\n",
              "dtype: object"
            ]
          },
          "metadata": {
            "tags": []
          },
          "execution_count": 89
        }
      ]
    },
    {
      "cell_type": "code",
      "metadata": {
        "id": "lj6cNPt6HE7G",
        "outputId": "2bee6976-e398-473e-94af-854daf89d9b4",
        "colab": {
          "base_uri": "https://localhost:8080/"
        }
      },
      "source": [
        "S.str.upper()"
      ],
      "execution_count": 90,
      "outputs": [
        {
          "output_type": "execute_result",
          "data": {
            "text/plain": [
              "0             TOM\n",
              "1    WILLIAM RICK\n",
              "2            JOHN\n",
              "3         ALBER@T\n",
              "4             NaN\n",
              "5            1234\n",
              "6      STEVESMITH\n",
              "dtype: object"
            ]
          },
          "metadata": {
            "tags": []
          },
          "execution_count": 90
        }
      ]
    },
    {
      "cell_type": "code",
      "metadata": {
        "id": "fdVGHa4AHI2i",
        "outputId": "5e5b6bee-35ec-40ac-e07a-d16ce5ebffb0",
        "colab": {
          "base_uri": "https://localhost:8080/"
        }
      },
      "source": [
        "S.str.len()"
      ],
      "execution_count": 91,
      "outputs": [
        {
          "output_type": "execute_result",
          "data": {
            "text/plain": [
              "0     3.0\n",
              "1    12.0\n",
              "2     4.0\n",
              "3     7.0\n",
              "4     NaN\n",
              "5     4.0\n",
              "6    10.0\n",
              "dtype: float64"
            ]
          },
          "metadata": {
            "tags": []
          },
          "execution_count": 91
        }
      ]
    },
    {
      "cell_type": "code",
      "metadata": {
        "id": "MGyZIoxfHMrd",
        "outputId": "1e56c28e-5f0c-4d07-da8e-e599fd1b2ac4",
        "colab": {
          "base_uri": "https://localhost:8080/"
        }
      },
      "source": [
        "S.str.strip('1234')"
      ],
      "execution_count": 95,
      "outputs": [
        {
          "output_type": "execute_result",
          "data": {
            "text/plain": [
              "0             Tom\n",
              "1    William Rick\n",
              "2            John\n",
              "3         Alber@t\n",
              "4             NaN\n",
              "5                \n",
              "6      SteveSmith\n",
              "dtype: object"
            ]
          },
          "metadata": {
            "tags": []
          },
          "execution_count": 95
        }
      ]
    },
    {
      "cell_type": "code",
      "metadata": {
        "id": "5gU9GusQHmDB",
        "outputId": "3d274b46-bbde-4419-9853-2ca880142749",
        "colab": {
          "base_uri": "https://localhost:8080/"
        }
      },
      "source": [
        "S.str.split('John')"
      ],
      "execution_count": 101,
      "outputs": [
        {
          "output_type": "execute_result",
          "data": {
            "text/plain": [
              "0             [Tom]\n",
              "1    [William Rick]\n",
              "2              [, ]\n",
              "3         [Alber@t]\n",
              "4               NaN\n",
              "5            [1234]\n",
              "6      [SteveSmith]\n",
              "dtype: object"
            ]
          },
          "metadata": {
            "tags": []
          },
          "execution_count": 101
        }
      ]
    },
    {
      "cell_type": "code",
      "metadata": {
        "id": "jd5q3pEkH84v",
        "outputId": "10de4555-a866-463d-b5f6-33ae8dedbdbe",
        "colab": {
          "base_uri": "https://localhost:8080/",
          "height": 35
        }
      },
      "source": [
        "S.str.cat(sep='_')"
      ],
      "execution_count": 102,
      "outputs": [
        {
          "output_type": "execute_result",
          "data": {
            "application/vnd.google.colaboratory.intrinsic+json": {
              "type": "string"
            },
            "text/plain": [
              "'Tom_William Rick_John_Alber@t_1234_SteveSmith'"
            ]
          },
          "metadata": {
            "tags": []
          },
          "execution_count": 102
        }
      ]
    },
    {
      "cell_type": "code",
      "metadata": {
        "id": "3k2NpDFeIEry",
        "outputId": "91f54d2f-d9ba-4c41-86e3-078fc1599332",
        "colab": {
          "base_uri": "https://localhost:8080/",
          "height": 263
        }
      },
      "source": [
        "S.str.get_dummies()"
      ],
      "execution_count": 103,
      "outputs": [
        {
          "output_type": "execute_result",
          "data": {
            "text/html": [
              "<div>\n",
              "<style scoped>\n",
              "    .dataframe tbody tr th:only-of-type {\n",
              "        vertical-align: middle;\n",
              "    }\n",
              "\n",
              "    .dataframe tbody tr th {\n",
              "        vertical-align: top;\n",
              "    }\n",
              "\n",
              "    .dataframe thead th {\n",
              "        text-align: right;\n",
              "    }\n",
              "</style>\n",
              "<table border=\"1\" class=\"dataframe\">\n",
              "  <thead>\n",
              "    <tr style=\"text-align: right;\">\n",
              "      <th></th>\n",
              "      <th>1234</th>\n",
              "      <th>Alber@t</th>\n",
              "      <th>John</th>\n",
              "      <th>SteveSmith</th>\n",
              "      <th>Tom</th>\n",
              "      <th>William Rick</th>\n",
              "    </tr>\n",
              "  </thead>\n",
              "  <tbody>\n",
              "    <tr>\n",
              "      <th>0</th>\n",
              "      <td>0</td>\n",
              "      <td>0</td>\n",
              "      <td>0</td>\n",
              "      <td>0</td>\n",
              "      <td>1</td>\n",
              "      <td>0</td>\n",
              "    </tr>\n",
              "    <tr>\n",
              "      <th>1</th>\n",
              "      <td>0</td>\n",
              "      <td>0</td>\n",
              "      <td>0</td>\n",
              "      <td>0</td>\n",
              "      <td>0</td>\n",
              "      <td>1</td>\n",
              "    </tr>\n",
              "    <tr>\n",
              "      <th>2</th>\n",
              "      <td>0</td>\n",
              "      <td>0</td>\n",
              "      <td>1</td>\n",
              "      <td>0</td>\n",
              "      <td>0</td>\n",
              "      <td>0</td>\n",
              "    </tr>\n",
              "    <tr>\n",
              "      <th>3</th>\n",
              "      <td>0</td>\n",
              "      <td>1</td>\n",
              "      <td>0</td>\n",
              "      <td>0</td>\n",
              "      <td>0</td>\n",
              "      <td>0</td>\n",
              "    </tr>\n",
              "    <tr>\n",
              "      <th>4</th>\n",
              "      <td>0</td>\n",
              "      <td>0</td>\n",
              "      <td>0</td>\n",
              "      <td>0</td>\n",
              "      <td>0</td>\n",
              "      <td>0</td>\n",
              "    </tr>\n",
              "    <tr>\n",
              "      <th>5</th>\n",
              "      <td>1</td>\n",
              "      <td>0</td>\n",
              "      <td>0</td>\n",
              "      <td>0</td>\n",
              "      <td>0</td>\n",
              "      <td>0</td>\n",
              "    </tr>\n",
              "    <tr>\n",
              "      <th>6</th>\n",
              "      <td>0</td>\n",
              "      <td>0</td>\n",
              "      <td>0</td>\n",
              "      <td>1</td>\n",
              "      <td>0</td>\n",
              "      <td>0</td>\n",
              "    </tr>\n",
              "  </tbody>\n",
              "</table>\n",
              "</div>"
            ],
            "text/plain": [
              "   1234  Alber@t  John  SteveSmith  Tom  William Rick\n",
              "0     0        0     0           0    1             0\n",
              "1     0        0     0           0    0             1\n",
              "2     0        0     1           0    0             0\n",
              "3     0        1     0           0    0             0\n",
              "4     0        0     0           0    0             0\n",
              "5     1        0     0           0    0             0\n",
              "6     0        0     0           1    0             0"
            ]
          },
          "metadata": {
            "tags": []
          },
          "execution_count": 103
        }
      ]
    },
    {
      "cell_type": "code",
      "metadata": {
        "id": "rOLRCjlYIHAO",
        "outputId": "93ccd9e4-2537-4251-d3bf-4fc7bb20dbb3",
        "colab": {
          "base_uri": "https://localhost:8080/"
        }
      },
      "source": [
        "S.str.contains('John')"
      ],
      "execution_count": 104,
      "outputs": [
        {
          "output_type": "execute_result",
          "data": {
            "text/plain": [
              "0    False\n",
              "1    False\n",
              "2     True\n",
              "3    False\n",
              "4      NaN\n",
              "5    False\n",
              "6    False\n",
              "dtype: object"
            ]
          },
          "metadata": {
            "tags": []
          },
          "execution_count": 104
        }
      ]
    },
    {
      "cell_type": "code",
      "metadata": {
        "id": "lKEL5bxlIMnG",
        "outputId": "84d782a4-daa0-42d9-8a4f-e9eb1eb49398",
        "colab": {
          "base_uri": "https://localhost:8080/"
        }
      },
      "source": [
        "S.str.replace('@','$')"
      ],
      "execution_count": 105,
      "outputs": [
        {
          "output_type": "execute_result",
          "data": {
            "text/plain": [
              "0             Tom\n",
              "1    William Rick\n",
              "2            John\n",
              "3         Alber$t\n",
              "4             NaN\n",
              "5            1234\n",
              "6      SteveSmith\n",
              "dtype: object"
            ]
          },
          "metadata": {
            "tags": []
          },
          "execution_count": 105
        }
      ]
    },
    {
      "cell_type": "code",
      "metadata": {
        "id": "_XElYHFJISbb",
        "outputId": "69ae2ba6-e816-4f6a-a613-de5ce9d6bfba",
        "colab": {
          "base_uri": "https://localhost:8080/"
        }
      },
      "source": [
        "S.str.repeat(4)"
      ],
      "execution_count": 107,
      "outputs": [
        {
          "output_type": "execute_result",
          "data": {
            "text/plain": [
              "0                                        TomTomTomTom\n",
              "1    William RickWilliam RickWilliam RickWilliam Rick\n",
              "2                                    JohnJohnJohnJohn\n",
              "3                        Alber@tAlber@tAlber@tAlber@t\n",
              "4                                                 NaN\n",
              "5                                    1234123412341234\n",
              "6            SteveSmithSteveSmithSteveSmithSteveSmith\n",
              "dtype: object"
            ]
          },
          "metadata": {
            "tags": []
          },
          "execution_count": 107
        }
      ]
    },
    {
      "cell_type": "code",
      "metadata": {
        "id": "CExUQODKIekd",
        "outputId": "4a731232-4603-46b0-b7b0-ba45ba5a0d41",
        "colab": {
          "base_uri": "https://localhost:8080/"
        }
      },
      "source": [
        "S.str.count('a')"
      ],
      "execution_count": 108,
      "outputs": [
        {
          "output_type": "execute_result",
          "data": {
            "text/plain": [
              "0    0.0\n",
              "1    1.0\n",
              "2    0.0\n",
              "3    0.0\n",
              "4    NaN\n",
              "5    0.0\n",
              "6    0.0\n",
              "dtype: float64"
            ]
          },
          "metadata": {
            "tags": []
          },
          "execution_count": 108
        }
      ]
    },
    {
      "cell_type": "code",
      "metadata": {
        "id": "krg4YY61IjKG",
        "outputId": "bcccde9b-9766-4c90-81df-e6100f4cbcb7",
        "colab": {
          "base_uri": "https://localhost:8080/"
        }
      },
      "source": [
        "S.str.startswith ('A')"
      ],
      "execution_count": 109,
      "outputs": [
        {
          "output_type": "execute_result",
          "data": {
            "text/plain": [
              "0    False\n",
              "1    False\n",
              "2    False\n",
              "3     True\n",
              "4      NaN\n",
              "5    False\n",
              "6    False\n",
              "dtype: object"
            ]
          },
          "metadata": {
            "tags": []
          },
          "execution_count": 109
        }
      ]
    },
    {
      "cell_type": "code",
      "metadata": {
        "id": "Ubr4XP8fIpX_",
        "outputId": "e5dc0ac8-05b6-4a21-e6f7-f1e33d903ba4",
        "colab": {
          "base_uri": "https://localhost:8080/"
        }
      },
      "source": [
        "S.str.endswith('k')"
      ],
      "execution_count": 110,
      "outputs": [
        {
          "output_type": "execute_result",
          "data": {
            "text/plain": [
              "0    False\n",
              "1     True\n",
              "2    False\n",
              "3    False\n",
              "4      NaN\n",
              "5    False\n",
              "6    False\n",
              "dtype: object"
            ]
          },
          "metadata": {
            "tags": []
          },
          "execution_count": 110
        }
      ]
    },
    {
      "cell_type": "code",
      "metadata": {
        "id": "FoZhAfcmIws0",
        "outputId": "642d443e-bbdd-4008-b27a-6cfbf1333b98",
        "colab": {
          "base_uri": "https://localhost:8080/"
        }
      },
      "source": [
        "S.str.find('m')"
      ],
      "execution_count": 111,
      "outputs": [
        {
          "output_type": "execute_result",
          "data": {
            "text/plain": [
              "0    2.0\n",
              "1    6.0\n",
              "2   -1.0\n",
              "3   -1.0\n",
              "4    NaN\n",
              "5   -1.0\n",
              "6    6.0\n",
              "dtype: float64"
            ]
          },
          "metadata": {
            "tags": []
          },
          "execution_count": 111
        }
      ]
    },
    {
      "cell_type": "code",
      "metadata": {
        "id": "BFLqOMKMI1Za",
        "outputId": "20889cb7-1bae-49cd-c355-eaf959f8ce07",
        "colab": {
          "base_uri": "https://localhost:8080/"
        }
      },
      "source": [
        "S.str.findall('m')"
      ],
      "execution_count": 112,
      "outputs": [
        {
          "output_type": "execute_result",
          "data": {
            "text/plain": [
              "0    [m]\n",
              "1    [m]\n",
              "2     []\n",
              "3     []\n",
              "4    NaN\n",
              "5     []\n",
              "6    [m]\n",
              "dtype: object"
            ]
          },
          "metadata": {
            "tags": []
          },
          "execution_count": 112
        }
      ]
    },
    {
      "cell_type": "code",
      "metadata": {
        "id": "5O-8G-vHI6Xh",
        "outputId": "a6b3f011-e759-4570-d4eb-2db23a8d61d7",
        "colab": {
          "base_uri": "https://localhost:8080/"
        }
      },
      "source": [
        "S.str.swapcase()"
      ],
      "execution_count": 113,
      "outputs": [
        {
          "output_type": "execute_result",
          "data": {
            "text/plain": [
              "0             tOM\n",
              "1    wILLIAM rICK\n",
              "2            jOHN\n",
              "3         aLBER@T\n",
              "4             NaN\n",
              "5            1234\n",
              "6      sTEVEsMITH\n",
              "dtype: object"
            ]
          },
          "metadata": {
            "tags": []
          },
          "execution_count": 113
        }
      ]
    },
    {
      "cell_type": "code",
      "metadata": {
        "id": "ANfTudnsJBkf",
        "outputId": "0e9f1c7e-f9b6-48a5-e694-41d0b5795391",
        "colab": {
          "base_uri": "https://localhost:8080/"
        }
      },
      "source": [
        "S.str.islower()"
      ],
      "execution_count": 114,
      "outputs": [
        {
          "output_type": "execute_result",
          "data": {
            "text/plain": [
              "0    False\n",
              "1    False\n",
              "2    False\n",
              "3    False\n",
              "4      NaN\n",
              "5    False\n",
              "6    False\n",
              "dtype: object"
            ]
          },
          "metadata": {
            "tags": []
          },
          "execution_count": 114
        }
      ]
    },
    {
      "cell_type": "code",
      "metadata": {
        "id": "-I-BXpcAJGjQ",
        "outputId": "7349ba87-9277-4687-c8b4-ebc3f63f5893",
        "colab": {
          "base_uri": "https://localhost:8080/"
        }
      },
      "source": [
        "S.str.isnumeric()"
      ],
      "execution_count": 115,
      "outputs": [
        {
          "output_type": "execute_result",
          "data": {
            "text/plain": [
              "0    False\n",
              "1    False\n",
              "2    False\n",
              "3    False\n",
              "4      NaN\n",
              "5     True\n",
              "6    False\n",
              "dtype: object"
            ]
          },
          "metadata": {
            "tags": []
          },
          "execution_count": 115
        }
      ]
    },
    {
      "cell_type": "markdown",
      "metadata": {
        "id": "-mqGF6G4JUAf"
      },
      "source": [
        "# Pandas - Indexing and Selecting data"
      ]
    },
    {
      "cell_type": "code",
      "metadata": {
        "id": "qhq4kxljJTo8"
      },
      "source": [
        "dfI = pd.DataFrame(np.random.randn(8, 4),\n",
        "index = ['a','b','c','d','e','f','g','h'], columns = ['A', 'B', 'C', 'D'])"
      ],
      "execution_count": 116,
      "outputs": []
    },
    {
      "cell_type": "code",
      "metadata": {
        "id": "K-geh3ZoJfJd",
        "outputId": "225fe012-567a-45db-ca25-fac560bd2e6e",
        "colab": {
          "base_uri": "https://localhost:8080/"
        }
      },
      "source": [
        "dfI.loc[:,'A']"
      ],
      "execution_count": 117,
      "outputs": [
        {
          "output_type": "execute_result",
          "data": {
            "text/plain": [
              "a    0.932972\n",
              "b    1.331913\n",
              "c    1.718215\n",
              "d    1.549338\n",
              "e   -1.234205\n",
              "f    0.419173\n",
              "g   -0.822253\n",
              "h    2.119640\n",
              "Name: A, dtype: float64"
            ]
          },
          "metadata": {
            "tags": []
          },
          "execution_count": 117
        }
      ]
    },
    {
      "cell_type": "code",
      "metadata": {
        "id": "cyjW8u_XJsca",
        "outputId": "ab81b31d-6cba-4abb-a022-986a96183abf",
        "colab": {
          "base_uri": "https://localhost:8080/",
          "height": 294
        }
      },
      "source": [
        "dfI.loc[:,['A','C']]"
      ],
      "execution_count": 118,
      "outputs": [
        {
          "output_type": "execute_result",
          "data": {
            "text/html": [
              "<div>\n",
              "<style scoped>\n",
              "    .dataframe tbody tr th:only-of-type {\n",
              "        vertical-align: middle;\n",
              "    }\n",
              "\n",
              "    .dataframe tbody tr th {\n",
              "        vertical-align: top;\n",
              "    }\n",
              "\n",
              "    .dataframe thead th {\n",
              "        text-align: right;\n",
              "    }\n",
              "</style>\n",
              "<table border=\"1\" class=\"dataframe\">\n",
              "  <thead>\n",
              "    <tr style=\"text-align: right;\">\n",
              "      <th></th>\n",
              "      <th>A</th>\n",
              "      <th>C</th>\n",
              "    </tr>\n",
              "  </thead>\n",
              "  <tbody>\n",
              "    <tr>\n",
              "      <th>a</th>\n",
              "      <td>0.932972</td>\n",
              "      <td>-1.132937</td>\n",
              "    </tr>\n",
              "    <tr>\n",
              "      <th>b</th>\n",
              "      <td>1.331913</td>\n",
              "      <td>0.629204</td>\n",
              "    </tr>\n",
              "    <tr>\n",
              "      <th>c</th>\n",
              "      <td>1.718215</td>\n",
              "      <td>0.128465</td>\n",
              "    </tr>\n",
              "    <tr>\n",
              "      <th>d</th>\n",
              "      <td>1.549338</td>\n",
              "      <td>-0.224322</td>\n",
              "    </tr>\n",
              "    <tr>\n",
              "      <th>e</th>\n",
              "      <td>-1.234205</td>\n",
              "      <td>0.114406</td>\n",
              "    </tr>\n",
              "    <tr>\n",
              "      <th>f</th>\n",
              "      <td>0.419173</td>\n",
              "      <td>-0.525633</td>\n",
              "    </tr>\n",
              "    <tr>\n",
              "      <th>g</th>\n",
              "      <td>-0.822253</td>\n",
              "      <td>-0.013624</td>\n",
              "    </tr>\n",
              "    <tr>\n",
              "      <th>h</th>\n",
              "      <td>2.119640</td>\n",
              "      <td>0.062785</td>\n",
              "    </tr>\n",
              "  </tbody>\n",
              "</table>\n",
              "</div>"
            ],
            "text/plain": [
              "          A         C\n",
              "a  0.932972 -1.132937\n",
              "b  1.331913  0.629204\n",
              "c  1.718215  0.128465\n",
              "d  1.549338 -0.224322\n",
              "e -1.234205  0.114406\n",
              "f  0.419173 -0.525633\n",
              "g -0.822253 -0.013624\n",
              "h  2.119640  0.062785"
            ]
          },
          "metadata": {
            "tags": []
          },
          "execution_count": 118
        }
      ]
    },
    {
      "cell_type": "code",
      "metadata": {
        "id": "R99jd9ngJvSN",
        "outputId": "00bedefa-3086-45e8-ae16-e237e036a45d",
        "colab": {
          "base_uri": "https://localhost:8080/",
          "height": 110
        }
      },
      "source": [
        "dfI.loc[['a','b'],['A','C']]"
      ],
      "execution_count": 119,
      "outputs": [
        {
          "output_type": "execute_result",
          "data": {
            "text/html": [
              "<div>\n",
              "<style scoped>\n",
              "    .dataframe tbody tr th:only-of-type {\n",
              "        vertical-align: middle;\n",
              "    }\n",
              "\n",
              "    .dataframe tbody tr th {\n",
              "        vertical-align: top;\n",
              "    }\n",
              "\n",
              "    .dataframe thead th {\n",
              "        text-align: right;\n",
              "    }\n",
              "</style>\n",
              "<table border=\"1\" class=\"dataframe\">\n",
              "  <thead>\n",
              "    <tr style=\"text-align: right;\">\n",
              "      <th></th>\n",
              "      <th>A</th>\n",
              "      <th>C</th>\n",
              "    </tr>\n",
              "  </thead>\n",
              "  <tbody>\n",
              "    <tr>\n",
              "      <th>a</th>\n",
              "      <td>0.932972</td>\n",
              "      <td>-1.132937</td>\n",
              "    </tr>\n",
              "    <tr>\n",
              "      <th>b</th>\n",
              "      <td>1.331913</td>\n",
              "      <td>0.629204</td>\n",
              "    </tr>\n",
              "  </tbody>\n",
              "</table>\n",
              "</div>"
            ],
            "text/plain": [
              "          A         C\n",
              "a  0.932972 -1.132937\n",
              "b  1.331913  0.629204"
            ]
          },
          "metadata": {
            "tags": []
          },
          "execution_count": 119
        }
      ]
    },
    {
      "cell_type": "code",
      "metadata": {
        "id": "N4an4z38J-Lm",
        "outputId": "d350f348-960b-456b-d970-10901f7aa9f1",
        "colab": {
          "base_uri": "https://localhost:8080/",
          "height": 294
        }
      },
      "source": [
        "dfI.loc['a':'h']"
      ],
      "execution_count": 120,
      "outputs": [
        {
          "output_type": "execute_result",
          "data": {
            "text/html": [
              "<div>\n",
              "<style scoped>\n",
              "    .dataframe tbody tr th:only-of-type {\n",
              "        vertical-align: middle;\n",
              "    }\n",
              "\n",
              "    .dataframe tbody tr th {\n",
              "        vertical-align: top;\n",
              "    }\n",
              "\n",
              "    .dataframe thead th {\n",
              "        text-align: right;\n",
              "    }\n",
              "</style>\n",
              "<table border=\"1\" class=\"dataframe\">\n",
              "  <thead>\n",
              "    <tr style=\"text-align: right;\">\n",
              "      <th></th>\n",
              "      <th>A</th>\n",
              "      <th>B</th>\n",
              "      <th>C</th>\n",
              "      <th>D</th>\n",
              "    </tr>\n",
              "  </thead>\n",
              "  <tbody>\n",
              "    <tr>\n",
              "      <th>a</th>\n",
              "      <td>0.932972</td>\n",
              "      <td>-0.354985</td>\n",
              "      <td>-1.132937</td>\n",
              "      <td>1.094318</td>\n",
              "    </tr>\n",
              "    <tr>\n",
              "      <th>b</th>\n",
              "      <td>1.331913</td>\n",
              "      <td>0.196318</td>\n",
              "      <td>0.629204</td>\n",
              "      <td>-1.693645</td>\n",
              "    </tr>\n",
              "    <tr>\n",
              "      <th>c</th>\n",
              "      <td>1.718215</td>\n",
              "      <td>1.557649</td>\n",
              "      <td>0.128465</td>\n",
              "      <td>-1.895978</td>\n",
              "    </tr>\n",
              "    <tr>\n",
              "      <th>d</th>\n",
              "      <td>1.549338</td>\n",
              "      <td>0.728569</td>\n",
              "      <td>-0.224322</td>\n",
              "      <td>-0.950906</td>\n",
              "    </tr>\n",
              "    <tr>\n",
              "      <th>e</th>\n",
              "      <td>-1.234205</td>\n",
              "      <td>-0.560137</td>\n",
              "      <td>0.114406</td>\n",
              "      <td>-0.348529</td>\n",
              "    </tr>\n",
              "    <tr>\n",
              "      <th>f</th>\n",
              "      <td>0.419173</td>\n",
              "      <td>0.884341</td>\n",
              "      <td>-0.525633</td>\n",
              "      <td>0.040800</td>\n",
              "    </tr>\n",
              "    <tr>\n",
              "      <th>g</th>\n",
              "      <td>-0.822253</td>\n",
              "      <td>0.024436</td>\n",
              "      <td>-0.013624</td>\n",
              "      <td>-0.213148</td>\n",
              "    </tr>\n",
              "    <tr>\n",
              "      <th>h</th>\n",
              "      <td>2.119640</td>\n",
              "      <td>0.657708</td>\n",
              "      <td>0.062785</td>\n",
              "      <td>0.459904</td>\n",
              "    </tr>\n",
              "  </tbody>\n",
              "</table>\n",
              "</div>"
            ],
            "text/plain": [
              "          A         B         C         D\n",
              "a  0.932972 -0.354985 -1.132937  1.094318\n",
              "b  1.331913  0.196318  0.629204 -1.693645\n",
              "c  1.718215  1.557649  0.128465 -1.895978\n",
              "d  1.549338  0.728569 -0.224322 -0.950906\n",
              "e -1.234205 -0.560137  0.114406 -0.348529\n",
              "f  0.419173  0.884341 -0.525633  0.040800\n",
              "g -0.822253  0.024436 -0.013624 -0.213148\n",
              "h  2.119640  0.657708  0.062785  0.459904"
            ]
          },
          "metadata": {
            "tags": []
          },
          "execution_count": 120
        }
      ]
    },
    {
      "cell_type": "code",
      "metadata": {
        "id": "WUNErU_bKCVa",
        "outputId": "a1e2cfad-428b-41d6-cbbf-92d2c916b82b",
        "colab": {
          "base_uri": "https://localhost:8080/"
        }
      },
      "source": [
        "dfI.loc['a']>1"
      ],
      "execution_count": 121,
      "outputs": [
        {
          "output_type": "execute_result",
          "data": {
            "text/plain": [
              "A    False\n",
              "B    False\n",
              "C    False\n",
              "D     True\n",
              "Name: a, dtype: bool"
            ]
          },
          "metadata": {
            "tags": []
          },
          "execution_count": 121
        }
      ]
    },
    {
      "cell_type": "code",
      "metadata": {
        "id": "k6Z4aqEIKQRI",
        "outputId": "6cdaa105-db59-416a-a083-dc4dcf9efe73",
        "colab": {
          "base_uri": "https://localhost:8080/",
          "height": 171
        }
      },
      "source": [
        "dfI.iloc[:4]"
      ],
      "execution_count": 122,
      "outputs": [
        {
          "output_type": "execute_result",
          "data": {
            "text/html": [
              "<div>\n",
              "<style scoped>\n",
              "    .dataframe tbody tr th:only-of-type {\n",
              "        vertical-align: middle;\n",
              "    }\n",
              "\n",
              "    .dataframe tbody tr th {\n",
              "        vertical-align: top;\n",
              "    }\n",
              "\n",
              "    .dataframe thead th {\n",
              "        text-align: right;\n",
              "    }\n",
              "</style>\n",
              "<table border=\"1\" class=\"dataframe\">\n",
              "  <thead>\n",
              "    <tr style=\"text-align: right;\">\n",
              "      <th></th>\n",
              "      <th>A</th>\n",
              "      <th>B</th>\n",
              "      <th>C</th>\n",
              "      <th>D</th>\n",
              "    </tr>\n",
              "  </thead>\n",
              "  <tbody>\n",
              "    <tr>\n",
              "      <th>a</th>\n",
              "      <td>0.932972</td>\n",
              "      <td>-0.354985</td>\n",
              "      <td>-1.132937</td>\n",
              "      <td>1.094318</td>\n",
              "    </tr>\n",
              "    <tr>\n",
              "      <th>b</th>\n",
              "      <td>1.331913</td>\n",
              "      <td>0.196318</td>\n",
              "      <td>0.629204</td>\n",
              "      <td>-1.693645</td>\n",
              "    </tr>\n",
              "    <tr>\n",
              "      <th>c</th>\n",
              "      <td>1.718215</td>\n",
              "      <td>1.557649</td>\n",
              "      <td>0.128465</td>\n",
              "      <td>-1.895978</td>\n",
              "    </tr>\n",
              "    <tr>\n",
              "      <th>d</th>\n",
              "      <td>1.549338</td>\n",
              "      <td>0.728569</td>\n",
              "      <td>-0.224322</td>\n",
              "      <td>-0.950906</td>\n",
              "    </tr>\n",
              "  </tbody>\n",
              "</table>\n",
              "</div>"
            ],
            "text/plain": [
              "          A         B         C         D\n",
              "a  0.932972 -0.354985 -1.132937  1.094318\n",
              "b  1.331913  0.196318  0.629204 -1.693645\n",
              "c  1.718215  1.557649  0.128465 -1.895978\n",
              "d  1.549338  0.728569 -0.224322 -0.950906"
            ]
          },
          "metadata": {
            "tags": []
          },
          "execution_count": 122
        }
      ]
    },
    {
      "cell_type": "code",
      "metadata": {
        "id": "LUnN8GynKWcX",
        "outputId": "3ad03904-fc30-4f85-9d9e-9042c1aa9794",
        "colab": {
          "base_uri": "https://localhost:8080/",
          "height": 294
        }
      },
      "source": [
        "dfI.iloc[:,1:3]"
      ],
      "execution_count": 123,
      "outputs": [
        {
          "output_type": "execute_result",
          "data": {
            "text/html": [
              "<div>\n",
              "<style scoped>\n",
              "    .dataframe tbody tr th:only-of-type {\n",
              "        vertical-align: middle;\n",
              "    }\n",
              "\n",
              "    .dataframe tbody tr th {\n",
              "        vertical-align: top;\n",
              "    }\n",
              "\n",
              "    .dataframe thead th {\n",
              "        text-align: right;\n",
              "    }\n",
              "</style>\n",
              "<table border=\"1\" class=\"dataframe\">\n",
              "  <thead>\n",
              "    <tr style=\"text-align: right;\">\n",
              "      <th></th>\n",
              "      <th>B</th>\n",
              "      <th>C</th>\n",
              "    </tr>\n",
              "  </thead>\n",
              "  <tbody>\n",
              "    <tr>\n",
              "      <th>a</th>\n",
              "      <td>-0.354985</td>\n",
              "      <td>-1.132937</td>\n",
              "    </tr>\n",
              "    <tr>\n",
              "      <th>b</th>\n",
              "      <td>0.196318</td>\n",
              "      <td>0.629204</td>\n",
              "    </tr>\n",
              "    <tr>\n",
              "      <th>c</th>\n",
              "      <td>1.557649</td>\n",
              "      <td>0.128465</td>\n",
              "    </tr>\n",
              "    <tr>\n",
              "      <th>d</th>\n",
              "      <td>0.728569</td>\n",
              "      <td>-0.224322</td>\n",
              "    </tr>\n",
              "    <tr>\n",
              "      <th>e</th>\n",
              "      <td>-0.560137</td>\n",
              "      <td>0.114406</td>\n",
              "    </tr>\n",
              "    <tr>\n",
              "      <th>f</th>\n",
              "      <td>0.884341</td>\n",
              "      <td>-0.525633</td>\n",
              "    </tr>\n",
              "    <tr>\n",
              "      <th>g</th>\n",
              "      <td>0.024436</td>\n",
              "      <td>-0.013624</td>\n",
              "    </tr>\n",
              "    <tr>\n",
              "      <th>h</th>\n",
              "      <td>0.657708</td>\n",
              "      <td>0.062785</td>\n",
              "    </tr>\n",
              "  </tbody>\n",
              "</table>\n",
              "</div>"
            ],
            "text/plain": [
              "          B         C\n",
              "a -0.354985 -1.132937\n",
              "b  0.196318  0.629204\n",
              "c  1.557649  0.128465\n",
              "d  0.728569 -0.224322\n",
              "e -0.560137  0.114406\n",
              "f  0.884341 -0.525633\n",
              "g  0.024436 -0.013624\n",
              "h  0.657708  0.062785"
            ]
          },
          "metadata": {
            "tags": []
          },
          "execution_count": 123
        }
      ]
    },
    {
      "cell_type": "code",
      "metadata": {
        "id": "aVy9nX1BKdKq",
        "outputId": "1819077d-af9f-40f6-9e67-746587999433",
        "colab": {
          "base_uri": "https://localhost:8080/"
        }
      },
      "source": [
        "dfI.A"
      ],
      "execution_count": 125,
      "outputs": [
        {
          "output_type": "execute_result",
          "data": {
            "text/plain": [
              "a    0.932972\n",
              "b    1.331913\n",
              "c    1.718215\n",
              "d    1.549338\n",
              "e   -1.234205\n",
              "f    0.419173\n",
              "g   -0.822253\n",
              "h    2.119640\n",
              "Name: A, dtype: float64"
            ]
          },
          "metadata": {
            "tags": []
          },
          "execution_count": 125
        }
      ]
    },
    {
      "cell_type": "markdown",
      "metadata": {
        "id": "FSKz-bZUMAGW"
      },
      "source": [
        "# Pandas - Missing Data"
      ]
    },
    {
      "cell_type": "code",
      "metadata": {
        "id": "iO_z7PNSKq9N",
        "outputId": "05ebf8bf-9030-4bcd-b05c-45c08af21570",
        "colab": {
          "base_uri": "https://localhost:8080/"
        }
      },
      "source": [
        "dfM = pd.DataFrame(np.random.randn(5, 3), index=['a', 'c', 'e', 'f','h'],columns=['one', 'two', 'three'])\n",
        "dfM = dfM.reindex(['a', 'b', 'c', 'd', 'e', 'f', 'g', 'h'])\n",
        "print(dfM)"
      ],
      "execution_count": 135,
      "outputs": [
        {
          "output_type": "stream",
          "text": [
            "        one       two     three\n",
            "a -0.050718 -0.191366  0.422774\n",
            "b       NaN       NaN       NaN\n",
            "c -1.463405  0.457069 -1.508222\n",
            "d       NaN       NaN       NaN\n",
            "e  0.039089 -1.490003 -0.885270\n",
            "f  0.138887 -0.476437 -1.034227\n",
            "g       NaN       NaN       NaN\n",
            "h  0.153803  0.802204 -0.898543\n"
          ],
          "name": "stdout"
        }
      ]
    },
    {
      "cell_type": "code",
      "metadata": {
        "id": "c6oYGfkDMT_i",
        "outputId": "215bdb5f-8252-4788-872d-5177a29ed739",
        "colab": {
          "base_uri": "https://localhost:8080/"
        }
      },
      "source": [
        "dfM['one'].isnull()"
      ],
      "execution_count": 136,
      "outputs": [
        {
          "output_type": "execute_result",
          "data": {
            "text/plain": [
              "a    False\n",
              "b     True\n",
              "c    False\n",
              "d     True\n",
              "e    False\n",
              "f    False\n",
              "g     True\n",
              "h    False\n",
              "Name: one, dtype: bool"
            ]
          },
          "metadata": {
            "tags": []
          },
          "execution_count": 136
        }
      ]
    },
    {
      "cell_type": "code",
      "metadata": {
        "id": "QJmBiwYBMYYQ",
        "outputId": "aa02a613-9bcf-4fc3-a291-b26987a02793",
        "colab": {
          "base_uri": "https://localhost:8080/"
        }
      },
      "source": [
        "dfM['one'].notnull()"
      ],
      "execution_count": 137,
      "outputs": [
        {
          "output_type": "execute_result",
          "data": {
            "text/plain": [
              "a     True\n",
              "b    False\n",
              "c     True\n",
              "d    False\n",
              "e     True\n",
              "f     True\n",
              "g    False\n",
              "h     True\n",
              "Name: one, dtype: bool"
            ]
          },
          "metadata": {
            "tags": []
          },
          "execution_count": 137
        }
      ]
    },
    {
      "cell_type": "code",
      "metadata": {
        "id": "xH5VYLz0Mcn2",
        "outputId": "2c1cfa7f-a8de-4276-c6df-e190a6e29b7b",
        "colab": {
          "base_uri": "https://localhost:8080/"
        }
      },
      "source": [
        "dfM['one'].sum()"
      ],
      "execution_count": 139,
      "outputs": [
        {
          "output_type": "execute_result",
          "data": {
            "text/plain": [
              "-1.1823444722875067"
            ]
          },
          "metadata": {
            "tags": []
          },
          "execution_count": 139
        }
      ]
    },
    {
      "cell_type": "code",
      "metadata": {
        "id": "PVqgLKqpMiEq",
        "outputId": "78db454c-2349-40d7-a42d-b697bb1270de",
        "colab": {
          "base_uri": "https://localhost:8080/",
          "height": 294
        }
      },
      "source": [
        "dfM.fillna(0)"
      ],
      "execution_count": 140,
      "outputs": [
        {
          "output_type": "execute_result",
          "data": {
            "text/html": [
              "<div>\n",
              "<style scoped>\n",
              "    .dataframe tbody tr th:only-of-type {\n",
              "        vertical-align: middle;\n",
              "    }\n",
              "\n",
              "    .dataframe tbody tr th {\n",
              "        vertical-align: top;\n",
              "    }\n",
              "\n",
              "    .dataframe thead th {\n",
              "        text-align: right;\n",
              "    }\n",
              "</style>\n",
              "<table border=\"1\" class=\"dataframe\">\n",
              "  <thead>\n",
              "    <tr style=\"text-align: right;\">\n",
              "      <th></th>\n",
              "      <th>one</th>\n",
              "      <th>two</th>\n",
              "      <th>three</th>\n",
              "    </tr>\n",
              "  </thead>\n",
              "  <tbody>\n",
              "    <tr>\n",
              "      <th>a</th>\n",
              "      <td>-0.050718</td>\n",
              "      <td>-0.191366</td>\n",
              "      <td>0.422774</td>\n",
              "    </tr>\n",
              "    <tr>\n",
              "      <th>b</th>\n",
              "      <td>0.000000</td>\n",
              "      <td>0.000000</td>\n",
              "      <td>0.000000</td>\n",
              "    </tr>\n",
              "    <tr>\n",
              "      <th>c</th>\n",
              "      <td>-1.463405</td>\n",
              "      <td>0.457069</td>\n",
              "      <td>-1.508222</td>\n",
              "    </tr>\n",
              "    <tr>\n",
              "      <th>d</th>\n",
              "      <td>0.000000</td>\n",
              "      <td>0.000000</td>\n",
              "      <td>0.000000</td>\n",
              "    </tr>\n",
              "    <tr>\n",
              "      <th>e</th>\n",
              "      <td>0.039089</td>\n",
              "      <td>-1.490003</td>\n",
              "      <td>-0.885270</td>\n",
              "    </tr>\n",
              "    <tr>\n",
              "      <th>f</th>\n",
              "      <td>0.138887</td>\n",
              "      <td>-0.476437</td>\n",
              "      <td>-1.034227</td>\n",
              "    </tr>\n",
              "    <tr>\n",
              "      <th>g</th>\n",
              "      <td>0.000000</td>\n",
              "      <td>0.000000</td>\n",
              "      <td>0.000000</td>\n",
              "    </tr>\n",
              "    <tr>\n",
              "      <th>h</th>\n",
              "      <td>0.153803</td>\n",
              "      <td>0.802204</td>\n",
              "      <td>-0.898543</td>\n",
              "    </tr>\n",
              "  </tbody>\n",
              "</table>\n",
              "</div>"
            ],
            "text/plain": [
              "        one       two     three\n",
              "a -0.050718 -0.191366  0.422774\n",
              "b  0.000000  0.000000  0.000000\n",
              "c -1.463405  0.457069 -1.508222\n",
              "d  0.000000  0.000000  0.000000\n",
              "e  0.039089 -1.490003 -0.885270\n",
              "f  0.138887 -0.476437 -1.034227\n",
              "g  0.000000  0.000000  0.000000\n",
              "h  0.153803  0.802204 -0.898543"
            ]
          },
          "metadata": {
            "tags": []
          },
          "execution_count": 140
        }
      ]
    },
    {
      "cell_type": "code",
      "metadata": {
        "id": "bpi_NqscMnCk",
        "outputId": "fdd2cdde-3ea8-4491-bcbe-72549292c099",
        "colab": {
          "base_uri": "https://localhost:8080/",
          "height": 294
        }
      },
      "source": [
        "dfM.fillna(method='pad')"
      ],
      "execution_count": 141,
      "outputs": [
        {
          "output_type": "execute_result",
          "data": {
            "text/html": [
              "<div>\n",
              "<style scoped>\n",
              "    .dataframe tbody tr th:only-of-type {\n",
              "        vertical-align: middle;\n",
              "    }\n",
              "\n",
              "    .dataframe tbody tr th {\n",
              "        vertical-align: top;\n",
              "    }\n",
              "\n",
              "    .dataframe thead th {\n",
              "        text-align: right;\n",
              "    }\n",
              "</style>\n",
              "<table border=\"1\" class=\"dataframe\">\n",
              "  <thead>\n",
              "    <tr style=\"text-align: right;\">\n",
              "      <th></th>\n",
              "      <th>one</th>\n",
              "      <th>two</th>\n",
              "      <th>three</th>\n",
              "    </tr>\n",
              "  </thead>\n",
              "  <tbody>\n",
              "    <tr>\n",
              "      <th>a</th>\n",
              "      <td>-0.050718</td>\n",
              "      <td>-0.191366</td>\n",
              "      <td>0.422774</td>\n",
              "    </tr>\n",
              "    <tr>\n",
              "      <th>b</th>\n",
              "      <td>-0.050718</td>\n",
              "      <td>-0.191366</td>\n",
              "      <td>0.422774</td>\n",
              "    </tr>\n",
              "    <tr>\n",
              "      <th>c</th>\n",
              "      <td>-1.463405</td>\n",
              "      <td>0.457069</td>\n",
              "      <td>-1.508222</td>\n",
              "    </tr>\n",
              "    <tr>\n",
              "      <th>d</th>\n",
              "      <td>-1.463405</td>\n",
              "      <td>0.457069</td>\n",
              "      <td>-1.508222</td>\n",
              "    </tr>\n",
              "    <tr>\n",
              "      <th>e</th>\n",
              "      <td>0.039089</td>\n",
              "      <td>-1.490003</td>\n",
              "      <td>-0.885270</td>\n",
              "    </tr>\n",
              "    <tr>\n",
              "      <th>f</th>\n",
              "      <td>0.138887</td>\n",
              "      <td>-0.476437</td>\n",
              "      <td>-1.034227</td>\n",
              "    </tr>\n",
              "    <tr>\n",
              "      <th>g</th>\n",
              "      <td>0.138887</td>\n",
              "      <td>-0.476437</td>\n",
              "      <td>-1.034227</td>\n",
              "    </tr>\n",
              "    <tr>\n",
              "      <th>h</th>\n",
              "      <td>0.153803</td>\n",
              "      <td>0.802204</td>\n",
              "      <td>-0.898543</td>\n",
              "    </tr>\n",
              "  </tbody>\n",
              "</table>\n",
              "</div>"
            ],
            "text/plain": [
              "        one       two     three\n",
              "a -0.050718 -0.191366  0.422774\n",
              "b -0.050718 -0.191366  0.422774\n",
              "c -1.463405  0.457069 -1.508222\n",
              "d -1.463405  0.457069 -1.508222\n",
              "e  0.039089 -1.490003 -0.885270\n",
              "f  0.138887 -0.476437 -1.034227\n",
              "g  0.138887 -0.476437 -1.034227\n",
              "h  0.153803  0.802204 -0.898543"
            ]
          },
          "metadata": {
            "tags": []
          },
          "execution_count": 141
        }
      ]
    },
    {
      "cell_type": "code",
      "metadata": {
        "id": "LEDnp_mUMtQw",
        "outputId": "881bc652-b2be-41cd-d67c-8955a06c6f29",
        "colab": {
          "base_uri": "https://localhost:8080/",
          "height": 202
        }
      },
      "source": [
        "dfM.dropna()"
      ],
      "execution_count": 142,
      "outputs": [
        {
          "output_type": "execute_result",
          "data": {
            "text/html": [
              "<div>\n",
              "<style scoped>\n",
              "    .dataframe tbody tr th:only-of-type {\n",
              "        vertical-align: middle;\n",
              "    }\n",
              "\n",
              "    .dataframe tbody tr th {\n",
              "        vertical-align: top;\n",
              "    }\n",
              "\n",
              "    .dataframe thead th {\n",
              "        text-align: right;\n",
              "    }\n",
              "</style>\n",
              "<table border=\"1\" class=\"dataframe\">\n",
              "  <thead>\n",
              "    <tr style=\"text-align: right;\">\n",
              "      <th></th>\n",
              "      <th>one</th>\n",
              "      <th>two</th>\n",
              "      <th>three</th>\n",
              "    </tr>\n",
              "  </thead>\n",
              "  <tbody>\n",
              "    <tr>\n",
              "      <th>a</th>\n",
              "      <td>-0.050718</td>\n",
              "      <td>-0.191366</td>\n",
              "      <td>0.422774</td>\n",
              "    </tr>\n",
              "    <tr>\n",
              "      <th>c</th>\n",
              "      <td>-1.463405</td>\n",
              "      <td>0.457069</td>\n",
              "      <td>-1.508222</td>\n",
              "    </tr>\n",
              "    <tr>\n",
              "      <th>e</th>\n",
              "      <td>0.039089</td>\n",
              "      <td>-1.490003</td>\n",
              "      <td>-0.885270</td>\n",
              "    </tr>\n",
              "    <tr>\n",
              "      <th>f</th>\n",
              "      <td>0.138887</td>\n",
              "      <td>-0.476437</td>\n",
              "      <td>-1.034227</td>\n",
              "    </tr>\n",
              "    <tr>\n",
              "      <th>h</th>\n",
              "      <td>0.153803</td>\n",
              "      <td>0.802204</td>\n",
              "      <td>-0.898543</td>\n",
              "    </tr>\n",
              "  </tbody>\n",
              "</table>\n",
              "</div>"
            ],
            "text/plain": [
              "        one       two     three\n",
              "a -0.050718 -0.191366  0.422774\n",
              "c -1.463405  0.457069 -1.508222\n",
              "e  0.039089 -1.490003 -0.885270\n",
              "f  0.138887 -0.476437 -1.034227\n",
              "h  0.153803  0.802204 -0.898543"
            ]
          },
          "metadata": {
            "tags": []
          },
          "execution_count": 142
        }
      ]
    },
    {
      "cell_type": "code",
      "metadata": {
        "id": "Oh5B8KPGM8jS",
        "outputId": "57e69ec1-09aa-4722-e632-db74b7be6815",
        "colab": {
          "base_uri": "https://localhost:8080/",
          "height": 233
        }
      },
      "source": [
        "dfR = pd.DataFrame({'one':[10,20,30,40,50,2000], 'two':[1000,0,30,40,50,60]})\n",
        "dfR.replace({1000:10,2000:60})"
      ],
      "execution_count": 144,
      "outputs": [
        {
          "output_type": "execute_result",
          "data": {
            "text/html": [
              "<div>\n",
              "<style scoped>\n",
              "    .dataframe tbody tr th:only-of-type {\n",
              "        vertical-align: middle;\n",
              "    }\n",
              "\n",
              "    .dataframe tbody tr th {\n",
              "        vertical-align: top;\n",
              "    }\n",
              "\n",
              "    .dataframe thead th {\n",
              "        text-align: right;\n",
              "    }\n",
              "</style>\n",
              "<table border=\"1\" class=\"dataframe\">\n",
              "  <thead>\n",
              "    <tr style=\"text-align: right;\">\n",
              "      <th></th>\n",
              "      <th>one</th>\n",
              "      <th>two</th>\n",
              "    </tr>\n",
              "  </thead>\n",
              "  <tbody>\n",
              "    <tr>\n",
              "      <th>0</th>\n",
              "      <td>10</td>\n",
              "      <td>10</td>\n",
              "    </tr>\n",
              "    <tr>\n",
              "      <th>1</th>\n",
              "      <td>20</td>\n",
              "      <td>0</td>\n",
              "    </tr>\n",
              "    <tr>\n",
              "      <th>2</th>\n",
              "      <td>30</td>\n",
              "      <td>30</td>\n",
              "    </tr>\n",
              "    <tr>\n",
              "      <th>3</th>\n",
              "      <td>40</td>\n",
              "      <td>40</td>\n",
              "    </tr>\n",
              "    <tr>\n",
              "      <th>4</th>\n",
              "      <td>50</td>\n",
              "      <td>50</td>\n",
              "    </tr>\n",
              "    <tr>\n",
              "      <th>5</th>\n",
              "      <td>60</td>\n",
              "      <td>60</td>\n",
              "    </tr>\n",
              "  </tbody>\n",
              "</table>\n",
              "</div>"
            ],
            "text/plain": [
              "   one  two\n",
              "0   10   10\n",
              "1   20    0\n",
              "2   30   30\n",
              "3   40   40\n",
              "4   50   50\n",
              "5   60   60"
            ]
          },
          "metadata": {
            "tags": []
          },
          "execution_count": 144
        }
      ]
    },
    {
      "cell_type": "markdown",
      "metadata": {
        "id": "b1hOQdmwM7nY"
      },
      "source": [
        "# Pandas - Grouping"
      ]
    },
    {
      "cell_type": "code",
      "metadata": {
        "id": "F5t36M2-NWqU"
      },
      "source": [
        "ipl_data = {'Team': ['Riders', 'Riders', 'Devils', 'Devils', 'Kings',\n",
        "   'kings', 'Kings', 'Kings', 'Riders', 'Royals', 'Royals', 'Riders'],\n",
        "   'Rank': [1, 2, 2, 3, 3,4 ,1 ,1,2 , 4,1,2],\n",
        "   'Year': [2014,2015,2014,2015,2014,2015,2016,2017,2016,2014,2015,2017],\n",
        "   'Points':[876,789,863,673,741,812,756,788,694,701,804,690]}\n",
        "Ipl = pd.DataFrame(ipl_data)"
      ],
      "execution_count": 145,
      "outputs": []
    },
    {
      "cell_type": "code",
      "metadata": {
        "id": "cE_tU-YTNg1H",
        "outputId": "6ccab15d-8ad7-4e4a-c3de-a9d33f43a567",
        "colab": {
          "base_uri": "https://localhost:8080/"
        }
      },
      "source": [
        "Ipl.groupby(['Team','Year']).groups"
      ],
      "execution_count": 146,
      "outputs": [
        {
          "output_type": "execute_result",
          "data": {
            "text/plain": [
              "{('Devils', 2014): [2], ('Devils', 2015): [3], ('Kings', 2014): [4], ('Kings', 2016): [6], ('Kings', 2017): [7], ('Riders', 2014): [0], ('Riders', 2015): [1], ('Riders', 2016): [8], ('Riders', 2017): [11], ('Royals', 2014): [9], ('Royals', 2015): [10], ('kings', 2015): [5]}"
            ]
          },
          "metadata": {
            "tags": []
          },
          "execution_count": 146
        }
      ]
    },
    {
      "cell_type": "code",
      "metadata": {
        "id": "ak7cpvdMOBub",
        "outputId": "5d75749d-8f3e-4ab3-c940-08df6d8f31db",
        "colab": {
          "base_uri": "https://localhost:8080/"
        }
      },
      "source": [
        "y = Ipl.groupby('Year')\n",
        "print(y.get_group(2015))"
      ],
      "execution_count": 148,
      "outputs": [
        {
          "output_type": "stream",
          "text": [
            "      Team  Rank  Year  Points\n",
            "1   Riders     2  2015     789\n",
            "3   Devils     3  2015     673\n",
            "5    kings     4  2015     812\n",
            "10  Royals     1  2015     804\n"
          ],
          "name": "stdout"
        }
      ]
    },
    {
      "cell_type": "code",
      "metadata": {
        "id": "GB1s0FlOOPs-",
        "outputId": "0e1953ca-89bc-4479-c988-9c1ee6c00c73",
        "colab": {
          "base_uri": "https://localhost:8080/"
        }
      },
      "source": [
        "y['Points'].agg(np.mean)"
      ],
      "execution_count": 149,
      "outputs": [
        {
          "output_type": "execute_result",
          "data": {
            "text/plain": [
              "Year\n",
              "2014    795.25\n",
              "2015    769.50\n",
              "2016    725.00\n",
              "2017    739.00\n",
              "Name: Points, dtype: float64"
            ]
          },
          "metadata": {
            "tags": []
          },
          "execution_count": 149
        }
      ]
    },
    {
      "cell_type": "code",
      "metadata": {
        "id": "-mV1LMgaOZzB",
        "outputId": "c5842d00-60d6-4869-bde1-f0bfa99094d7",
        "colab": {
          "base_uri": "https://localhost:8080/",
          "height": 202
        }
      },
      "source": [
        "y.agg(np.size)"
      ],
      "execution_count": 150,
      "outputs": [
        {
          "output_type": "execute_result",
          "data": {
            "text/html": [
              "<div>\n",
              "<style scoped>\n",
              "    .dataframe tbody tr th:only-of-type {\n",
              "        vertical-align: middle;\n",
              "    }\n",
              "\n",
              "    .dataframe tbody tr th {\n",
              "        vertical-align: top;\n",
              "    }\n",
              "\n",
              "    .dataframe thead th {\n",
              "        text-align: right;\n",
              "    }\n",
              "</style>\n",
              "<table border=\"1\" class=\"dataframe\">\n",
              "  <thead>\n",
              "    <tr style=\"text-align: right;\">\n",
              "      <th></th>\n",
              "      <th>Team</th>\n",
              "      <th>Rank</th>\n",
              "      <th>Points</th>\n",
              "    </tr>\n",
              "    <tr>\n",
              "      <th>Year</th>\n",
              "      <th></th>\n",
              "      <th></th>\n",
              "      <th></th>\n",
              "    </tr>\n",
              "  </thead>\n",
              "  <tbody>\n",
              "    <tr>\n",
              "      <th>2014</th>\n",
              "      <td>4</td>\n",
              "      <td>4</td>\n",
              "      <td>4</td>\n",
              "    </tr>\n",
              "    <tr>\n",
              "      <th>2015</th>\n",
              "      <td>4</td>\n",
              "      <td>4</td>\n",
              "      <td>4</td>\n",
              "    </tr>\n",
              "    <tr>\n",
              "      <th>2016</th>\n",
              "      <td>2</td>\n",
              "      <td>2</td>\n",
              "      <td>2</td>\n",
              "    </tr>\n",
              "    <tr>\n",
              "      <th>2017</th>\n",
              "      <td>2</td>\n",
              "      <td>2</td>\n",
              "      <td>2</td>\n",
              "    </tr>\n",
              "  </tbody>\n",
              "</table>\n",
              "</div>"
            ],
            "text/plain": [
              "      Team  Rank  Points\n",
              "Year                    \n",
              "2014     4     4       4\n",
              "2015     4     4       4\n",
              "2016     2     2       2\n",
              "2017     2     2       2"
            ]
          },
          "metadata": {
            "tags": []
          },
          "execution_count": 150
        }
      ]
    },
    {
      "cell_type": "code",
      "metadata": {
        "id": "4lMn8eTBOgLe",
        "outputId": "d78ef85f-0e04-4da9-c814-ef59ca4716aa",
        "colab": {
          "base_uri": "https://localhost:8080/",
          "height": 417
        }
      },
      "source": [
        "score = lambda x: (x - x.mean()) / x.std()*10\n",
        "y.transform(score)"
      ],
      "execution_count": 151,
      "outputs": [
        {
          "output_type": "execute_result",
          "data": {
            "text/html": [
              "<div>\n",
              "<style scoped>\n",
              "    .dataframe tbody tr th:only-of-type {\n",
              "        vertical-align: middle;\n",
              "    }\n",
              "\n",
              "    .dataframe tbody tr th {\n",
              "        vertical-align: top;\n",
              "    }\n",
              "\n",
              "    .dataframe thead th {\n",
              "        text-align: right;\n",
              "    }\n",
              "</style>\n",
              "<table border=\"1\" class=\"dataframe\">\n",
              "  <thead>\n",
              "    <tr style=\"text-align: right;\">\n",
              "      <th></th>\n",
              "      <th>Rank</th>\n",
              "      <th>Points</th>\n",
              "    </tr>\n",
              "  </thead>\n",
              "  <tbody>\n",
              "    <tr>\n",
              "      <th>0</th>\n",
              "      <td>-11.618950</td>\n",
              "      <td>9.235007</td>\n",
              "    </tr>\n",
              "    <tr>\n",
              "      <th>1</th>\n",
              "      <td>-3.872983</td>\n",
              "      <td>2.998345</td>\n",
              "    </tr>\n",
              "    <tr>\n",
              "      <th>2</th>\n",
              "      <td>-3.872983</td>\n",
              "      <td>7.748256</td>\n",
              "    </tr>\n",
              "    <tr>\n",
              "      <th>3</th>\n",
              "      <td>3.872983</td>\n",
              "      <td>-14.837962</td>\n",
              "    </tr>\n",
              "    <tr>\n",
              "      <th>4</th>\n",
              "      <td>3.872983</td>\n",
              "      <td>-6.204323</td>\n",
              "    </tr>\n",
              "    <tr>\n",
              "      <th>5</th>\n",
              "      <td>11.618950</td>\n",
              "      <td>6.534854</td>\n",
              "    </tr>\n",
              "    <tr>\n",
              "      <th>6</th>\n",
              "      <td>-7.071068</td>\n",
              "      <td>7.071068</td>\n",
              "    </tr>\n",
              "    <tr>\n",
              "      <th>7</th>\n",
              "      <td>-7.071068</td>\n",
              "      <td>7.071068</td>\n",
              "    </tr>\n",
              "    <tr>\n",
              "      <th>8</th>\n",
              "      <td>7.071068</td>\n",
              "      <td>-7.071068</td>\n",
              "    </tr>\n",
              "    <tr>\n",
              "      <th>9</th>\n",
              "      <td>11.618950</td>\n",
              "      <td>-10.778940</td>\n",
              "    </tr>\n",
              "    <tr>\n",
              "      <th>10</th>\n",
              "      <td>-11.618950</td>\n",
              "      <td>5.304763</td>\n",
              "    </tr>\n",
              "    <tr>\n",
              "      <th>11</th>\n",
              "      <td>7.071068</td>\n",
              "      <td>-7.071068</td>\n",
              "    </tr>\n",
              "  </tbody>\n",
              "</table>\n",
              "</div>"
            ],
            "text/plain": [
              "         Rank     Points\n",
              "0  -11.618950   9.235007\n",
              "1   -3.872983   2.998345\n",
              "2   -3.872983   7.748256\n",
              "3    3.872983 -14.837962\n",
              "4    3.872983  -6.204323\n",
              "5   11.618950   6.534854\n",
              "6   -7.071068   7.071068\n",
              "7   -7.071068   7.071068\n",
              "8    7.071068  -7.071068\n",
              "9   11.618950 -10.778940\n",
              "10 -11.618950   5.304763\n",
              "11   7.071068  -7.071068"
            ]
          },
          "metadata": {
            "tags": []
          },
          "execution_count": 151
        }
      ]
    },
    {
      "cell_type": "code",
      "metadata": {
        "id": "CF9UIgN1Ojog",
        "outputId": "0de35cf0-fb7f-4ad9-f930-b20d7d14a883",
        "colab": {
          "base_uri": "https://localhost:8080/",
          "height": 263
        }
      },
      "source": [
        "Ipl.groupby('Team').filter(lambda x: len(x) >= 3)"
      ],
      "execution_count": 152,
      "outputs": [
        {
          "output_type": "execute_result",
          "data": {
            "text/html": [
              "<div>\n",
              "<style scoped>\n",
              "    .dataframe tbody tr th:only-of-type {\n",
              "        vertical-align: middle;\n",
              "    }\n",
              "\n",
              "    .dataframe tbody tr th {\n",
              "        vertical-align: top;\n",
              "    }\n",
              "\n",
              "    .dataframe thead th {\n",
              "        text-align: right;\n",
              "    }\n",
              "</style>\n",
              "<table border=\"1\" class=\"dataframe\">\n",
              "  <thead>\n",
              "    <tr style=\"text-align: right;\">\n",
              "      <th></th>\n",
              "      <th>Team</th>\n",
              "      <th>Rank</th>\n",
              "      <th>Year</th>\n",
              "      <th>Points</th>\n",
              "    </tr>\n",
              "  </thead>\n",
              "  <tbody>\n",
              "    <tr>\n",
              "      <th>0</th>\n",
              "      <td>Riders</td>\n",
              "      <td>1</td>\n",
              "      <td>2014</td>\n",
              "      <td>876</td>\n",
              "    </tr>\n",
              "    <tr>\n",
              "      <th>1</th>\n",
              "      <td>Riders</td>\n",
              "      <td>2</td>\n",
              "      <td>2015</td>\n",
              "      <td>789</td>\n",
              "    </tr>\n",
              "    <tr>\n",
              "      <th>4</th>\n",
              "      <td>Kings</td>\n",
              "      <td>3</td>\n",
              "      <td>2014</td>\n",
              "      <td>741</td>\n",
              "    </tr>\n",
              "    <tr>\n",
              "      <th>6</th>\n",
              "      <td>Kings</td>\n",
              "      <td>1</td>\n",
              "      <td>2016</td>\n",
              "      <td>756</td>\n",
              "    </tr>\n",
              "    <tr>\n",
              "      <th>7</th>\n",
              "      <td>Kings</td>\n",
              "      <td>1</td>\n",
              "      <td>2017</td>\n",
              "      <td>788</td>\n",
              "    </tr>\n",
              "    <tr>\n",
              "      <th>8</th>\n",
              "      <td>Riders</td>\n",
              "      <td>2</td>\n",
              "      <td>2016</td>\n",
              "      <td>694</td>\n",
              "    </tr>\n",
              "    <tr>\n",
              "      <th>11</th>\n",
              "      <td>Riders</td>\n",
              "      <td>2</td>\n",
              "      <td>2017</td>\n",
              "      <td>690</td>\n",
              "    </tr>\n",
              "  </tbody>\n",
              "</table>\n",
              "</div>"
            ],
            "text/plain": [
              "      Team  Rank  Year  Points\n",
              "0   Riders     1  2014     876\n",
              "1   Riders     2  2015     789\n",
              "4    Kings     3  2014     741\n",
              "6    Kings     1  2016     756\n",
              "7    Kings     1  2017     788\n",
              "8   Riders     2  2016     694\n",
              "11  Riders     2  2017     690"
            ]
          },
          "metadata": {
            "tags": []
          },
          "execution_count": 152
        }
      ]
    },
    {
      "cell_type": "markdown",
      "metadata": {
        "id": "UaSj6eutM3_X"
      },
      "source": [
        "# Pandas - Merging"
      ]
    },
    {
      "cell_type": "code",
      "metadata": {
        "id": "dzb3wa1UO33y"
      },
      "source": [
        "a = pd.DataFrame({\n",
        "   'id':[1,2,3,4,5],\n",
        "   'Name': ['Alex', 'Amy', 'Allen', 'Alice', 'Ayoung'],\n",
        "   'subject_id':['sub1','sub2','sub4','sub6','sub5']})\n",
        "b = pd.DataFrame({\n",
        "\t'id':[1,2,3,4,5],\n",
        "   'Name': ['Billy', 'Brian', 'Bran', 'Bryce', 'Betty'],\n",
        "   'subject_id':['sub2','sub4','sub3','sub6','sub5']})"
      ],
      "execution_count": 153,
      "outputs": []
    },
    {
      "cell_type": "code",
      "metadata": {
        "id": "5DgRrMgzO_cl",
        "outputId": "de60615b-1526-404a-a4aa-ae0d5919c371",
        "colab": {
          "base_uri": "https://localhost:8080/",
          "height": 202
        }
      },
      "source": [
        "pd.merge(a,b,on='id')"
      ],
      "execution_count": 154,
      "outputs": [
        {
          "output_type": "execute_result",
          "data": {
            "text/html": [
              "<div>\n",
              "<style scoped>\n",
              "    .dataframe tbody tr th:only-of-type {\n",
              "        vertical-align: middle;\n",
              "    }\n",
              "\n",
              "    .dataframe tbody tr th {\n",
              "        vertical-align: top;\n",
              "    }\n",
              "\n",
              "    .dataframe thead th {\n",
              "        text-align: right;\n",
              "    }\n",
              "</style>\n",
              "<table border=\"1\" class=\"dataframe\">\n",
              "  <thead>\n",
              "    <tr style=\"text-align: right;\">\n",
              "      <th></th>\n",
              "      <th>id</th>\n",
              "      <th>Name_x</th>\n",
              "      <th>subject_id_x</th>\n",
              "      <th>Name_y</th>\n",
              "      <th>subject_id_y</th>\n",
              "    </tr>\n",
              "  </thead>\n",
              "  <tbody>\n",
              "    <tr>\n",
              "      <th>0</th>\n",
              "      <td>1</td>\n",
              "      <td>Alex</td>\n",
              "      <td>sub1</td>\n",
              "      <td>Billy</td>\n",
              "      <td>sub2</td>\n",
              "    </tr>\n",
              "    <tr>\n",
              "      <th>1</th>\n",
              "      <td>2</td>\n",
              "      <td>Amy</td>\n",
              "      <td>sub2</td>\n",
              "      <td>Brian</td>\n",
              "      <td>sub4</td>\n",
              "    </tr>\n",
              "    <tr>\n",
              "      <th>2</th>\n",
              "      <td>3</td>\n",
              "      <td>Allen</td>\n",
              "      <td>sub4</td>\n",
              "      <td>Bran</td>\n",
              "      <td>sub3</td>\n",
              "    </tr>\n",
              "    <tr>\n",
              "      <th>3</th>\n",
              "      <td>4</td>\n",
              "      <td>Alice</td>\n",
              "      <td>sub6</td>\n",
              "      <td>Bryce</td>\n",
              "      <td>sub6</td>\n",
              "    </tr>\n",
              "    <tr>\n",
              "      <th>4</th>\n",
              "      <td>5</td>\n",
              "      <td>Ayoung</td>\n",
              "      <td>sub5</td>\n",
              "      <td>Betty</td>\n",
              "      <td>sub5</td>\n",
              "    </tr>\n",
              "  </tbody>\n",
              "</table>\n",
              "</div>"
            ],
            "text/plain": [
              "   id  Name_x subject_id_x Name_y subject_id_y\n",
              "0   1    Alex         sub1  Billy         sub2\n",
              "1   2     Amy         sub2  Brian         sub4\n",
              "2   3   Allen         sub4   Bran         sub3\n",
              "3   4   Alice         sub6  Bryce         sub6\n",
              "4   5  Ayoung         sub5  Betty         sub5"
            ]
          },
          "metadata": {
            "tags": []
          },
          "execution_count": 154
        }
      ]
    },
    {
      "cell_type": "code",
      "metadata": {
        "id": "2lKU8AOCPCaS",
        "outputId": "0f97abf5-2497-43d6-c00f-22d7a0f72cd6",
        "colab": {
          "base_uri": "https://localhost:8080/",
          "height": 110
        }
      },
      "source": [
        "pd.merge(a,b,on=['id','subject_id'])"
      ],
      "execution_count": 156,
      "outputs": [
        {
          "output_type": "execute_result",
          "data": {
            "text/html": [
              "<div>\n",
              "<style scoped>\n",
              "    .dataframe tbody tr th:only-of-type {\n",
              "        vertical-align: middle;\n",
              "    }\n",
              "\n",
              "    .dataframe tbody tr th {\n",
              "        vertical-align: top;\n",
              "    }\n",
              "\n",
              "    .dataframe thead th {\n",
              "        text-align: right;\n",
              "    }\n",
              "</style>\n",
              "<table border=\"1\" class=\"dataframe\">\n",
              "  <thead>\n",
              "    <tr style=\"text-align: right;\">\n",
              "      <th></th>\n",
              "      <th>id</th>\n",
              "      <th>Name_x</th>\n",
              "      <th>subject_id</th>\n",
              "      <th>Name_y</th>\n",
              "    </tr>\n",
              "  </thead>\n",
              "  <tbody>\n",
              "    <tr>\n",
              "      <th>0</th>\n",
              "      <td>4</td>\n",
              "      <td>Alice</td>\n",
              "      <td>sub6</td>\n",
              "      <td>Bryce</td>\n",
              "    </tr>\n",
              "    <tr>\n",
              "      <th>1</th>\n",
              "      <td>5</td>\n",
              "      <td>Ayoung</td>\n",
              "      <td>sub5</td>\n",
              "      <td>Betty</td>\n",
              "    </tr>\n",
              "  </tbody>\n",
              "</table>\n",
              "</div>"
            ],
            "text/plain": [
              "   id  Name_x subject_id Name_y\n",
              "0   4   Alice       sub6  Bryce\n",
              "1   5  Ayoung       sub5  Betty"
            ]
          },
          "metadata": {
            "tags": []
          },
          "execution_count": 156
        }
      ]
    },
    {
      "cell_type": "code",
      "metadata": {
        "id": "_wPyR8N_PNYV",
        "outputId": "d2cd7cc6-3854-4e35-9d72-5661f994cbce",
        "colab": {
          "base_uri": "https://localhost:8080/",
          "height": 202
        }
      },
      "source": [
        "pd.merge(a, b, on='subject_id', how='left')"
      ],
      "execution_count": 157,
      "outputs": [
        {
          "output_type": "execute_result",
          "data": {
            "text/html": [
              "<div>\n",
              "<style scoped>\n",
              "    .dataframe tbody tr th:only-of-type {\n",
              "        vertical-align: middle;\n",
              "    }\n",
              "\n",
              "    .dataframe tbody tr th {\n",
              "        vertical-align: top;\n",
              "    }\n",
              "\n",
              "    .dataframe thead th {\n",
              "        text-align: right;\n",
              "    }\n",
              "</style>\n",
              "<table border=\"1\" class=\"dataframe\">\n",
              "  <thead>\n",
              "    <tr style=\"text-align: right;\">\n",
              "      <th></th>\n",
              "      <th>id_x</th>\n",
              "      <th>Name_x</th>\n",
              "      <th>subject_id</th>\n",
              "      <th>id_y</th>\n",
              "      <th>Name_y</th>\n",
              "    </tr>\n",
              "  </thead>\n",
              "  <tbody>\n",
              "    <tr>\n",
              "      <th>0</th>\n",
              "      <td>1</td>\n",
              "      <td>Alex</td>\n",
              "      <td>sub1</td>\n",
              "      <td>NaN</td>\n",
              "      <td>NaN</td>\n",
              "    </tr>\n",
              "    <tr>\n",
              "      <th>1</th>\n",
              "      <td>2</td>\n",
              "      <td>Amy</td>\n",
              "      <td>sub2</td>\n",
              "      <td>1.0</td>\n",
              "      <td>Billy</td>\n",
              "    </tr>\n",
              "    <tr>\n",
              "      <th>2</th>\n",
              "      <td>3</td>\n",
              "      <td>Allen</td>\n",
              "      <td>sub4</td>\n",
              "      <td>2.0</td>\n",
              "      <td>Brian</td>\n",
              "    </tr>\n",
              "    <tr>\n",
              "      <th>3</th>\n",
              "      <td>4</td>\n",
              "      <td>Alice</td>\n",
              "      <td>sub6</td>\n",
              "      <td>4.0</td>\n",
              "      <td>Bryce</td>\n",
              "    </tr>\n",
              "    <tr>\n",
              "      <th>4</th>\n",
              "      <td>5</td>\n",
              "      <td>Ayoung</td>\n",
              "      <td>sub5</td>\n",
              "      <td>5.0</td>\n",
              "      <td>Betty</td>\n",
              "    </tr>\n",
              "  </tbody>\n",
              "</table>\n",
              "</div>"
            ],
            "text/plain": [
              "   id_x  Name_x subject_id  id_y Name_y\n",
              "0     1    Alex       sub1   NaN    NaN\n",
              "1     2     Amy       sub2   1.0  Billy\n",
              "2     3   Allen       sub4   2.0  Brian\n",
              "3     4   Alice       sub6   4.0  Bryce\n",
              "4     5  Ayoung       sub5   5.0  Betty"
            ]
          },
          "metadata": {
            "tags": []
          },
          "execution_count": 157
        }
      ]
    },
    {
      "cell_type": "code",
      "metadata": {
        "id": "fLyFT779PTXt",
        "outputId": "2517f155-eb8b-42d4-c0aa-972c725e6fb0",
        "colab": {
          "base_uri": "https://localhost:8080/",
          "height": 202
        }
      },
      "source": [
        "pd.merge(a, b, on='subject_id', how='right')"
      ],
      "execution_count": 159,
      "outputs": [
        {
          "output_type": "execute_result",
          "data": {
            "text/html": [
              "<div>\n",
              "<style scoped>\n",
              "    .dataframe tbody tr th:only-of-type {\n",
              "        vertical-align: middle;\n",
              "    }\n",
              "\n",
              "    .dataframe tbody tr th {\n",
              "        vertical-align: top;\n",
              "    }\n",
              "\n",
              "    .dataframe thead th {\n",
              "        text-align: right;\n",
              "    }\n",
              "</style>\n",
              "<table border=\"1\" class=\"dataframe\">\n",
              "  <thead>\n",
              "    <tr style=\"text-align: right;\">\n",
              "      <th></th>\n",
              "      <th>id_x</th>\n",
              "      <th>Name_x</th>\n",
              "      <th>subject_id</th>\n",
              "      <th>id_y</th>\n",
              "      <th>Name_y</th>\n",
              "    </tr>\n",
              "  </thead>\n",
              "  <tbody>\n",
              "    <tr>\n",
              "      <th>0</th>\n",
              "      <td>2.0</td>\n",
              "      <td>Amy</td>\n",
              "      <td>sub2</td>\n",
              "      <td>1</td>\n",
              "      <td>Billy</td>\n",
              "    </tr>\n",
              "    <tr>\n",
              "      <th>1</th>\n",
              "      <td>3.0</td>\n",
              "      <td>Allen</td>\n",
              "      <td>sub4</td>\n",
              "      <td>2</td>\n",
              "      <td>Brian</td>\n",
              "    </tr>\n",
              "    <tr>\n",
              "      <th>2</th>\n",
              "      <td>NaN</td>\n",
              "      <td>NaN</td>\n",
              "      <td>sub3</td>\n",
              "      <td>3</td>\n",
              "      <td>Bran</td>\n",
              "    </tr>\n",
              "    <tr>\n",
              "      <th>3</th>\n",
              "      <td>4.0</td>\n",
              "      <td>Alice</td>\n",
              "      <td>sub6</td>\n",
              "      <td>4</td>\n",
              "      <td>Bryce</td>\n",
              "    </tr>\n",
              "    <tr>\n",
              "      <th>4</th>\n",
              "      <td>5.0</td>\n",
              "      <td>Ayoung</td>\n",
              "      <td>sub5</td>\n",
              "      <td>5</td>\n",
              "      <td>Betty</td>\n",
              "    </tr>\n",
              "  </tbody>\n",
              "</table>\n",
              "</div>"
            ],
            "text/plain": [
              "   id_x  Name_x subject_id  id_y Name_y\n",
              "0   2.0     Amy       sub2     1  Billy\n",
              "1   3.0   Allen       sub4     2  Brian\n",
              "2   NaN     NaN       sub3     3   Bran\n",
              "3   4.0   Alice       sub6     4  Bryce\n",
              "4   5.0  Ayoung       sub5     5  Betty"
            ]
          },
          "metadata": {
            "tags": []
          },
          "execution_count": 159
        }
      ]
    },
    {
      "cell_type": "code",
      "metadata": {
        "id": "mmNf5qTpPaCc",
        "outputId": "f21d3a48-4460-4adb-f1cf-a8ccfb0df035",
        "colab": {
          "base_uri": "https://localhost:8080/",
          "height": 171
        }
      },
      "source": [
        "pd.merge(a, b, on='subject_id', how='inner')"
      ],
      "execution_count": 160,
      "outputs": [
        {
          "output_type": "execute_result",
          "data": {
            "text/html": [
              "<div>\n",
              "<style scoped>\n",
              "    .dataframe tbody tr th:only-of-type {\n",
              "        vertical-align: middle;\n",
              "    }\n",
              "\n",
              "    .dataframe tbody tr th {\n",
              "        vertical-align: top;\n",
              "    }\n",
              "\n",
              "    .dataframe thead th {\n",
              "        text-align: right;\n",
              "    }\n",
              "</style>\n",
              "<table border=\"1\" class=\"dataframe\">\n",
              "  <thead>\n",
              "    <tr style=\"text-align: right;\">\n",
              "      <th></th>\n",
              "      <th>id_x</th>\n",
              "      <th>Name_x</th>\n",
              "      <th>subject_id</th>\n",
              "      <th>id_y</th>\n",
              "      <th>Name_y</th>\n",
              "    </tr>\n",
              "  </thead>\n",
              "  <tbody>\n",
              "    <tr>\n",
              "      <th>0</th>\n",
              "      <td>2</td>\n",
              "      <td>Amy</td>\n",
              "      <td>sub2</td>\n",
              "      <td>1</td>\n",
              "      <td>Billy</td>\n",
              "    </tr>\n",
              "    <tr>\n",
              "      <th>1</th>\n",
              "      <td>3</td>\n",
              "      <td>Allen</td>\n",
              "      <td>sub4</td>\n",
              "      <td>2</td>\n",
              "      <td>Brian</td>\n",
              "    </tr>\n",
              "    <tr>\n",
              "      <th>2</th>\n",
              "      <td>4</td>\n",
              "      <td>Alice</td>\n",
              "      <td>sub6</td>\n",
              "      <td>4</td>\n",
              "      <td>Bryce</td>\n",
              "    </tr>\n",
              "    <tr>\n",
              "      <th>3</th>\n",
              "      <td>5</td>\n",
              "      <td>Ayoung</td>\n",
              "      <td>sub5</td>\n",
              "      <td>5</td>\n",
              "      <td>Betty</td>\n",
              "    </tr>\n",
              "  </tbody>\n",
              "</table>\n",
              "</div>"
            ],
            "text/plain": [
              "   id_x  Name_x subject_id  id_y Name_y\n",
              "0     2     Amy       sub2     1  Billy\n",
              "1     3   Allen       sub4     2  Brian\n",
              "2     4   Alice       sub6     4  Bryce\n",
              "3     5  Ayoung       sub5     5  Betty"
            ]
          },
          "metadata": {
            "tags": []
          },
          "execution_count": 160
        }
      ]
    },
    {
      "cell_type": "markdown",
      "metadata": {
        "id": "c0BQxhzVPlIw"
      },
      "source": [
        "# Pandas - TimeDelta"
      ]
    },
    {
      "cell_type": "code",
      "metadata": {
        "id": "ZMtxDcbBPqHZ",
        "outputId": "089cada9-8641-4f1b-95c0-6c88132395f9",
        "colab": {
          "base_uri": "https://localhost:8080/"
        }
      },
      "source": [
        "pd.Timedelta(days=2)"
      ],
      "execution_count": 161,
      "outputs": [
        {
          "output_type": "execute_result",
          "data": {
            "text/plain": [
              "Timedelta('2 days 00:00:00')"
            ]
          },
          "metadata": {
            "tags": []
          },
          "execution_count": 161
        }
      ]
    },
    {
      "cell_type": "code",
      "metadata": {
        "id": "_ZIMKGHWPts6",
        "outputId": "1758058a-a2e9-4c26-9274-076a22a12cc9",
        "colab": {
          "base_uri": "https://localhost:8080/"
        }
      },
      "source": [
        "s = pd.Series(pd.date_range('2012-1-1', periods=3, freq='D'))\n",
        "td = pd.Series([ pd.Timedelta(days=i) for i in range(3) ])\n",
        "dfT = pd.DataFrame(dict(A = s, B = td))\n",
        "print(dfT)"
      ],
      "execution_count": 163,
      "outputs": [
        {
          "output_type": "stream",
          "text": [
            "           A      B\n",
            "0 2012-01-01 0 days\n",
            "1 2012-01-02 1 days\n",
            "2 2012-01-03 2 days\n"
          ],
          "name": "stdout"
        }
      ]
    },
    {
      "cell_type": "code",
      "metadata": {
        "id": "gNWqr70yP2Y5",
        "outputId": "f3aeb365-1eb0-4360-81ef-3d308b0660e0",
        "colab": {
          "base_uri": "https://localhost:8080/"
        }
      },
      "source": [
        "dfT['A']+dfT['B']"
      ],
      "execution_count": 165,
      "outputs": [
        {
          "output_type": "execute_result",
          "data": {
            "text/plain": [
              "0   2012-01-01\n",
              "1   2012-01-03\n",
              "2   2012-01-05\n",
              "dtype: datetime64[ns]"
            ]
          },
          "metadata": {
            "tags": []
          },
          "execution_count": 165
        }
      ]
    },
    {
      "cell_type": "markdown",
      "metadata": {
        "id": "lmYyICZPQRTz"
      },
      "source": [
        "# Pandas - Plotting"
      ]
    },
    {
      "cell_type": "code",
      "metadata": {
        "id": "v_fwH0wwQUzu",
        "outputId": "34d226ec-df5f-4515-fb0d-d9bf099eb8af",
        "colab": {
          "base_uri": "https://localhost:8080/",
          "height": 283
        }
      },
      "source": [
        "dfM.plot()"
      ],
      "execution_count": 167,
      "outputs": [
        {
          "output_type": "execute_result",
          "data": {
            "text/plain": [
              "<matplotlib.axes._subplots.AxesSubplot at 0x7fe27ba29208>"
            ]
          },
          "metadata": {
            "tags": []
          },
          "execution_count": 167
        },
        {
          "output_type": "display_data",
          "data": {
            "image/png": "[encoded data removed]",
            "text/plain": [
              "<Figure size 432x288 with 1 Axes>"
            ]
          },
          "metadata": {
            "tags": [],
            "needs_background": "light"
          }
        }
      ]
    },
    {
      "cell_type": "code",
      "metadata": {
        "id": "QyvhytrBQc93",
        "outputId": "b041419c-32e3-4b57-9936-cb698e8202ca",
        "colab": {
          "base_uri": "https://localhost:8080/",
          "height": 307
        }
      },
      "source": [
        "dfP = pd.DataFrame(np.random.randn(10,4),index=pd.date_range('1/1/2000',periods=10), columns=list('ABCD'))\n",
        "dfP.plot()"
      ],
      "execution_count": 168,
      "outputs": [
        {
          "output_type": "execute_result",
          "data": {
            "text/plain": [
              "<matplotlib.axes._subplots.AxesSubplot at 0x7fe27b7d9e80>"
            ]
          },
          "metadata": {
            "tags": []
          },
          "execution_count": 168
        },
        {
          "output_type": "display_data",
          "data": {
            "image/png": "[encoded data removed]",
            "text/plain": [
              "<Figure size 432x288 with 1 Axes>"
            ]
          },
          "metadata": {
            "tags": [],
            "needs_background": "light"
          }
        }
      ]
    },
    {
      "cell_type": "code",
      "metadata": {
        "id": "8ogv3DNOQj_7",
        "outputId": "e3beb22f-8bdd-457a-c272-df23814a66f7",
        "colab": {
          "base_uri": "https://localhost:8080/",
          "height": 279
        }
      },
      "source": [
        "dfB = pd.DataFrame(np.random.rand(10,4),columns=['a','b','c','d'])\n",
        "dfB.plot.bar()"
      ],
      "execution_count": 170,
      "outputs": [
        {
          "output_type": "execute_result",
          "data": {
            "text/plain": [
              "<matplotlib.axes._subplots.AxesSubplot at 0x7fe27b2b7d30>"
            ]
          },
          "metadata": {
            "tags": []
          },
          "execution_count": 170
        },
        {
          "output_type": "display_data",
          "data": {
            "image/png": "[encoded data removed]",
            "text/plain": [
              "<Figure size 432x288 with 1 Axes>"
            ]
          },
          "metadata": {
            "tags": [],
            "needs_background": "light"
          }
        }
      ]
    },
    {
      "cell_type": "code",
      "metadata": {
        "id": "u2QlJDU6QslN",
        "outputId": "8858fa8e-abd8-4cb2-bdb3-cd6dd723b95e",
        "colab": {
          "base_uri": "https://localhost:8080/",
          "height": 283
        }
      },
      "source": [
        "dfB.plot.barh(stacked=True)"
      ],
      "execution_count": 171,
      "outputs": [
        {
          "output_type": "execute_result",
          "data": {
            "text/plain": [
              "<matplotlib.axes._subplots.AxesSubplot at 0x7fe27b26ce48>"
            ]
          },
          "metadata": {
            "tags": []
          },
          "execution_count": 171
        },
        {
          "output_type": "display_data",
          "data": {
            "image/png": "[encoded data removed]",
            "text/plain": [
              "<Figure size 432x288 with 1 Axes>"
            ]
          },
          "metadata": {
            "tags": [],
            "needs_background": "light"
          }
        }
      ]
    },
    {
      "cell_type": "code",
      "metadata": {
        "id": "UgZ2vVlmRMSM",
        "outputId": "3b41b66a-5b48-4369-e593-fdab6d8ec949",
        "colab": {
          "base_uri": "https://localhost:8080/",
          "height": 283
        }
      },
      "source": [
        "dfB.plot.box()"
      ],
      "execution_count": 174,
      "outputs": [
        {
          "output_type": "execute_result",
          "data": {
            "text/plain": [
              "<matplotlib.axes._subplots.AxesSubplot at 0x7fe27afcdb38>"
            ]
          },
          "metadata": {
            "tags": []
          },
          "execution_count": 174
        },
        {
          "output_type": "display_data",
          "data": {
            "image/png": "[encoded data removed]",
            "text/plain": [
              "<Figure size 432x288 with 1 Axes>"
            ]
          },
          "metadata": {
            "tags": [],
            "needs_background": "light"
          }
        }
      ]
    },
    {
      "cell_type": "code",
      "metadata": {
        "id": "oiafNHX1RQbS",
        "outputId": "9bafaf77-6006-4957-e3b4-ff30d5b9ba0c",
        "colab": {
          "base_uri": "https://localhost:8080/",
          "height": 283
        }
      },
      "source": [
        "dfB.plot.area()"
      ],
      "execution_count": 175,
      "outputs": [
        {
          "output_type": "execute_result",
          "data": {
            "text/plain": [
              "<matplotlib.axes._subplots.AxesSubplot at 0x7fe27af6e898>"
            ]
          },
          "metadata": {
            "tags": []
          },
          "execution_count": 175
        },
        {
          "output_type": "display_data",
          "data": {
            "image/png": "[encoded data removed]",
            "text/plain": [
              "<Figure size 432x288 with 1 Axes>"
            ]
          },
          "metadata": {
            "tags": [],
            "needs_background": "light"
          }
        }
      ]
    },
    {
      "cell_type": "code",
      "metadata": {
        "id": "kURs9W7vRUwT",
        "outputId": "e689cf15-1876-4263-c239-d14b71b5f22a",
        "colab": {
          "base_uri": "https://localhost:8080/",
          "height": 297
        }
      },
      "source": [
        "dfB.plot.scatter(x='a', y='b')"
      ],
      "execution_count": 176,
      "outputs": [
        {
          "output_type": "execute_result",
          "data": {
            "text/plain": [
              "<matplotlib.axes._subplots.AxesSubplot at 0x7fe27af6efd0>"
            ]
          },
          "metadata": {
            "tags": []
          },
          "execution_count": 176
        },
        {
          "output_type": "display_data",
          "data": {
            "image/png": "[encoded data removed]",
            "text/plain": [
              "<Figure size 432x288 with 1 Axes>"
            ]
          },
          "metadata": {
            "tags": [],
            "needs_background": "light"
          }
        }
      ]
    },
    {
      "cell_type": "code",
      "metadata": {
        "id": "6Ot0YrgiRYsu",
        "outputId": "a7456d92-17d4-47f2-8276-32346ed9ccfe",
        "colab": {
          "base_uri": "https://localhost:8080/",
          "height": 276
        }
      },
      "source": [
        "dfB.plot.pie(subplots=True)"
      ],
      "execution_count": 177,
      "outputs": [
        {
          "output_type": "execute_result",
          "data": {
            "text/plain": [
              "array([<matplotlib.axes._subplots.AxesSubplot object at 0x7fe27ae70160>,\n",
              "       <matplotlib.axes._subplots.AxesSubplot object at 0x7fe27ae0ad68>,\n",
              "       <matplotlib.axes._subplots.AxesSubplot object at 0x7fe27adbbeb8>,\n",
              "       <matplotlib.axes._subplots.AxesSubplot object at 0x7fe27ad77128>],\n",
              "      dtype=object)"
            ]
          },
          "metadata": {
            "tags": []
          },
          "execution_count": 177
        },
        {
          "output_type": "display_data",
          "data": {
            "image/png": "[encoded data removed]",
            "text/plain": [
              "<Figure size 432x288 with 4 Axes>"
            ]
          },
          "metadata": {
            "tags": []
          }
        }
      ]
    },
    {
      "cell_type": "markdown",
      "metadata": {
        "id": "-Qd-TW0kwl9p"
      },
      "source": [
        "# Pandas - Dataset Importing"
      ]
    },
    {
      "cell_type": "code",
      "metadata": {
        "id": "9X3F8Y9FwoT4"
      },
      "source": [
        "import pandas as pd"
      ],
      "execution_count": null,
      "outputs": []
    },
    {
      "cell_type": "code",
      "metadata": {
        "id": "W5BC9tDBwuSS"
      },
      "source": [
        "data1 = pd.read_csv('/content/Customer.csv')"
      ],
      "execution_count": null,
      "outputs": []
    },
    {
      "cell_type": "code",
      "metadata": {
        "id": "Nbgy6EAa08EA",
        "outputId": "2bfa0a2e-66fb-4fad-8e58-cc969b979b66",
        "colab": {
          "base_uri": "https://localhost:8080/",
          "height": 202
        }
      },
      "source": [
        "data1.head()"
      ],
      "execution_count": null,
      "outputs": [
        {
          "output_type": "execute_result",
          "data": {
            "text/html": [
              "<div>\n",
              "<style scoped>\n",
              "    .dataframe tbody tr th:only-of-type {\n",
              "        vertical-align: middle;\n",
              "    }\n",
              "\n",
              "    .dataframe tbody tr th {\n",
              "        vertical-align: top;\n",
              "    }\n",
              "\n",
              "    .dataframe thead th {\n",
              "        text-align: right;\n",
              "    }\n",
              "</style>\n",
              "<table border=\"1\" class=\"dataframe\">\n",
              "  <thead>\n",
              "    <tr style=\"text-align: right;\">\n",
              "      <th></th>\n",
              "      <th>Customer ID</th>\n",
              "      <th>Customer Name</th>\n",
              "      <th>Segment</th>\n",
              "      <th>Age</th>\n",
              "      <th>Country</th>\n",
              "      <th>City</th>\n",
              "      <th>State</th>\n",
              "      <th>Postal Code</th>\n",
              "      <th>Region</th>\n",
              "    </tr>\n",
              "  </thead>\n",
              "  <tbody>\n",
              "    <tr>\n",
              "      <th>0</th>\n",
              "      <td>CG-12520</td>\n",
              "      <td>Claire Gute</td>\n",
              "      <td>Consumer</td>\n",
              "      <td>67</td>\n",
              "      <td>United States</td>\n",
              "      <td>Henderson</td>\n",
              "      <td>Kentucky</td>\n",
              "      <td>42420</td>\n",
              "      <td>South</td>\n",
              "    </tr>\n",
              "    <tr>\n",
              "      <th>1</th>\n",
              "      <td>DV-13045</td>\n",
              "      <td>Darrin Van Huff</td>\n",
              "      <td>Corporate</td>\n",
              "      <td>31</td>\n",
              "      <td>United States</td>\n",
              "      <td>Los Angeles</td>\n",
              "      <td>California</td>\n",
              "      <td>90036</td>\n",
              "      <td>West</td>\n",
              "    </tr>\n",
              "    <tr>\n",
              "      <th>2</th>\n",
              "      <td>SO-20335</td>\n",
              "      <td>Sean O'Donnell</td>\n",
              "      <td>Consumer</td>\n",
              "      <td>65</td>\n",
              "      <td>United States</td>\n",
              "      <td>Fort Lauderdale</td>\n",
              "      <td>Florida</td>\n",
              "      <td>33311</td>\n",
              "      <td>South</td>\n",
              "    </tr>\n",
              "    <tr>\n",
              "      <th>3</th>\n",
              "      <td>BH-11710</td>\n",
              "      <td>Brosina Hoffman</td>\n",
              "      <td>Consumer</td>\n",
              "      <td>20</td>\n",
              "      <td>United States</td>\n",
              "      <td>Los Angeles</td>\n",
              "      <td>California</td>\n",
              "      <td>90032</td>\n",
              "      <td>West</td>\n",
              "    </tr>\n",
              "    <tr>\n",
              "      <th>4</th>\n",
              "      <td>AA-10480</td>\n",
              "      <td>Andrew Allen</td>\n",
              "      <td>Consumer</td>\n",
              "      <td>50</td>\n",
              "      <td>United States</td>\n",
              "      <td>Concord</td>\n",
              "      <td>North Carolina</td>\n",
              "      <td>28027</td>\n",
              "      <td>South</td>\n",
              "    </tr>\n",
              "  </tbody>\n",
              "</table>\n",
              "</div>"
            ],
            "text/plain": [
              "  Customer ID    Customer Name    Segment  ...           State Postal Code Region\n",
              "0    CG-12520      Claire Gute   Consumer  ...        Kentucky       42420  South\n",
              "1    DV-13045  Darrin Van Huff  Corporate  ...      California       90036   West\n",
              "2    SO-20335   Sean O'Donnell   Consumer  ...         Florida       33311  South\n",
              "3    BH-11710  Brosina Hoffman   Consumer  ...      California       90032   West\n",
              "4    AA-10480     Andrew Allen   Consumer  ...  North Carolina       28027  South\n",
              "\n",
              "[5 rows x 9 columns]"
            ]
          },
          "metadata": {
            "tags": []
          },
          "execution_count": 5
        }
      ]
    },
    {
      "cell_type": "code",
      "metadata": {
        "id": "BRWdDeH_1Khv"
      },
      "source": [
        "data2 = pd.read_csv('/content/Customer.csv', header =  0, index_col = 0)"
      ],
      "execution_count": null,
      "outputs": []
    },
    {
      "cell_type": "code",
      "metadata": {
        "id": "b0e13SC51spV",
        "outputId": "6db6f987-76f7-46be-9fe1-049c3fcacf53",
        "colab": {
          "base_uri": "https://localhost:8080/",
          "height": 233
        }
      },
      "source": [
        "data2.head()"
      ],
      "execution_count": null,
      "outputs": [
        {
          "output_type": "execute_result",
          "data": {
            "text/html": [
              "<div>\n",
              "<style scoped>\n",
              "    .dataframe tbody tr th:only-of-type {\n",
              "        vertical-align: middle;\n",
              "    }\n",
              "\n",
              "    .dataframe tbody tr th {\n",
              "        vertical-align: top;\n",
              "    }\n",
              "\n",
              "    .dataframe thead th {\n",
              "        text-align: right;\n",
              "    }\n",
              "</style>\n",
              "<table border=\"1\" class=\"dataframe\">\n",
              "  <thead>\n",
              "    <tr style=\"text-align: right;\">\n",
              "      <th></th>\n",
              "      <th>Customer Name</th>\n",
              "      <th>Segment</th>\n",
              "      <th>Age</th>\n",
              "      <th>Country</th>\n",
              "      <th>City</th>\n",
              "      <th>State</th>\n",
              "      <th>Postal Code</th>\n",
              "      <th>Region</th>\n",
              "    </tr>\n",
              "    <tr>\n",
              "      <th>Customer ID</th>\n",
              "      <th></th>\n",
              "      <th></th>\n",
              "      <th></th>\n",
              "      <th></th>\n",
              "      <th></th>\n",
              "      <th></th>\n",
              "      <th></th>\n",
              "      <th></th>\n",
              "    </tr>\n",
              "  </thead>\n",
              "  <tbody>\n",
              "    <tr>\n",
              "      <th>CG-12520</th>\n",
              "      <td>Claire Gute</td>\n",
              "      <td>Consumer</td>\n",
              "      <td>67</td>\n",
              "      <td>United States</td>\n",
              "      <td>Henderson</td>\n",
              "      <td>Kentucky</td>\n",
              "      <td>42420</td>\n",
              "      <td>South</td>\n",
              "    </tr>\n",
              "    <tr>\n",
              "      <th>DV-13045</th>\n",
              "      <td>Darrin Van Huff</td>\n",
              "      <td>Corporate</td>\n",
              "      <td>31</td>\n",
              "      <td>United States</td>\n",
              "      <td>Los Angeles</td>\n",
              "      <td>California</td>\n",
              "      <td>90036</td>\n",
              "      <td>West</td>\n",
              "    </tr>\n",
              "    <tr>\n",
              "      <th>SO-20335</th>\n",
              "      <td>Sean O'Donnell</td>\n",
              "      <td>Consumer</td>\n",
              "      <td>65</td>\n",
              "      <td>United States</td>\n",
              "      <td>Fort Lauderdale</td>\n",
              "      <td>Florida</td>\n",
              "      <td>33311</td>\n",
              "      <td>South</td>\n",
              "    </tr>\n",
              "    <tr>\n",
              "      <th>BH-11710</th>\n",
              "      <td>Brosina Hoffman</td>\n",
              "      <td>Consumer</td>\n",
              "      <td>20</td>\n",
              "      <td>United States</td>\n",
              "      <td>Los Angeles</td>\n",
              "      <td>California</td>\n",
              "      <td>90032</td>\n",
              "      <td>West</td>\n",
              "    </tr>\n",
              "    <tr>\n",
              "      <th>AA-10480</th>\n",
              "      <td>Andrew Allen</td>\n",
              "      <td>Consumer</td>\n",
              "      <td>50</td>\n",
              "      <td>United States</td>\n",
              "      <td>Concord</td>\n",
              "      <td>North Carolina</td>\n",
              "      <td>28027</td>\n",
              "      <td>South</td>\n",
              "    </tr>\n",
              "  </tbody>\n",
              "</table>\n",
              "</div>"
            ],
            "text/plain": [
              "               Customer Name    Segment  ...  Postal Code Region\n",
              "Customer ID                              ...                    \n",
              "CG-12520         Claire Gute   Consumer  ...        42420  South\n",
              "DV-13045     Darrin Van Huff  Corporate  ...        90036   West\n",
              "SO-20335      Sean O'Donnell   Consumer  ...        33311  South\n",
              "BH-11710     Brosina Hoffman   Consumer  ...        90032   West\n",
              "AA-10480        Andrew Allen   Consumer  ...        28027  South\n",
              "\n",
              "[5 rows x 8 columns]"
            ]
          },
          "metadata": {
            "tags": []
          },
          "execution_count": 7
        }
      ]
    },
    {
      "cell_type": "code",
      "metadata": {
        "id": "74C3G6KY-2-h",
        "outputId": "f37afb21-0c94-49eb-f25d-4400453cd99a",
        "colab": {
          "base_uri": "https://localhost:8080/",
          "height": 294
        }
      },
      "source": [
        "data1.describe()"
      ],
      "execution_count": null,
      "outputs": [
        {
          "output_type": "execute_result",
          "data": {
            "text/html": [
              "<div>\n",
              "<style scoped>\n",
              "    .dataframe tbody tr th:only-of-type {\n",
              "        vertical-align: middle;\n",
              "    }\n",
              "\n",
              "    .dataframe tbody tr th {\n",
              "        vertical-align: top;\n",
              "    }\n",
              "\n",
              "    .dataframe thead th {\n",
              "        text-align: right;\n",
              "    }\n",
              "</style>\n",
              "<table border=\"1\" class=\"dataframe\">\n",
              "  <thead>\n",
              "    <tr style=\"text-align: right;\">\n",
              "      <th></th>\n",
              "      <th>Age</th>\n",
              "      <th>Postal Code</th>\n",
              "    </tr>\n",
              "  </thead>\n",
              "  <tbody>\n",
              "    <tr>\n",
              "      <th>count</th>\n",
              "      <td>793.000000</td>\n",
              "      <td>793.000000</td>\n",
              "    </tr>\n",
              "    <tr>\n",
              "      <th>mean</th>\n",
              "      <td>44.467844</td>\n",
              "      <td>55229.717528</td>\n",
              "    </tr>\n",
              "    <tr>\n",
              "      <th>std</th>\n",
              "      <td>15.526673</td>\n",
              "      <td>31679.223816</td>\n",
              "    </tr>\n",
              "    <tr>\n",
              "      <th>min</th>\n",
              "      <td>18.000000</td>\n",
              "      <td>1841.000000</td>\n",
              "    </tr>\n",
              "    <tr>\n",
              "      <th>25%</th>\n",
              "      <td>31.000000</td>\n",
              "      <td>27217.000000</td>\n",
              "    </tr>\n",
              "    <tr>\n",
              "      <th>50%</th>\n",
              "      <td>45.000000</td>\n",
              "      <td>55901.000000</td>\n",
              "    </tr>\n",
              "    <tr>\n",
              "      <th>75%</th>\n",
              "      <td>58.000000</td>\n",
              "      <td>90004.000000</td>\n",
              "    </tr>\n",
              "    <tr>\n",
              "      <th>max</th>\n",
              "      <td>70.000000</td>\n",
              "      <td>99207.000000</td>\n",
              "    </tr>\n",
              "  </tbody>\n",
              "</table>\n",
              "</div>"
            ],
            "text/plain": [
              "              Age   Postal Code\n",
              "count  793.000000    793.000000\n",
              "mean    44.467844  55229.717528\n",
              "std     15.526673  31679.223816\n",
              "min     18.000000   1841.000000\n",
              "25%     31.000000  27217.000000\n",
              "50%     45.000000  55901.000000\n",
              "75%     58.000000  90004.000000\n",
              "max     70.000000  99207.000000"
            ]
          },
          "metadata": {
            "tags": []
          },
          "execution_count": 8
        }
      ]
    },
    {
      "cell_type": "code",
      "metadata": {
        "id": "p2lni_gC_PpK",
        "outputId": "d5279098-f70a-4a89-ff78-a15fee8aea0e",
        "colab": {
          "base_uri": "https://localhost:8080/",
          "height": 191
        }
      },
      "source": [
        "data1.iloc[0]"
      ],
      "execution_count": null,
      "outputs": [
        {
          "output_type": "execute_result",
          "data": {
            "text/plain": [
              "Customer ID           CG-12520\n",
              "Customer Name      Claire Gute\n",
              "Segment               Consumer\n",
              "Age                         67\n",
              "Country          United States\n",
              "City                 Henderson\n",
              "State                 Kentucky\n",
              "Postal Code              42420\n",
              "Region                   South\n",
              "Name: 0, dtype: object"
            ]
          },
          "metadata": {
            "tags": []
          },
          "execution_count": 9
        }
      ]
    },
    {
      "cell_type": "code",
      "metadata": {
        "id": "bu0-0VRZ_b4B",
        "outputId": "e195d195-0b86-4ad6-b1e4-4c60a7a45b43",
        "colab": {
          "base_uri": "https://localhost:8080/",
          "height": 173
        }
      },
      "source": [
        "data2.loc['CG-12520']"
      ],
      "execution_count": null,
      "outputs": [
        {
          "output_type": "execute_result",
          "data": {
            "text/plain": [
              "Customer Name      Claire Gute\n",
              "Segment               Consumer\n",
              "Age                         67\n",
              "Country          United States\n",
              "City                 Henderson\n",
              "State                 Kentucky\n",
              "Postal Code              42420\n",
              "Region                   South\n",
              "Name: CG-12520, dtype: object"
            ]
          },
          "metadata": {
            "tags": []
          },
          "execution_count": 10
        }
      ]
    },
    {
      "cell_type": "code",
      "metadata": {
        "id": "xRJKrG0O_kvq",
        "outputId": "a272e353-00cd-41ff-d4f8-c798c6d66b4e",
        "colab": {
          "base_uri": "https://localhost:8080/",
          "height": 233
        }
      },
      "source": [
        "data2.iloc[0:5]"
      ],
      "execution_count": null,
      "outputs": [
        {
          "output_type": "execute_result",
          "data": {
            "text/html": [
              "<div>\n",
              "<style scoped>\n",
              "    .dataframe tbody tr th:only-of-type {\n",
              "        vertical-align: middle;\n",
              "    }\n",
              "\n",
              "    .dataframe tbody tr th {\n",
              "        vertical-align: top;\n",
              "    }\n",
              "\n",
              "    .dataframe thead th {\n",
              "        text-align: right;\n",
              "    }\n",
              "</style>\n",
              "<table border=\"1\" class=\"dataframe\">\n",
              "  <thead>\n",
              "    <tr style=\"text-align: right;\">\n",
              "      <th></th>\n",
              "      <th>Customer Name</th>\n",
              "      <th>Segment</th>\n",
              "      <th>Age</th>\n",
              "      <th>Country</th>\n",
              "      <th>City</th>\n",
              "      <th>State</th>\n",
              "      <th>Postal Code</th>\n",
              "      <th>Region</th>\n",
              "    </tr>\n",
              "    <tr>\n",
              "      <th>Customer ID</th>\n",
              "      <th></th>\n",
              "      <th></th>\n",
              "      <th></th>\n",
              "      <th></th>\n",
              "      <th></th>\n",
              "      <th></th>\n",
              "      <th></th>\n",
              "      <th></th>\n",
              "    </tr>\n",
              "  </thead>\n",
              "  <tbody>\n",
              "    <tr>\n",
              "      <th>CG-12520</th>\n",
              "      <td>Claire Gute</td>\n",
              "      <td>Consumer</td>\n",
              "      <td>67</td>\n",
              "      <td>United States</td>\n",
              "      <td>Henderson</td>\n",
              "      <td>Kentucky</td>\n",
              "      <td>42420</td>\n",
              "      <td>South</td>\n",
              "    </tr>\n",
              "    <tr>\n",
              "      <th>DV-13045</th>\n",
              "      <td>Darrin Van Huff</td>\n",
              "      <td>Corporate</td>\n",
              "      <td>31</td>\n",
              "      <td>United States</td>\n",
              "      <td>Los Angeles</td>\n",
              "      <td>California</td>\n",
              "      <td>90036</td>\n",
              "      <td>West</td>\n",
              "    </tr>\n",
              "    <tr>\n",
              "      <th>SO-20335</th>\n",
              "      <td>Sean O'Donnell</td>\n",
              "      <td>Consumer</td>\n",
              "      <td>65</td>\n",
              "      <td>United States</td>\n",
              "      <td>Fort Lauderdale</td>\n",
              "      <td>Florida</td>\n",
              "      <td>33311</td>\n",
              "      <td>South</td>\n",
              "    </tr>\n",
              "    <tr>\n",
              "      <th>BH-11710</th>\n",
              "      <td>Brosina Hoffman</td>\n",
              "      <td>Consumer</td>\n",
              "      <td>20</td>\n",
              "      <td>United States</td>\n",
              "      <td>Los Angeles</td>\n",
              "      <td>California</td>\n",
              "      <td>90032</td>\n",
              "      <td>West</td>\n",
              "    </tr>\n",
              "    <tr>\n",
              "      <th>AA-10480</th>\n",
              "      <td>Andrew Allen</td>\n",
              "      <td>Consumer</td>\n",
              "      <td>50</td>\n",
              "      <td>United States</td>\n",
              "      <td>Concord</td>\n",
              "      <td>North Carolina</td>\n",
              "      <td>28027</td>\n",
              "      <td>South</td>\n",
              "    </tr>\n",
              "  </tbody>\n",
              "</table>\n",
              "</div>"
            ],
            "text/plain": [
              "               Customer Name    Segment  ...  Postal Code Region\n",
              "Customer ID                              ...                    \n",
              "CG-12520         Claire Gute   Consumer  ...        42420  South\n",
              "DV-13045     Darrin Van Huff  Corporate  ...        90036   West\n",
              "SO-20335      Sean O'Donnell   Consumer  ...        33311  South\n",
              "BH-11710     Brosina Hoffman   Consumer  ...        90032   West\n",
              "AA-10480        Andrew Allen   Consumer  ...        28027  South\n",
              "\n",
              "[5 rows x 8 columns]"
            ]
          },
          "metadata": {
            "tags": []
          },
          "execution_count": 11
        }
      ]
    }
  ]
}